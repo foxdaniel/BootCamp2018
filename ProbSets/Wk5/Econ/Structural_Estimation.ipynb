{
 "cells": [
  {
   "cell_type": "markdown",
   "metadata": {},
   "source": [
    "**Exercise 1**"
   ]
  },
  {
   "cell_type": "code",
   "execution_count": 1,
   "metadata": {},
   "outputs": [],
   "source": [
    "import pandas as pd\n",
    "import matplotlib.pyplot as plt\n",
    "import numpy as np\n",
    "import math\n",
    "import scipy.optimize as opt\n",
    "import scipy.special as sp\n",
    "import scipy.stats as stat\n",
    "import scipy.integrate as intg\n",
    "import scipy.linalg as lin"
   ]
  },
  {
   "cell_type": "code",
   "execution_count": 2,
   "metadata": {},
   "outputs": [
    {
     "data": {
      "text/html": [
       "<div>\n",
       "<style scoped>\n",
       "    .dataframe tbody tr th:only-of-type {\n",
       "        vertical-align: middle;\n",
       "    }\n",
       "\n",
       "    .dataframe tbody tr th {\n",
       "        vertical-align: top;\n",
       "    }\n",
       "\n",
       "    .dataframe thead th {\n",
       "        text-align: right;\n",
       "    }\n",
       "</style>\n",
       "<table border=\"1\" class=\"dataframe\">\n",
       "  <thead>\n",
       "    <tr style=\"text-align: right;\">\n",
       "      <th></th>\n",
       "      <th>clms</th>\n",
       "    </tr>\n",
       "  </thead>\n",
       "  <tbody>\n",
       "    <tr>\n",
       "      <th>0</th>\n",
       "      <td>361.65</td>\n",
       "    </tr>\n",
       "    <tr>\n",
       "      <th>1</th>\n",
       "      <td>123.04</td>\n",
       "    </tr>\n",
       "    <tr>\n",
       "      <th>2</th>\n",
       "      <td>541.77</td>\n",
       "    </tr>\n",
       "    <tr>\n",
       "      <th>3</th>\n",
       "      <td>862.90</td>\n",
       "    </tr>\n",
       "    <tr>\n",
       "      <th>4</th>\n",
       "      <td>55.60</td>\n",
       "    </tr>\n",
       "    <tr>\n",
       "      <th>5</th>\n",
       "      <td>3728.56</td>\n",
       "    </tr>\n",
       "    <tr>\n",
       "      <th>6</th>\n",
       "      <td>70.00</td>\n",
       "    </tr>\n",
       "    <tr>\n",
       "      <th>7</th>\n",
       "      <td>730.63</td>\n",
       "    </tr>\n",
       "    <tr>\n",
       "      <th>8</th>\n",
       "      <td>420.56</td>\n",
       "    </tr>\n",
       "    <tr>\n",
       "      <th>9</th>\n",
       "      <td>81.63</td>\n",
       "    </tr>\n",
       "    <tr>\n",
       "      <th>10</th>\n",
       "      <td>226.01</td>\n",
       "    </tr>\n",
       "    <tr>\n",
       "      <th>11</th>\n",
       "      <td>1146.88</td>\n",
       "    </tr>\n",
       "    <tr>\n",
       "      <th>12</th>\n",
       "      <td>84.43</td>\n",
       "    </tr>\n",
       "    <tr>\n",
       "      <th>13</th>\n",
       "      <td>86.83</td>\n",
       "    </tr>\n",
       "    <tr>\n",
       "      <th>14</th>\n",
       "      <td>298.60</td>\n",
       "    </tr>\n",
       "    <tr>\n",
       "      <th>15</th>\n",
       "      <td>176.27</td>\n",
       "    </tr>\n",
       "    <tr>\n",
       "      <th>16</th>\n",
       "      <td>17.19</td>\n",
       "    </tr>\n",
       "    <tr>\n",
       "      <th>17</th>\n",
       "      <td>190.33</td>\n",
       "    </tr>\n",
       "    <tr>\n",
       "      <th>18</th>\n",
       "      <td>101.54</td>\n",
       "    </tr>\n",
       "    <tr>\n",
       "      <th>19</th>\n",
       "      <td>3476.48</td>\n",
       "    </tr>\n",
       "    <tr>\n",
       "      <th>20</th>\n",
       "      <td>2162.74</td>\n",
       "    </tr>\n",
       "    <tr>\n",
       "      <th>21</th>\n",
       "      <td>183.83</td>\n",
       "    </tr>\n",
       "    <tr>\n",
       "      <th>22</th>\n",
       "      <td>50.00</td>\n",
       "    </tr>\n",
       "    <tr>\n",
       "      <th>23</th>\n",
       "      <td>152.83</td>\n",
       "    </tr>\n",
       "    <tr>\n",
       "      <th>24</th>\n",
       "      <td>198.65</td>\n",
       "    </tr>\n",
       "    <tr>\n",
       "      <th>25</th>\n",
       "      <td>47.49</td>\n",
       "    </tr>\n",
       "    <tr>\n",
       "      <th>26</th>\n",
       "      <td>50.00</td>\n",
       "    </tr>\n",
       "    <tr>\n",
       "      <th>27</th>\n",
       "      <td>586.59</td>\n",
       "    </tr>\n",
       "    <tr>\n",
       "      <th>28</th>\n",
       "      <td>114.97</td>\n",
       "    </tr>\n",
       "    <tr>\n",
       "      <th>29</th>\n",
       "      <td>161.99</td>\n",
       "    </tr>\n",
       "    <tr>\n",
       "      <th>...</th>\n",
       "      <td>...</td>\n",
       "    </tr>\n",
       "    <tr>\n",
       "      <th>10589</th>\n",
       "      <td>191.24</td>\n",
       "    </tr>\n",
       "    <tr>\n",
       "      <th>10590</th>\n",
       "      <td>12.74</td>\n",
       "    </tr>\n",
       "    <tr>\n",
       "      <th>10591</th>\n",
       "      <td>137.44</td>\n",
       "    </tr>\n",
       "    <tr>\n",
       "      <th>10592</th>\n",
       "      <td>163.52</td>\n",
       "    </tr>\n",
       "    <tr>\n",
       "      <th>10593</th>\n",
       "      <td>112.40</td>\n",
       "    </tr>\n",
       "    <tr>\n",
       "      <th>10594</th>\n",
       "      <td>29.04</td>\n",
       "    </tr>\n",
       "    <tr>\n",
       "      <th>10595</th>\n",
       "      <td>62.30</td>\n",
       "    </tr>\n",
       "    <tr>\n",
       "      <th>10596</th>\n",
       "      <td>859.43</td>\n",
       "    </tr>\n",
       "    <tr>\n",
       "      <th>10597</th>\n",
       "      <td>833.54</td>\n",
       "    </tr>\n",
       "    <tr>\n",
       "      <th>10598</th>\n",
       "      <td>8.00</td>\n",
       "    </tr>\n",
       "    <tr>\n",
       "      <th>10599</th>\n",
       "      <td>265.63</td>\n",
       "    </tr>\n",
       "    <tr>\n",
       "      <th>10600</th>\n",
       "      <td>298.59</td>\n",
       "    </tr>\n",
       "    <tr>\n",
       "      <th>10601</th>\n",
       "      <td>29.16</td>\n",
       "    </tr>\n",
       "    <tr>\n",
       "      <th>10602</th>\n",
       "      <td>14955.87</td>\n",
       "    </tr>\n",
       "    <tr>\n",
       "      <th>10603</th>\n",
       "      <td>12483.61</td>\n",
       "    </tr>\n",
       "    <tr>\n",
       "      <th>10604</th>\n",
       "      <td>679.28</td>\n",
       "    </tr>\n",
       "    <tr>\n",
       "      <th>10605</th>\n",
       "      <td>1016.47</td>\n",
       "    </tr>\n",
       "    <tr>\n",
       "      <th>10606</th>\n",
       "      <td>130.36</td>\n",
       "    </tr>\n",
       "    <tr>\n",
       "      <th>10607</th>\n",
       "      <td>187.91</td>\n",
       "    </tr>\n",
       "    <tr>\n",
       "      <th>10608</th>\n",
       "      <td>164.53</td>\n",
       "    </tr>\n",
       "    <tr>\n",
       "      <th>10609</th>\n",
       "      <td>1506.16</td>\n",
       "    </tr>\n",
       "    <tr>\n",
       "      <th>10610</th>\n",
       "      <td>154.37</td>\n",
       "    </tr>\n",
       "    <tr>\n",
       "      <th>10611</th>\n",
       "      <td>158.79</td>\n",
       "    </tr>\n",
       "    <tr>\n",
       "      <th>10612</th>\n",
       "      <td>55.99</td>\n",
       "    </tr>\n",
       "    <tr>\n",
       "      <th>10613</th>\n",
       "      <td>88.41</td>\n",
       "    </tr>\n",
       "    <tr>\n",
       "      <th>10614</th>\n",
       "      <td>7294.00</td>\n",
       "    </tr>\n",
       "    <tr>\n",
       "      <th>10615</th>\n",
       "      <td>269.00</td>\n",
       "    </tr>\n",
       "    <tr>\n",
       "      <th>10616</th>\n",
       "      <td>97.43</td>\n",
       "    </tr>\n",
       "    <tr>\n",
       "      <th>10617</th>\n",
       "      <td>186.88</td>\n",
       "    </tr>\n",
       "    <tr>\n",
       "      <th>10618</th>\n",
       "      <td>119.19</td>\n",
       "    </tr>\n",
       "  </tbody>\n",
       "</table>\n",
       "<p>10619 rows × 1 columns</p>\n",
       "</div>"
      ],
      "text/plain": [
       "           clms\n",
       "0        361.65\n",
       "1        123.04\n",
       "2        541.77\n",
       "3        862.90\n",
       "4         55.60\n",
       "5       3728.56\n",
       "6         70.00\n",
       "7        730.63\n",
       "8        420.56\n",
       "9         81.63\n",
       "10       226.01\n",
       "11      1146.88\n",
       "12        84.43\n",
       "13        86.83\n",
       "14       298.60\n",
       "15       176.27\n",
       "16        17.19\n",
       "17       190.33\n",
       "18       101.54\n",
       "19      3476.48\n",
       "20      2162.74\n",
       "21       183.83\n",
       "22        50.00\n",
       "23       152.83\n",
       "24       198.65\n",
       "25        47.49\n",
       "26        50.00\n",
       "27       586.59\n",
       "28       114.97\n",
       "29       161.99\n",
       "...         ...\n",
       "10589    191.24\n",
       "10590     12.74\n",
       "10591    137.44\n",
       "10592    163.52\n",
       "10593    112.40\n",
       "10594     29.04\n",
       "10595     62.30\n",
       "10596    859.43\n",
       "10597    833.54\n",
       "10598      8.00\n",
       "10599    265.63\n",
       "10600    298.59\n",
       "10601     29.16\n",
       "10602  14955.87\n",
       "10603  12483.61\n",
       "10604    679.28\n",
       "10605   1016.47\n",
       "10606    130.36\n",
       "10607    187.91\n",
       "10608    164.53\n",
       "10609   1506.16\n",
       "10610    154.37\n",
       "10611    158.79\n",
       "10612     55.99\n",
       "10613     88.41\n",
       "10614   7294.00\n",
       "10615    269.00\n",
       "10616     97.43\n",
       "10617    186.88\n",
       "10618    119.19\n",
       "\n",
       "[10619 rows x 1 columns]"
      ]
     },
     "execution_count": 2,
     "metadata": {},
     "output_type": "execute_result"
    }
   ],
   "source": [
    "health = pd.read_csv(\"C:/Users/danie/BootCamp2018/Econ/Wk5_StrEst/data/clms.txt\", header=None, names=['clms'])\n",
    "health # scope out the data"
   ]
  },
  {
   "cell_type": "markdown",
   "metadata": {},
   "source": [
    "**(a)**"
   ]
  },
  {
   "cell_type": "code",
   "execution_count": 3,
   "metadata": {},
   "outputs": [
    {
     "name": "stdout",
     "output_type": "stream",
     "text": [
      "                clms\n",
      "count   10619.000000\n",
      "mean      720.277975\n",
      "std      3972.850824\n",
      "min         0.010000\n",
      "25%        74.450000\n",
      "50%       172.210000\n",
      "75%       451.535000\n",
      "max    227967.250000\n"
     ]
    }
   ],
   "source": [
    "print(health.describe())"
   ]
  },
  {
   "cell_type": "code",
   "execution_count": 4,
   "metadata": {},
   "outputs": [
    {
     "data": {
      "image/png": "[encoded data removed]",
      "text/plain": [
       "<Figure size 864x432 with 1 Axes>"
      ]
     },
     "metadata": {},
     "output_type": "display_data"
    },
    {
     "data": {
      "image/png": "[encoded data removed]",
      "text/plain": [
       "<Figure size 720x360 with 1 Axes>"
      ]
     },
     "metadata": {},
     "output_type": "display_data"
    }
   ],
   "source": [
    "# Plots\n",
    "\n",
    "plt.subplots(figsize=(12, 6))\n",
    "weights = (1/len(health)) * np.ones_like(health[\"clms\"])\n",
    "plt.hist(health[\"clms\"], 1000, weights = weights)\n",
    "plt.title(\"Frequency of Health Claims\")\n",
    "plt.ylabel(\"Frequency\")\n",
    "plt.xlabel(\"Value of Monthly Health Expenditures\")\n",
    "plt.show()\n",
    "\n",
    "plt.subplots(figsize=(10, 5))\n",
    "weights = (1/len(health)) * np.ones_like(health[health[\"clms\"] < 800])\n",
    "plt.hist(health[health[\"clms\"] < 800][\"clms\"], 100, weights = weights, \n",
    "         edgecolor='k')\n",
    "plt.title(\"Frequency of Health Claims Less than or Equal to $800\")\n",
    "plt.ylabel(\"Frequency\")\n",
    "plt.xlabel(\"Value of Monthly Health Expenditures\")\n",
    "plt.show()"
   ]
  },
  {
   "cell_type": "markdown",
   "metadata": {},
   "source": [
    "I would prefer the second histogram because the majority of the data lie within the set of claims less than $800. So the second histogram provides a better representation of the sample."
   ]
  },
  {
   "cell_type": "markdown",
   "metadata": {},
   "source": [
    "**(b)**"
   ]
  },
  {
   "cell_type": "code",
   "execution_count": 5,
   "metadata": {},
   "outputs": [],
   "source": [
    "def GA(x, a, b): \n",
    "    \n",
    "    G = math.gamma(a)\n",
    "    distr = (1/((b ** a) * G)) * ( x ** (a - 1)) * (np.exp(-(x / b)))\n",
    "    return distr\n",
    "    \n",
    "def LogLikeGA(xvals, α, β):\n",
    "\n",
    "    distrvals = GA(xvals, α, β)\n",
    "    ln_distrvals = np.log(distrvals)\n",
    "    l_vals = ln_distrvals.sum()\n",
    "    return l_vals\n",
    "\n",
    "def GA_cr(params, *args):\n",
    "\n",
    "    α, β = params\n",
    "    xvals = args\n",
    "    l_vals = LogLikeGA(xvals, α, β)\n",
    "    sign_ll = -l_vals\n",
    "    return sign_ll"
   ]
  },
  {
   "cell_type": "code",
   "execution_count": 6,
   "metadata": {},
   "outputs": [
    {
     "name": "stdout",
     "output_type": "stream",
     "text": [
      "      fun: 82076.64049645475\n",
      " hess_inv: <2x2 LbfgsInvHessProduct with dtype=float64>\n",
      "      jac: array([0.00145519, 0.09022187])\n",
      "  message: b'CONVERGENCE: REL_REDUCTION_OF_F_<=_FACTR*EPSMCH'\n",
      "     nfev: 33\n",
      "      nit: 8\n",
      "   status: 0\n",
      "  success: True\n",
      "        x: array([2.21750964e-01, 2.19131283e+04])\n"
     ]
    },
    {
     "name": "stderr",
     "output_type": "stream",
     "text": [
      "C:\\Users\\danie\\AppData\\Local\\Continuum\\anaconda3\\lib\\site-packages\\matplotlib\\axes\\_axes.py:6462: UserWarning: The 'normed' kwarg is deprecated, and has been replaced by the 'density' kwarg.\n",
      "  warnings.warn(\"The 'normed' kwarg is deprecated, and has been \"\n"
     ]
    },
    {
     "data": {
      "image/png": "[encoded data removed]",
      "text/plain": [
       "<Figure size 720x360 with 1 Axes>"
      ]
     },
     "metadata": {},
     "output_type": "display_data"
    }
   ],
   "source": [
    "#MLE\n",
    "β_0 = health[\"clms\"].var()/health[\"clms\"].mean()\n",
    "α_0 = health[\"clms\"].mean()/β_0\n",
    "params_0 = np.array([α_0, β_0])\n",
    "args_mle = (health[\"clms\"])\n",
    "results = opt.minimize(GA_cr, params_0, args=(args_mle), method='L-BFGS-B', \\\n",
    "                       bounds=((1e-10, None), (1e-10, None)))\n",
    "α_hat, β_hat = results.x\n",
    "print(results)\n",
    "\n",
    "#MLE plot \n",
    "plt.subplots(figsize=(10, 5))\n",
    "weights = (1/len(health)) * np.ones_like(health[health[\"clms\"] < 800])\n",
    "plt.hist(health[health[\"clms\"] < 800][\"clms\"], 100, normed = True,\n",
    "        edgecolor='k')\n",
    "plt.title(\"Frequency of Health Claims Less than or Equal to $800\")\n",
    "plt.ylabel(\"Frequency\")\n",
    "plt.xlabel(\"Value of Monthly Health Expenditures\")\n",
    "plt.ylim(0, 0.006)\n",
    "dist_pts = np.linspace(1e-10, 800, 100)\n",
    "plt.plot(dist_pts, GA(dist_pts, α_hat, β_hat),\n",
    "         linewidth=2, color='k')\n",
    "plt.show()"
   ]
  },
  {
   "cell_type": "markdown",
   "metadata": {},
   "source": [
    "**(c)**"
   ]
  },
  {
   "cell_type": "code",
   "execution_count": 7,
   "metadata": {},
   "outputs": [],
   "source": [
    "def GG(x, a, b, m): \n",
    "    \n",
    "    G = math.gamma(a / m)\n",
    "    distr = (m / ((b ** a) * G)) * (x ** (a - 1)) * (np.exp(-(x / b) ** m))\n",
    "    return distr\n",
    "    \n",
    "def LogLikeGG(xvals, α, β, m):\n",
    "\n",
    "    distrvals = GG(xvals, α, β, m)\n",
    "    ln_distrvals = np.log(distrvals)\n",
    "    l_vals = ln_distrvals.sum()\n",
    "    return l_vals\n",
    "\n",
    "def GG_cr(params, *args):\n",
    "\n",
    "    α, β, m = params\n",
    "    xvals = args\n",
    "    l_vals = LogLikeGG(xvals, α, β, m)\n",
    "    sign_l = -l_vals\n",
    "    return sign_l"
   ]
  },
  {
   "cell_type": "code",
   "execution_count": 8,
   "metadata": {},
   "outputs": [
    {
     "name": "stdout",
     "output_type": "stream",
     "text": [
      "      fun: 82076.63563065456\n",
      " hess_inv: <3x3 LbfgsInvHessProduct with dtype=float64>\n",
      "      jac: array([ 2.62079993,  0.09167707, -1.08848326])\n",
      "  message: b'CONVERGENCE: REL_REDUCTION_OF_F_<=_FACTR*EPSMCH'\n",
      "     nfev: 24\n",
      "      nit: 2\n",
      "   status: 0\n",
      "  success: True\n",
      "        x: array([2.21760611e-01, 2.19131280e+04, 9.97055896e-01])\n"
     ]
    },
    {
     "name": "stderr",
     "output_type": "stream",
     "text": [
      "C:\\Users\\danie\\AppData\\Local\\Continuum\\anaconda3\\lib\\site-packages\\matplotlib\\axes\\_axes.py:6462: UserWarning: The 'normed' kwarg is deprecated, and has been replaced by the 'density' kwarg.\n",
      "  warnings.warn(\"The 'normed' kwarg is deprecated, and has been \"\n"
     ]
    },
    {
     "data": {
      "image/png": "[encoded data removed]",
      "text/plain": [
       "<Figure size 720x360 with 1 Axes>"
      ]
     },
     "metadata": {},
     "output_type": "display_data"
    }
   ],
   "source": [
    "#MLE\n",
    "#calculate MLE\n",
    "β_0 = β_hat\n",
    "α_0 = α_hat\n",
    "m_0 = 1\n",
    "params_0 = np.array([α_0, β_0, m_0])\n",
    "args_mle = (health[\"clms\"])\n",
    "results = opt.minimize(GG_cr, params_0, args=(args_mle), method='L-BFGS-B', \\\n",
    "                       bounds=((1e-10, None), (1e-10, None), (1e-10, None)))\n",
    "α_GGhat, β_GGhat, m_GGhat = results.x\n",
    "print(results)\n",
    "\n",
    "#Plot MLE with histogram \n",
    "plt.subplots(figsize=(10, 5))\n",
    "weights = (1/len(health)) * np.ones_like(health[health[\"clms\"] < 800])\n",
    "plt.hist(health[health[\"clms\"] < 800][\"clms\"], 100, normed = True,\n",
    "        edgecolor='k')\n",
    "plt.title(\"Frequency of Health Claims Less than or Equal to $800\")\n",
    "plt.ylabel(\"Frequency\")\n",
    "plt.xlabel(\"Value of Monthly Health Expenditures\")\n",
    "plt.ylim(0, 0.006)\n",
    "dist_pts = np.linspace(1e-10, 800, 100)\n",
    "plt.plot(dist_pts, GG(dist_pts, α_GGhat, β_GGhat, m_GGhat),\n",
    "         linewidth=2, color='k')\n",
    "plt.show()"
   ]
  },
  {
   "cell_type": "markdown",
   "metadata": {},
   "source": [
    "**(d)**"
   ]
  },
  {
   "cell_type": "code",
   "execution_count": 9,
   "metadata": {},
   "outputs": [],
   "source": [
    "def GB2(x, a, b, p,q): \n",
    "    \n",
    "    numer = a * x ** (a * p - 1)\n",
    "    denom  = b ** (a * p) * sp.beta(p, q) * (1 + (x / b) ** a)\\\n",
    "                                                        ** (p + q)\n",
    "    return numer / denom\n",
    "    \n",
    "def LogLikeGB2(xvals, a, b, p, q):\n",
    "\n",
    "    distrvals = GB2(xvals, a, b, p,q)\n",
    "    ln_distrvals = np.log(distrvals)\n",
    "    l_vals = ln_distrvals.sum()\n",
    "    return l_vals\n",
    "\n",
    "def GB2_cr(params, *args):\n",
    "\n",
    "    a, b, p, q = params\n",
    "    xvals = args\n",
    "    l_vals = LogLikeGB2(xvals, a, b, p, q)\n",
    "    sign_l = -l_vals\n",
    "    return sign_l\n"
   ]
  },
  {
   "cell_type": "code",
   "execution_count": 10,
   "metadata": {},
   "outputs": [
    {
     "name": "stdout",
     "output_type": "stream",
     "text": [
      "      fun: 76475.69951018412\n",
      " hess_inv: <4x4 LbfgsInvHessProduct with dtype=float64>\n",
      "      jac: array([ 1.61817297,  0.        , 14.34236765,  1.08702807])\n",
      "  message: b'CONVERGENCE: REL_REDUCTION_OF_F_<=_FACTR*EPSMCH'\n",
      "     nfev: 145\n",
      "      nit: 11\n",
      "   status: 0\n",
      "  success: True\n",
      "        x: array([7.03147787e-01, 2.13269112e+08, 9.85049218e-01, 9.99998571e+03])\n"
     ]
    },
    {
     "name": "stderr",
     "output_type": "stream",
     "text": [
      "C:\\Users\\danie\\AppData\\Local\\Continuum\\anaconda3\\lib\\site-packages\\matplotlib\\axes\\_axes.py:6462: UserWarning: The 'normed' kwarg is deprecated, and has been replaced by the 'density' kwarg.\n",
      "  warnings.warn(\"The 'normed' kwarg is deprecated, and has been \"\n"
     ]
    },
    {
     "data": {
      "image/png": "[encoded data removed]",
      "text/plain": [
       "<Figure size 720x360 with 1 Axes>"
      ]
     },
     "metadata": {},
     "output_type": "display_data"
    }
   ],
   "source": [
    "# MLE\n",
    "a_0 = m_GGhat\n",
    "q_0 = 10000\n",
    "b_0 = q_0 **(m_GGhat) * β_GGhat\n",
    "p_0 = α_GGhat / m_GGhat\n",
    "\n",
    "params_0 = np.array([a_0, b_0, p_0, q_0])\n",
    "args_mle = (health[\"clms\"])\n",
    "results = opt.minimize(GB2_cr, params_0, args=(args_mle), method='L-BFGS-B', \\\n",
    "                       bounds=((1e-10, None), (1e-10, None), (1e-10, None), \n",
    "                               (1e-10, None)))\n",
    "a_GB2hat, b_GB2hat, p_GB2hat, q_GB2hat = results.x\n",
    "print(results)\n",
    "\n",
    "#MLE plot \n",
    "plt.subplots(figsize=(10, 5))\n",
    "weights = (1/len(health)) * np.ones_like(health[health[\"clms\"] < 800])\n",
    "plt.hist(health[health[\"clms\"] < 800][\"clms\"], 100, normed = True,\n",
    "        edgecolor='k')\n",
    "plt.title(\"Frequency of Health Claims Less than or Equal to $800\")\n",
    "plt.ylabel(\"Frequency\")\n",
    "plt.xlabel(\"Value of Monthly Health Expenditures\")\n",
    "plt.ylim(0, 0.006)\n",
    "dist_pts = np.linspace(1e-10, 800, 100)\n",
    "plt.plot(dist_pts, GB2(dist_pts, a_GB2hat, b_GB2hat, p_GB2hat, q_GB2hat),\n",
    "         linewidth=2, color='k')\n",
    "plt.show()"
   ]
  },
  {
   "cell_type": "markdown",
   "metadata": {},
   "source": [
    "**(e)**"
   ]
  },
  {
   "cell_type": "code",
   "execution_count": 11,
   "metadata": {},
   "outputs": [
    {
     "name": "stdout",
     "output_type": "stream",
     "text": [
      "chi squared (4) GA =  0.0\n",
      "chi squared (4) GG =  0.0\n"
     ]
    }
   ],
   "source": [
    "h_0 = LogLikeGA(health[\"clms\"], α_hat, β_hat)\n",
    "mle = LogLikeGB2(health[\"clms\"], a_GB2hat, b_GB2hat, p_GB2hat, q_GB2hat)\n",
    "val = 2 * (mle - h_0)\n",
    "GApval = 1.0 - stat.chi2.cdf(val, 4)\n",
    "print('chi squared (4) GA = ', GApval)\n",
    "\n",
    "h_0 = LogLikeGG(health[\"clms\"], α_GGhat, β_GGhat, m_GGhat)\n",
    "val = 2 * (mle - h_0)\n",
    "GGpval = 1.0 - stat.chi2.cdf(val, 4)\n",
    "print('chi squared (4) GG = ', GGpval)"
   ]
  },
  {
   "cell_type": "markdown",
   "metadata": {},
   "source": [
    "**(f)**"
   ]
  },
  {
   "cell_type": "code",
   "execution_count": 12,
   "metadata": {},
   "outputs": [
    {
     "name": "stdout",
     "output_type": "stream",
     "text": [
      "(0.16304448051907652, 7.818147402444779e-09)\n",
      "(0.4519639472347076, 8.886921127699774e-09)\n"
     ]
    }
   ],
   "source": [
    "GB2_params = (a_GB2hat, b_GB2hat, p_GB2hat, q_GB2hat)\n",
    "pr_GB2 = intg.quad(GB2, 1000, np.inf, args = GB2_params)\n",
    "print(pr_GB2)\n",
    "\n",
    "GA_params = (α_hat, β_hat)\n",
    "pr_GA = intg.quad(GA, 1000, np.inf, args = GA_params)\n",
    "print(pr_GA)"
   ]
  },
  {
   "cell_type": "markdown",
   "metadata": {},
   "source": [
    "**Exercise 2**"
   ]
  },
  {
   "cell_type": "code",
   "execution_count": 13,
   "metadata": {},
   "outputs": [],
   "source": [
    "c, k, w, r, y  = np.loadtxt(\"C:/Users/danie/BootCamp2018/Econ/Wk5_StrEst/data/MacroSeries.txt\", delimiter = \",\").T"
   ]
  },
  {
   "cell_type": "markdown",
   "metadata": {},
   "source": [
    "**(a)**"
   ]
  },
  {
   "cell_type": "code",
   "execution_count": 14,
   "metadata": {},
   "outputs": [],
   "source": [
    "def Brock(k, w, α, ρ, μ, σ): \n",
    "    \n",
    "    z_t = np.log(w / ((1 - α) * k ** α))\n",
    "    z_tm1 = z_t[:-1]\n",
    "    z_tm1 = np.insert(z_tm1, 0, μ)\n",
    "    prob = stat.norm(ρ * z_tm1 + (1 - ρ) * μ, σ).pdf(z_t)\n",
    "    return prob\n",
    "    \n",
    "def LogLikeBrock(k, w, α, ρ, μ, σ):\n",
    "\n",
    "    distrvals = Brock(k, w, α, ρ, μ, σ)\n",
    "    distrvals[distrvals == 0] = 1e-10\n",
    "    ln_distrvals = np.log(distrvals)\n",
    "    l_vals = ln_distrvals.sum()\n",
    "    return l_vals\n",
    "\n",
    "def Brock_cr(params, *args):\n",
    "\n",
    "    α, ρ, μ, σ = params\n",
    "    k, w = args\n",
    "    l_vals = LogLikeBrock(k, w, α, ρ, μ, σ)\n",
    "    sign_l = -l_vals\n",
    "    return sign_l"
   ]
  },
  {
   "cell_type": "code",
   "execution_count": 15,
   "metadata": {},
   "outputs": [
    {
     "name": "stdout",
     "output_type": "stream",
     "text": [
      "      fun: -95.72590566283311\n",
      " hess_inv: <4x4 LbfgsInvHessProduct with dtype=float64>\n",
      "      jac: array([ 1.89658067e-02,  6.53699317e-05,  2.03215222e-03, -4.12114787e-05])\n",
      "  message: b'CONVERGENCE: REL_REDUCTION_OF_F_<=_FACTR*EPSMCH'\n",
      "     nfev: 365\n",
      "      nit: 45\n",
      "   status: 0\n",
      "  success: True\n",
      "        x: array([0.83983712, 0.53415274, 4.66476847, 0.09290316])\n",
      "[[ 1.43977884e+01 -1.89608771e+01 -1.32519558e+02  9.18707894e-01]\n",
      " [-1.89608771e+01  2.49940710e+01  1.74541666e+02 -1.20801999e+00]\n",
      " [-1.32519558e+02  1.74541666e+02  1.21976436e+03 -8.45313732e+00]\n",
      " [ 9.18707894e-01 -1.20801999e+00 -8.45313732e+00  5.89207858e-02]]\n"
     ]
    }
   ],
   "source": [
    "# MLE\n",
    "\n",
    "α_0 = 0.5\n",
    "ρ_0 = 0.5\n",
    "μ_0 = 1\n",
    "σ_0 = 10\n",
    "\n",
    "params_0 = np.array([α_0, ρ_0, μ_0, σ_0])\n",
    "args_mle = (k, w)\n",
    "results = opt.minimize(Brock_cr, params_0, args=(args_mle), method='L-BFGS-B',\\\n",
    "                       bounds=((1e-10, 0.999999), (-0.999999, 0.999999), \n",
    "                               (1e-10, None), (1e-10, None)))\n",
    "α_Brockhat, ρ_Brockhat, μ_Brockhat, σ_Brockhat = results.x\n",
    "print(results)\n",
    "print(results.hess_inv(np.eye(4)))"
   ]
  },
  {
   "cell_type": "markdown",
   "metadata": {},
   "source": [
    "**(b)**"
   ]
  },
  {
   "cell_type": "code",
   "execution_count": 16,
   "metadata": {},
   "outputs": [],
   "source": [
    "def Brock2(k, r, α, ρ, μ, σ): \n",
    "    \n",
    "    z_t = np.log(r / ((1 - α) * k ** α))\n",
    "    z_tm1 = z_t[:-1]\n",
    "    z_tm1 = np.insert(z_tm1, 0, μ)\n",
    "    prob = stat.norm(ρ * z_tm1 + (1 - ρ) * μ, σ).pdf(z_t)\n",
    "    return prob\n",
    "    \n",
    "def LogLikeBrock2(k, r, α, ρ, μ, σ):\n",
    "\n",
    "    distrvals = Brock2(k, r, α, ρ, μ, σ)\n",
    "    distrvals[distrvals == 0] = 1e-10\n",
    "    ln_distrvals = np.log(distrvals)\n",
    "    l_vals = ln_distrvals.sum()\n",
    "    return l_vals\n",
    "\n",
    "def Brock_cr2(params, *args):\n",
    "\n",
    "    α, ρ, μ, σ = params\n",
    "    k, r = args\n",
    "    l_vals = LogLikeBrock2(k, r, α, ρ, μ, σ)\n",
    "    sign_l = -l_vals\n",
    "    return sign_l"
   ]
  },
  {
   "cell_type": "code",
   "execution_count": 17,
   "metadata": {},
   "outputs": [
    {
     "name": "stdout",
     "output_type": "stream",
     "text": [
      "      fun: -92.65339486382427\n",
      " hess_inv: <4x4 LbfgsInvHessProduct with dtype=float64>\n",
      "      jac: array([ 4.59110097e+01, -6.11066753e-05, -3.00843794e-03,  5.38449285e-03])\n",
      "  message: b'CONVERGENCE: REL_REDUCTION_OF_F_<=_FACTR*EPSMCH'\n",
      "     nfev: 140\n",
      "      nit: 12\n",
      "   status: 0\n",
      "  success: True\n",
      "        x: array([1.00000000e-10, 4.17807024e-01, 2.47340078e-03, 9.58021689e-02])\n",
      "[[  1.          -2.20546238 -19.30707131   1.50383912]\n",
      " [ -2.20546238   4.98452675  42.60854191  -3.3190405 ]\n",
      " [-19.30707131  42.60854191 372.8680822  -29.06903325]\n",
      " [  1.50383912  -3.3190405  -29.06903325   2.27322684]]\n"
     ]
    }
   ],
   "source": [
    "# MLE\n",
    "\n",
    "α_0 = 0.5\n",
    "ρ_0 = 0.5\n",
    "μ_0 = 1\n",
    "σ_0 = 9.5\n",
    "\n",
    "params_0 = np.array([α_0, ρ_0, μ_0, σ_0])\n",
    "args_mle = (k, r)\n",
    "results = opt.minimize(Brock_cr, params_0, args=(args_mle), method='L-BFGS-B',\\\n",
    "                       bounds=((1e-10, 0.999999), (-0.999999, 0.999999), \n",
    "                               (1e-10, None), (1e-10, None)))\n",
    "α_Brockhat2, ρ_Brockhat2, μ_Brockhat2, σ_Brockhat2 = results.x\n",
    "print(results)\n",
    "print(results.hess_inv(np.eye(4)))"
   ]
  },
  {
   "cell_type": "markdown",
   "metadata": {},
   "source": [
    "**(c)**"
   ]
  },
  {
   "cell_type": "code",
   "execution_count": 18,
   "metadata": {},
   "outputs": [
    {
     "name": "stdout",
     "output_type": "stream",
     "text": [
      "Probability that interest rate will be greater than 1 this period=  0.0\n"
     ]
    }
   ],
   "source": [
    "z_opt  = np.log(1 / ((α_Brockhat2) * 7_500_000 ** (α_Brockhat2 - 1)))\n",
    "prob  = 1 - stat.norm.cdf(z_opt, ρ_Brockhat2 * 10 + (1 - ρ_Brockhat2) * \\\n",
    "                           μ_Brockhat2, σ_Brockhat2)\n",
    "print(\"Probability that interest rate will be greater than 1 this period= \", \n",
    "      prob)"
   ]
  },
  {
   "cell_type": "markdown",
   "metadata": {},
   "source": [
    "**Exercise 3**"
   ]
  },
  {
   "cell_type": "code",
   "execution_count": 19,
   "metadata": {},
   "outputs": [],
   "source": [
    "usincmoms = np.loadtxt(\"C:/Users/danie/BootCamp2018/Econ/Wk5_StrEst/data/usincmoms.txt\")\n",
    "a = usincmoms[:,0]\n",
    "b = usincmoms[:,1]"
   ]
  },
  {
   "cell_type": "code",
   "execution_count": 20,
   "metadata": {},
   "outputs": [
    {
     "data": {
      "image/png": "[encoded data removed]",
      "text/plain": [
       "<Figure size 720x360 with 1 Axes>"
      ]
     },
     "metadata": {},
     "output_type": "display_data"
    }
   ],
   "source": [
    "plt.subplots(figsize=(10, 5))\n",
    "a[-2] = a[-2] / 10\n",
    "a[-1] = a[-1] / 20\n",
    "width = np.concatenate((5 * np.ones_like(a[:-2]), np.array([50]), \n",
    "                        np.array([100])))\n",
    "plt.bar(b / 1000, a, width=width, edgecolor='k')\n",
    "plt.xlabel(\"Income-Thousands of Dollars\")\n",
    "plt.ylabel(\"Percent\")\n",
    "plt.show()"
   ]
  },
  {
   "cell_type": "markdown",
   "metadata": {},
   "source": [
    "**(b)**"
   ]
  },
  {
   "cell_type": "code",
   "execution_count": 21,
   "metadata": {},
   "outputs": [],
   "source": [
    "def norm(x, μ, σ):\n",
    "    distrvals= (1 / x) * (1 / (σ * np.sqrt(2 * np.pi)) * \\\n",
    "                          np.exp(-(np.log(x) - μ) ** 2 / (2 * σ ** 2)))\n",
    "    distrvals[distrvals==0] = 1e-10\n",
    "    return distrvals\n",
    "\n",
    "def moments(b, μ, σ):\n",
    "    distrvals = 5000 * norm(b, μ, σ)\n",
    "    distrvals[distrvals == 0] = 1e-10\n",
    "    return distrvals\n",
    "\n",
    "def error(a, b, μ, σ, simple=False):\n",
    "    mom = moments(b, μ, σ)\n",
    "    momd = a\n",
    "    if simple:\n",
    "        e = mom - momd\n",
    "    else:\n",
    "        e = (mom - momd) / momd\n",
    "    return e\n",
    "\n",
    "def cr(params, *args):\n",
    "    μ, σ = params\n",
    "    a, b, W = args\n",
    "    e = error(a, b, μ, σ)\n",
    "    val = np.dot(np.dot(e.T, W), e) \n",
    "    return val"
   ]
  },
  {
   "cell_type": "code",
   "execution_count": 22,
   "metadata": {},
   "outputs": [
    {
     "name": "stdout",
     "output_type": "stream",
     "text": [
      "      fun: 0.03251612477668702\n",
      " hess_inv: <2x2 LbfgsInvHessProduct with dtype=float64>\n",
      "      jac: array([-2.38975506e-06, -1.56610835e-06])\n",
      "  message: b'CONVERGENCE: NORM_OF_PROJECTED_GRADIENT_<=_PGTOL'\n",
      "     nfev: 27\n",
      "      nit: 8\n",
      "   status: 0\n",
      "  success: True\n",
      "        x: array([10.84684127,  1.0296976 ])\n"
     ]
    },
    {
     "data": {
      "image/png": "[encoded data removed]",
      "text/plain": [
       "<Figure size 720x360 with 1 Axes>"
      ]
     },
     "metadata": {},
     "output_type": "display_data"
    }
   ],
   "source": [
    "# GMM\n",
    "μ_0 = np.log(np.mean(a @ b))\n",
    "σ_0 = 2\n",
    "params_0 = np.array([μ_0, σ_0])\n",
    "W_hat = np.diag(a)\n",
    "args_gmm = (a, b, W_hat)\n",
    "results = opt.minimize(cr, params_0, args = (args_gmm), method='L-BFGS-B', \\\n",
    "                      bounds = ((None, None), (1e-10, None)))\n",
    "μ_GMMhat, σ_GMMhat = results.x\n",
    "print(results)\n",
    "\n",
    "# GMM plot\n",
    "plt.subplots(figsize=(10, 5))\n",
    "plt.bar(b / 1000, a, width=width, edgecolor='k')\n",
    "x = np.linspace(1e-10,350000,1000)\n",
    "yl = 5000 * norm(x, μ_GMMhat, σ_GMMhat)\n",
    "plt.plot(x / 1000, yl, color='r')\n",
    "plt.xlabel(\"Income-Thousands of Dollars\")\n",
    "plt.ylabel(\"Percent\")\n",
    "plt.show()"
   ]
  },
  {
   "cell_type": "markdown",
   "metadata": {},
   "source": [
    "**(c)**"
   ]
  },
  {
   "cell_type": "code",
   "execution_count": 23,
   "metadata": {},
   "outputs": [],
   "source": [
    "def moments(b, α, β):\n",
    "    moms = 5000 * GA(b, α, β)\n",
    "    return moms\n",
    "\n",
    "def error(a, b, α, β, simple=False):\n",
    "    mom = moments(b, α, β)\n",
    "    momd = a\n",
    "    if simple:\n",
    "        e = mom - momd\n",
    "    else:\n",
    "        e = (mom - momd) / momd\n",
    "    return e\n",
    "\n",
    "def cr(params, *args):\n",
    "    α, β = params\n",
    "    a, b, W = args\n",
    "    e = error(a, b, α, β)\n",
    "    val = np.dot(np.dot(e.T, W), e) \n",
    "    return val"
   ]
  },
  {
   "cell_type": "code",
   "execution_count": 24,
   "metadata": {},
   "outputs": [
    {
     "name": "stdout",
     "output_type": "stream",
     "text": [
      "      fun: 0.006292135657320145\n",
      " hess_inv: <2x2 LbfgsInvHessProduct with dtype=float64>\n",
      "      jac: array([-9.00078623e-06, -3.46944695e-10])\n",
      "  message: b'CONVERGENCE: NORM_OF_PROJECTED_GRADIENT_<=_PGTOL'\n",
      "     nfev: 108\n",
      "      nit: 27\n",
      "   status: 0\n",
      "  success: True\n",
      "        x: array([1.4345036e+00, 4.4424255e+04])\n"
     ]
    },
    {
     "data": {
      "image/png": "[encoded data removed]",
      "text/plain": [
       "<Figure size 720x360 with 1 Axes>"
      ]
     },
     "metadata": {},
     "output_type": "display_data"
    }
   ],
   "source": [
    "#GMM\n",
    "α_0 = 3\n",
    "β_0 = 20_000\n",
    "params_0 = np.array([α_0, β_0])\n",
    "results = opt.minimize(cr, params_0, args= (args_gmm), method='L-BFGS-B', \\\n",
    "                       bounds=((1e-10, None), (1e-10, None)))\n",
    "α_GMMhat, β_GMMhat = results.x\n",
    "print(results)\n",
    "\n",
    "#GMM plot\n",
    "plt.subplots(figsize=(10, 5))\n",
    "plt.bar(b / 1000, a, width=width, edgecolor='k')\n",
    "yg = 5000 * GA(x, α_GMMhat, β_GMMhat)\n",
    "plt.plot(x / 1000, yg, color='r')\n",
    "plt.xlabel(\"Income-Thousands of Dollars\")\n",
    "plt.ylabel(\"Percent\")\n",
    "plt.show()"
   ]
  },
  {
   "cell_type": "markdown",
   "metadata": {},
   "source": [
    "**(d)**"
   ]
  },
  {
   "cell_type": "code",
   "execution_count": 25,
   "metadata": {},
   "outputs": [
    {
     "data": {
      "image/png": "[encoded data removed]",
      "text/plain": [
       "<Figure size 720x360 with 1 Axes>"
      ]
     },
     "metadata": {},
     "output_type": "display_data"
    }
   ],
   "source": [
    "plt.subplots(figsize=(10, 5))\n",
    "plt.bar(b / 1000, a, width=width, edgecolor='k')\n",
    "plt.plot(x / 1000, yl, color = \"green\", label = \"LN\")\n",
    "plt.plot(x / 1000, yg, color = \"red\", label = \"GA\")\n",
    "plt.xlabel(\"Income-Thousands of Dollars\")\n",
    "plt.ylabel(\"Percent\")\n",
    "plt.legend()\n",
    "plt.show()"
   ]
  },
  {
   "cell_type": "markdown",
   "metadata": {},
   "source": [
    "The most precise way to tell which distribution fits the data the best is by using the value returned by the minimization process. It is better fit the smaller this value is. <br>\n",
    "<br>\n",
    "It appears as though GA fits data the best."
   ]
  },
  {
   "cell_type": "markdown",
   "metadata": {},
   "source": [
    "**(e)**"
   ]
  },
  {
   "cell_type": "code",
   "execution_count": 26,
   "metadata": {},
   "outputs": [
    {
     "name": "stderr",
     "output_type": "stream",
     "text": [
      "C:\\Users\\danie\\AppData\\Local\\Continuum\\anaconda3\\lib\\site-packages\\ipykernel_launcher.py:4: RuntimeWarning: divide by zero encountered in double_scalars\n",
      "  after removing the cwd from sys.path.\n",
      "C:\\Users\\danie\\AppData\\Local\\Continuum\\anaconda3\\lib\\site-packages\\ipykernel_launcher.py:4: RuntimeWarning: overflow encountered in power\n",
      "  after removing the cwd from sys.path.\n",
      "C:\\Users\\danie\\AppData\\Local\\Continuum\\anaconda3\\lib\\site-packages\\ipykernel_launcher.py:4: RuntimeWarning: invalid value encountered in multiply\n",
      "  after removing the cwd from sys.path.\n"
     ]
    },
    {
     "ename": "OverflowError",
     "evalue": "math range error",
     "output_type": "error",
     "traceback": [
      "\u001b[1;31m---------------------------------------------------------------------------\u001b[0m",
      "\u001b[1;31mOverflowError\u001b[0m                             Traceback (most recent call last)",
      "\u001b[1;32m<ipython-input-26-4d4339f8cab0>\u001b[0m in \u001b[0;36m<module>\u001b[1;34m()\u001b[0m\n\u001b[0;32m      4\u001b[0m \u001b[0mW_hat2\u001b[0m \u001b[1;33m=\u001b[0m \u001b[0mlin\u001b[0m\u001b[1;33m.\u001b[0m\u001b[0mpinv\u001b[0m\u001b[1;33m(\u001b[0m\u001b[0mVCV2\u001b[0m\u001b[1;33m)\u001b[0m\u001b[1;33m\u001b[0m\u001b[0m\n\u001b[0;32m      5\u001b[0m \u001b[0margs_gmm\u001b[0m \u001b[1;33m=\u001b[0m \u001b[1;33m(\u001b[0m\u001b[0ma\u001b[0m\u001b[1;33m,\u001b[0m \u001b[0mb\u001b[0m\u001b[1;33m,\u001b[0m \u001b[0mW_hat2\u001b[0m\u001b[1;33m)\u001b[0m\u001b[1;33m\u001b[0m\u001b[0m\n\u001b[1;32m----> 6\u001b[1;33m \u001b[0mresults\u001b[0m \u001b[1;33m=\u001b[0m \u001b[0mopt\u001b[0m\u001b[1;33m.\u001b[0m\u001b[0mminimize\u001b[0m\u001b[1;33m(\u001b[0m\u001b[0mcr\u001b[0m\u001b[1;33m,\u001b[0m \u001b[0mparams_0\u001b[0m\u001b[1;33m,\u001b[0m \u001b[0margs\u001b[0m\u001b[1;33m=\u001b[0m\u001b[1;33m(\u001b[0m\u001b[0margs_gmm\u001b[0m\u001b[1;33m)\u001b[0m\u001b[1;33m,\u001b[0m \u001b[0mmethod\u001b[0m\u001b[1;33m=\u001b[0m\u001b[1;34m'L-BFGS-B'\u001b[0m\u001b[1;33m,\u001b[0m                        \u001b[0mbounds\u001b[0m\u001b[1;33m=\u001b[0m\u001b[1;33m(\u001b[0m\u001b[1;33m(\u001b[0m\u001b[1;36m1e-10\u001b[0m\u001b[1;33m,\u001b[0m \u001b[1;32mNone\u001b[0m\u001b[1;33m)\u001b[0m\u001b[1;33m,\u001b[0m \u001b[1;33m(\u001b[0m\u001b[1;36m1e-10\u001b[0m\u001b[1;33m,\u001b[0m \u001b[1;32mNone\u001b[0m\u001b[1;33m)\u001b[0m\u001b[1;33m)\u001b[0m\u001b[1;33m)\u001b[0m\u001b[1;33m\u001b[0m\u001b[0m\n\u001b[0m\u001b[0;32m      7\u001b[0m \u001b[0mα_GMMhat2\u001b[0m\u001b[1;33m,\u001b[0m \u001b[0mβ_GMMhat2\u001b[0m \u001b[1;33m=\u001b[0m \u001b[0mresults\u001b[0m\u001b[1;33m.\u001b[0m\u001b[0mx\u001b[0m\u001b[1;33m\u001b[0m\u001b[0m\n\u001b[0;32m      8\u001b[0m \u001b[0mprint\u001b[0m\u001b[1;33m(\u001b[0m\u001b[0mresults\u001b[0m\u001b[1;33m)\u001b[0m\u001b[1;33m\u001b[0m\u001b[0m\n",
      "\u001b[1;32m~\\AppData\\Local\\Continuum\\anaconda3\\lib\\site-packages\\scipy\\optimize\\_minimize.py\u001b[0m in \u001b[0;36mminimize\u001b[1;34m(fun, x0, args, method, jac, hess, hessp, bounds, constraints, tol, callback, options)\u001b[0m\n\u001b[0;32m    601\u001b[0m     \u001b[1;32melif\u001b[0m \u001b[0mmeth\u001b[0m \u001b[1;33m==\u001b[0m \u001b[1;34m'l-bfgs-b'\u001b[0m\u001b[1;33m:\u001b[0m\u001b[1;33m\u001b[0m\u001b[0m\n\u001b[0;32m    602\u001b[0m         return _minimize_lbfgsb(fun, x0, args, jac, bounds,\n\u001b[1;32m--> 603\u001b[1;33m                                 callback=callback, **options)\n\u001b[0m\u001b[0;32m    604\u001b[0m     \u001b[1;32melif\u001b[0m \u001b[0mmeth\u001b[0m \u001b[1;33m==\u001b[0m \u001b[1;34m'tnc'\u001b[0m\u001b[1;33m:\u001b[0m\u001b[1;33m\u001b[0m\u001b[0m\n\u001b[0;32m    605\u001b[0m         return _minimize_tnc(fun, x0, args, jac, bounds, callback=callback,\n",
      "\u001b[1;32m~\\AppData\\Local\\Continuum\\anaconda3\\lib\\site-packages\\scipy\\optimize\\lbfgsb.py\u001b[0m in \u001b[0;36m_minimize_lbfgsb\u001b[1;34m(fun, x0, args, jac, bounds, disp, maxcor, ftol, gtol, eps, maxfun, maxiter, iprint, callback, maxls, **unknown_options)\u001b[0m\n\u001b[0;32m    333\u001b[0m             \u001b[1;31m# until the completion of the current minimization iteration.\u001b[0m\u001b[1;33m\u001b[0m\u001b[1;33m\u001b[0m\u001b[0m\n\u001b[0;32m    334\u001b[0m             \u001b[1;31m# Overwrite f and g:\u001b[0m\u001b[1;33m\u001b[0m\u001b[1;33m\u001b[0m\u001b[0m\n\u001b[1;32m--> 335\u001b[1;33m             \u001b[0mf\u001b[0m\u001b[1;33m,\u001b[0m \u001b[0mg\u001b[0m \u001b[1;33m=\u001b[0m \u001b[0mfunc_and_grad\u001b[0m\u001b[1;33m(\u001b[0m\u001b[0mx\u001b[0m\u001b[1;33m)\u001b[0m\u001b[1;33m\u001b[0m\u001b[0m\n\u001b[0m\u001b[0;32m    336\u001b[0m         \u001b[1;32melif\u001b[0m \u001b[0mtask_str\u001b[0m\u001b[1;33m.\u001b[0m\u001b[0mstartswith\u001b[0m\u001b[1;33m(\u001b[0m\u001b[1;34mb'NEW_X'\u001b[0m\u001b[1;33m)\u001b[0m\u001b[1;33m:\u001b[0m\u001b[1;33m\u001b[0m\u001b[0m\n\u001b[0;32m    337\u001b[0m             \u001b[1;31m# new iteration\u001b[0m\u001b[1;33m\u001b[0m\u001b[1;33m\u001b[0m\u001b[0m\n",
      "\u001b[1;32m~\\AppData\\Local\\Continuum\\anaconda3\\lib\\site-packages\\scipy\\optimize\\lbfgsb.py\u001b[0m in \u001b[0;36mfunc_and_grad\u001b[1;34m(x)\u001b[0m\n\u001b[0;32m    278\u001b[0m     \u001b[1;32mif\u001b[0m \u001b[0mjac\u001b[0m \u001b[1;32mis\u001b[0m \u001b[1;32mNone\u001b[0m\u001b[1;33m:\u001b[0m\u001b[1;33m\u001b[0m\u001b[0m\n\u001b[0;32m    279\u001b[0m         \u001b[1;32mdef\u001b[0m \u001b[0mfunc_and_grad\u001b[0m\u001b[1;33m(\u001b[0m\u001b[0mx\u001b[0m\u001b[1;33m)\u001b[0m\u001b[1;33m:\u001b[0m\u001b[1;33m\u001b[0m\u001b[0m\n\u001b[1;32m--> 280\u001b[1;33m             \u001b[0mf\u001b[0m \u001b[1;33m=\u001b[0m \u001b[0mfun\u001b[0m\u001b[1;33m(\u001b[0m\u001b[0mx\u001b[0m\u001b[1;33m,\u001b[0m \u001b[1;33m*\u001b[0m\u001b[0margs\u001b[0m\u001b[1;33m)\u001b[0m\u001b[1;33m\u001b[0m\u001b[0m\n\u001b[0m\u001b[0;32m    281\u001b[0m             \u001b[0mg\u001b[0m \u001b[1;33m=\u001b[0m \u001b[0m_approx_fprime_helper\u001b[0m\u001b[1;33m(\u001b[0m\u001b[0mx\u001b[0m\u001b[1;33m,\u001b[0m \u001b[0mfun\u001b[0m\u001b[1;33m,\u001b[0m \u001b[0mepsilon\u001b[0m\u001b[1;33m,\u001b[0m \u001b[0margs\u001b[0m\u001b[1;33m=\u001b[0m\u001b[0margs\u001b[0m\u001b[1;33m,\u001b[0m \u001b[0mf0\u001b[0m\u001b[1;33m=\u001b[0m\u001b[0mf\u001b[0m\u001b[1;33m)\u001b[0m\u001b[1;33m\u001b[0m\u001b[0m\n\u001b[0;32m    282\u001b[0m             \u001b[1;32mreturn\u001b[0m \u001b[0mf\u001b[0m\u001b[1;33m,\u001b[0m \u001b[0mg\u001b[0m\u001b[1;33m\u001b[0m\u001b[0m\n",
      "\u001b[1;32m~\\AppData\\Local\\Continuum\\anaconda3\\lib\\site-packages\\scipy\\optimize\\optimize.py\u001b[0m in \u001b[0;36mfunction_wrapper\u001b[1;34m(*wrapper_args)\u001b[0m\n\u001b[0;32m    291\u001b[0m     \u001b[1;32mdef\u001b[0m \u001b[0mfunction_wrapper\u001b[0m\u001b[1;33m(\u001b[0m\u001b[1;33m*\u001b[0m\u001b[0mwrapper_args\u001b[0m\u001b[1;33m)\u001b[0m\u001b[1;33m:\u001b[0m\u001b[1;33m\u001b[0m\u001b[0m\n\u001b[0;32m    292\u001b[0m         \u001b[0mncalls\u001b[0m\u001b[1;33m[\u001b[0m\u001b[1;36m0\u001b[0m\u001b[1;33m]\u001b[0m \u001b[1;33m+=\u001b[0m \u001b[1;36m1\u001b[0m\u001b[1;33m\u001b[0m\u001b[0m\n\u001b[1;32m--> 293\u001b[1;33m         \u001b[1;32mreturn\u001b[0m \u001b[0mfunction\u001b[0m\u001b[1;33m(\u001b[0m\u001b[1;33m*\u001b[0m\u001b[1;33m(\u001b[0m\u001b[0mwrapper_args\u001b[0m \u001b[1;33m+\u001b[0m \u001b[0margs\u001b[0m\u001b[1;33m)\u001b[0m\u001b[1;33m)\u001b[0m\u001b[1;33m\u001b[0m\u001b[0m\n\u001b[0m\u001b[0;32m    294\u001b[0m \u001b[1;33m\u001b[0m\u001b[0m\n\u001b[0;32m    295\u001b[0m     \u001b[1;32mreturn\u001b[0m \u001b[0mncalls\u001b[0m\u001b[1;33m,\u001b[0m \u001b[0mfunction_wrapper\u001b[0m\u001b[1;33m\u001b[0m\u001b[0m\n",
      "\u001b[1;32m<ipython-input-23-fd787fbb3f16>\u001b[0m in \u001b[0;36mcr\u001b[1;34m(params, *args)\u001b[0m\n\u001b[0;32m     15\u001b[0m     \u001b[0mα\u001b[0m\u001b[1;33m,\u001b[0m \u001b[0mβ\u001b[0m \u001b[1;33m=\u001b[0m \u001b[0mparams\u001b[0m\u001b[1;33m\u001b[0m\u001b[0m\n\u001b[0;32m     16\u001b[0m     \u001b[0ma\u001b[0m\u001b[1;33m,\u001b[0m \u001b[0mb\u001b[0m\u001b[1;33m,\u001b[0m \u001b[0mW\u001b[0m \u001b[1;33m=\u001b[0m \u001b[0margs\u001b[0m\u001b[1;33m\u001b[0m\u001b[0m\n\u001b[1;32m---> 17\u001b[1;33m     \u001b[0me\u001b[0m \u001b[1;33m=\u001b[0m \u001b[0merror\u001b[0m\u001b[1;33m(\u001b[0m\u001b[0ma\u001b[0m\u001b[1;33m,\u001b[0m \u001b[0mb\u001b[0m\u001b[1;33m,\u001b[0m \u001b[0mα\u001b[0m\u001b[1;33m,\u001b[0m \u001b[0mβ\u001b[0m\u001b[1;33m)\u001b[0m\u001b[1;33m\u001b[0m\u001b[0m\n\u001b[0m\u001b[0;32m     18\u001b[0m     \u001b[0mval\u001b[0m \u001b[1;33m=\u001b[0m \u001b[0mnp\u001b[0m\u001b[1;33m.\u001b[0m\u001b[0mdot\u001b[0m\u001b[1;33m(\u001b[0m\u001b[0mnp\u001b[0m\u001b[1;33m.\u001b[0m\u001b[0mdot\u001b[0m\u001b[1;33m(\u001b[0m\u001b[0me\u001b[0m\u001b[1;33m.\u001b[0m\u001b[0mT\u001b[0m\u001b[1;33m,\u001b[0m \u001b[0mW\u001b[0m\u001b[1;33m)\u001b[0m\u001b[1;33m,\u001b[0m \u001b[0me\u001b[0m\u001b[1;33m)\u001b[0m\u001b[1;33m\u001b[0m\u001b[0m\n\u001b[0;32m     19\u001b[0m     \u001b[1;32mreturn\u001b[0m \u001b[0mval\u001b[0m\u001b[1;33m\u001b[0m\u001b[0m\n",
      "\u001b[1;32m<ipython-input-23-fd787fbb3f16>\u001b[0m in \u001b[0;36merror\u001b[1;34m(a, b, α, β, simple)\u001b[0m\n\u001b[0;32m      4\u001b[0m \u001b[1;33m\u001b[0m\u001b[0m\n\u001b[0;32m      5\u001b[0m \u001b[1;32mdef\u001b[0m \u001b[0merror\u001b[0m\u001b[1;33m(\u001b[0m\u001b[0ma\u001b[0m\u001b[1;33m,\u001b[0m \u001b[0mb\u001b[0m\u001b[1;33m,\u001b[0m \u001b[0mα\u001b[0m\u001b[1;33m,\u001b[0m \u001b[0mβ\u001b[0m\u001b[1;33m,\u001b[0m \u001b[0msimple\u001b[0m\u001b[1;33m=\u001b[0m\u001b[1;32mFalse\u001b[0m\u001b[1;33m)\u001b[0m\u001b[1;33m:\u001b[0m\u001b[1;33m\u001b[0m\u001b[0m\n\u001b[1;32m----> 6\u001b[1;33m     \u001b[0mmom\u001b[0m \u001b[1;33m=\u001b[0m \u001b[0mmoments\u001b[0m\u001b[1;33m(\u001b[0m\u001b[0mb\u001b[0m\u001b[1;33m,\u001b[0m \u001b[0mα\u001b[0m\u001b[1;33m,\u001b[0m \u001b[0mβ\u001b[0m\u001b[1;33m)\u001b[0m\u001b[1;33m\u001b[0m\u001b[0m\n\u001b[0m\u001b[0;32m      7\u001b[0m     \u001b[0mmomd\u001b[0m \u001b[1;33m=\u001b[0m \u001b[0ma\u001b[0m\u001b[1;33m\u001b[0m\u001b[0m\n\u001b[0;32m      8\u001b[0m     \u001b[1;32mif\u001b[0m \u001b[0msimple\u001b[0m\u001b[1;33m:\u001b[0m\u001b[1;33m\u001b[0m\u001b[0m\n",
      "\u001b[1;32m<ipython-input-23-fd787fbb3f16>\u001b[0m in \u001b[0;36mmoments\u001b[1;34m(b, α, β)\u001b[0m\n\u001b[0;32m      1\u001b[0m \u001b[1;32mdef\u001b[0m \u001b[0mmoments\u001b[0m\u001b[1;33m(\u001b[0m\u001b[0mb\u001b[0m\u001b[1;33m,\u001b[0m \u001b[0mα\u001b[0m\u001b[1;33m,\u001b[0m \u001b[0mβ\u001b[0m\u001b[1;33m)\u001b[0m\u001b[1;33m:\u001b[0m\u001b[1;33m\u001b[0m\u001b[0m\n\u001b[1;32m----> 2\u001b[1;33m     \u001b[0mmoms\u001b[0m \u001b[1;33m=\u001b[0m \u001b[1;36m5000\u001b[0m \u001b[1;33m*\u001b[0m \u001b[0mGA\u001b[0m\u001b[1;33m(\u001b[0m\u001b[0mb\u001b[0m\u001b[1;33m,\u001b[0m \u001b[0mα\u001b[0m\u001b[1;33m,\u001b[0m \u001b[0mβ\u001b[0m\u001b[1;33m)\u001b[0m\u001b[1;33m\u001b[0m\u001b[0m\n\u001b[0m\u001b[0;32m      3\u001b[0m     \u001b[1;32mreturn\u001b[0m \u001b[0mmoms\u001b[0m\u001b[1;33m\u001b[0m\u001b[0m\n\u001b[0;32m      4\u001b[0m \u001b[1;33m\u001b[0m\u001b[0m\n\u001b[0;32m      5\u001b[0m \u001b[1;32mdef\u001b[0m \u001b[0merror\u001b[0m\u001b[1;33m(\u001b[0m\u001b[0ma\u001b[0m\u001b[1;33m,\u001b[0m \u001b[0mb\u001b[0m\u001b[1;33m,\u001b[0m \u001b[0mα\u001b[0m\u001b[1;33m,\u001b[0m \u001b[0mβ\u001b[0m\u001b[1;33m,\u001b[0m \u001b[0msimple\u001b[0m\u001b[1;33m=\u001b[0m\u001b[1;32mFalse\u001b[0m\u001b[1;33m)\u001b[0m\u001b[1;33m:\u001b[0m\u001b[1;33m\u001b[0m\u001b[0m\n",
      "\u001b[1;32m<ipython-input-5-491beef1d676>\u001b[0m in \u001b[0;36mGA\u001b[1;34m(x, a, b)\u001b[0m\n\u001b[0;32m      1\u001b[0m \u001b[1;32mdef\u001b[0m \u001b[0mGA\u001b[0m\u001b[1;33m(\u001b[0m\u001b[0mx\u001b[0m\u001b[1;33m,\u001b[0m \u001b[0ma\u001b[0m\u001b[1;33m,\u001b[0m \u001b[0mb\u001b[0m\u001b[1;33m)\u001b[0m\u001b[1;33m:\u001b[0m\u001b[1;33m\u001b[0m\u001b[0m\n\u001b[0;32m      2\u001b[0m \u001b[1;33m\u001b[0m\u001b[0m\n\u001b[1;32m----> 3\u001b[1;33m     \u001b[0mG\u001b[0m \u001b[1;33m=\u001b[0m \u001b[0mmath\u001b[0m\u001b[1;33m.\u001b[0m\u001b[0mgamma\u001b[0m\u001b[1;33m(\u001b[0m\u001b[0ma\u001b[0m\u001b[1;33m)\u001b[0m\u001b[1;33m\u001b[0m\u001b[0m\n\u001b[0m\u001b[0;32m      4\u001b[0m     \u001b[0mdistr\u001b[0m \u001b[1;33m=\u001b[0m \u001b[1;33m(\u001b[0m\u001b[1;36m1\u001b[0m\u001b[1;33m/\u001b[0m\u001b[1;33m(\u001b[0m\u001b[1;33m(\u001b[0m\u001b[0mb\u001b[0m \u001b[1;33m**\u001b[0m \u001b[0ma\u001b[0m\u001b[1;33m)\u001b[0m \u001b[1;33m*\u001b[0m \u001b[0mG\u001b[0m\u001b[1;33m)\u001b[0m\u001b[1;33m)\u001b[0m \u001b[1;33m*\u001b[0m \u001b[1;33m(\u001b[0m \u001b[0mx\u001b[0m \u001b[1;33m**\u001b[0m \u001b[1;33m(\u001b[0m\u001b[0ma\u001b[0m \u001b[1;33m-\u001b[0m \u001b[1;36m1\u001b[0m\u001b[1;33m)\u001b[0m\u001b[1;33m)\u001b[0m \u001b[1;33m*\u001b[0m \u001b[1;33m(\u001b[0m\u001b[0mnp\u001b[0m\u001b[1;33m.\u001b[0m\u001b[0mexp\u001b[0m\u001b[1;33m(\u001b[0m\u001b[1;33m-\u001b[0m\u001b[1;33m(\u001b[0m\u001b[0mx\u001b[0m \u001b[1;33m/\u001b[0m \u001b[0mb\u001b[0m\u001b[1;33m)\u001b[0m\u001b[1;33m)\u001b[0m\u001b[1;33m)\u001b[0m\u001b[1;33m\u001b[0m\u001b[0m\n\u001b[0;32m      5\u001b[0m     \u001b[1;32mreturn\u001b[0m \u001b[0mdistr\u001b[0m\u001b[1;33m\u001b[0m\u001b[0m\n",
      "\u001b[1;31mOverflowError\u001b[0m: math range error"
     ]
    }
   ],
   "source": [
    "#GMM\n",
    "err = np.array([error(a, b, α_GMMhat, β_GMMhat)])\n",
    "VCV2 = (err.T @ err)/len(a)\n",
    "W_hat2 = lin.pinv(VCV2)\n",
    "args_gmm = (a, b, W_hat2)\n",
    "results = opt.minimize(cr, params_0, args=(args_gmm), method='L-BFGS-B', \\\n",
    "                       bounds=((1e-10, None), (1e-10, None)))\n",
    "α_GMMhat2, β_GMMhat2 = results.x\n",
    "print(results)\n",
    "\n",
    "#GMM plot\n",
    "plt.subplots(figsize=(10, 5))\n",
    "plt.bar(b / 1000, a, width=width, edgecolor='k')\n",
    "yg2 = 5000 * GA(x, α_GMMhat2, β_GMMhat2)\n",
    "plt.plot(x / 1000, yg2)\n",
    "plt.xlabel(\"Income-Thousands of Dollars\")\n",
    "plt.ylabel(\"Percent\")\n",
    "plt.show()\n",
    "\n",
    "# I've spent roughly 5 hours on this error alone. I am not able\n",
    "# to figure it out, nor are my peers. This is the only\n",
    "# error I have not been able to fix this entire bootcamp."
   ]
  },
  {
   "cell_type": "markdown",
   "metadata": {},
   "source": [
    "**Exercise 4**"
   ]
  },
  {
   "cell_type": "code",
   "execution_count": 27,
   "metadata": {},
   "outputs": [],
   "source": [
    "def momentsd():\n",
    "\n",
    "    mom1 = 1e-20\n",
    "    mom2 = 1e-20\n",
    "    mom3 = 1e-20\n",
    "    mom4 = 1e-20\n",
    "    return mom1, mom2, mom3, mom4\n",
    "\n",
    "def moments(c, k, w, r, α, β, ρ, μ):\n",
    "\n",
    "    z_t = np.log(r / ((α) * k ** (α - 1)))\n",
    "    z_tp1 = z_t[1:]\n",
    "    z_t = z_t[:-1]\n",
    "    \n",
    "    k_tp1 = k[1:]\n",
    "    k_t = k[:-1]\n",
    "    \n",
    "    c_tp1 = c[1:]\n",
    "    c_t = c[:-1]\n",
    "    \n",
    "    w_t = w[:-1]\n",
    "    \n",
    "    mom1 = ((z_tp1 - ρ*z_t - (1 - ρ) * μ)).mean()\n",
    "    mom2 = ((z_tp1 - ρ*z_t - (1 - ρ) * μ) * z_t).mean()\n",
    "    mom3 = ((β * α * np.exp(z_tp1) * (k_tp1) ** (α - 1) * \\\n",
    "             (c_t / c_tp1) - 1)).mean()\n",
    "    mom4 = (((β * α * np.exp(z_tp1) * (k_tp1) ** (α - 1) * \\\n",
    "              (c_t/c_tp1) - 1) * w_t)).mean()\n",
    "    \n",
    "    return mom1, mom2, mom3, mom4\n",
    "\n",
    "def error(c, k, w, r, α, β, ρ, μ, simple):\n",
    " \n",
    "    mom1d, mom2d, mom3d, mom4d = momentsd()\n",
    "    momd = np.array([[mom1d], [mom2d], [mom3d], [mom4d]])\n",
    "    mom1, mom2, mom3, mom4 = moments(c, k, w, r, α, β, ρ, μ)\n",
    "    momsm = np.array([[mom1], [mom2], [mom3], [mom4]])\n",
    "    if simple:\n",
    "        e = momsm - momd\n",
    "    else:\n",
    "        e = (momsm - momsd) / momsd\n",
    "    \n",
    "    return e\n",
    "\n",
    "\n",
    "def cr(params, *args):\n",
    "    α, β, ρ, μ = params\n",
    "    c, k, w, r, W = args\n",
    "    err = error(c, k, w, r, α, β, ρ, μ, simple=True)\n",
    "    val = np.dot(np.dot(err.T, W), err) \n",
    "    return val"
   ]
  },
  {
   "cell_type": "code",
   "execution_count": 28,
   "metadata": {},
   "outputs": [
    {
     "name": "stdout",
     "output_type": "stream",
     "text": [
      "alpha= 0.7024817444132134\n",
      "beta= 0.9899999949999984\n",
      "rho= 0.36927361976305667\n",
      "mu= 5.014802247690846\n"
     ]
    }
   ],
   "source": [
    "α_0 = 0.2\n",
    "β_0 = 0.2\n",
    "ρ_0 = 0.2\n",
    "μ_0 = 5\n",
    "\n",
    "params_0 = np.array([α_0, β_0, ρ_0, μ_0])\n",
    "W_hat = np.eye(4)\n",
    "args_gmm = (c, k, w, r, W_hat)\n",
    "results = opt.minimize(cr, params_0, args=args_gmm, method='L-BFGS-B', \\\n",
    "                       bounds=((1e-10, 0.9999999), (1e-10, 0.9999999),\n",
    "                               (-0.9999999, 0.9999999),(1e-10, None)))\n",
    "\n",
    "α_GMM, β_GMM, ρ_GMM, μ_GMM = results.x\n",
    "print('alpha=', α_GMM)\n",
    "print('beta=', β_GMM)\n",
    "print('rho=', ρ_GMM)\n",
    "print('mu=', μ_GMM)"
   ]
  },
  {
   "cell_type": "code",
   "execution_count": 29,
   "metadata": {},
   "outputs": [
    {
     "name": "stdout",
     "output_type": "stream",
     "text": [
      "Data Moment 1 = 1e-20\n",
      "Data Moment 2 = 1e-20\n",
      "Data Moment 3 = 1e-20\n",
      "Data Moment 4 = 1e-20 \n",
      "\n",
      "Model Moment 1 = -0.0010192564634763839\n",
      "Model Moment 2 = 0.00023688659321954432\n",
      "Model Moment 3 = -5.050506765888782e-09\n",
      "Model Moment 4 = -0.046707210621564986 \n",
      "\n",
      "Error vector = [-1.01925646e-03  2.36886593e-04 -5.05050677e-09 -4.67072106e-02] \n",
      "\n",
      "      fun: array([[0.00218266]])\n",
      " hess_inv: <4x4 LbfgsInvHessProduct with dtype=float64>\n",
      "      jac: array([-4.86066005e-03, -2.85079469e-01, -8.82150256e-06, -2.13737535e-04])\n",
      "  message: b'CONVERGENCE: REL_REDUCTION_OF_F_<=_FACTR*EPSMCH'\n",
      "     nfev: 195\n",
      "      nit: 31\n",
      "   status: 0\n",
      "  success: True\n",
      "        x: array([0.70248174, 0.98999999, 0.36927362, 5.01480225])\n"
     ]
    }
   ],
   "source": [
    "mom1d, mom2d, mom3d, mom4d  = momentsd()\n",
    "mom1, mom2, mom3, mom4  = moments(c, k, w, r, α_GMM, β_GMM, ρ_GMM, μ_GMM)\n",
    "err_new = error(c, k, w, r, α_GMM, β_GMM, ρ_GMM, μ_GMM, True).reshape(4,)\n",
    "\n",
    "print('Data Moment 1 =', mom1d)\n",
    "print('Data Moment 2 =', mom2d)\n",
    "print('Data Moment 3 =', mom3d)\n",
    "print('Data Moment 4 =', mom4d, '\\n')\n",
    "\n",
    "print('Model Moment 1 =', mom1)\n",
    "print('Model Moment 2 =', mom2)\n",
    "print('Model Moment 3 =', mom3)\n",
    "print('Model Moment 4 =', mom4, '\\n')\n",
    "\n",
    "print('Error vector =', err_new, '\\n')\n",
    "print(results)"
   ]
  },
  {
   "cell_type": "code",
   "execution_count": null,
   "metadata": {},
   "outputs": [],
   "source": []
  }
 ],
 "metadata": {
  "kernelspec": {
   "display_name": "Python 3",
   "language": "python",
   "name": "python3"
  },
  "language_info": {
   "codemirror_mode": {
    "name": "ipython",
    "version": 3
   },
   "file_extension": ".py",
   "mimetype": "text/x-python",
   "name": "python",
   "nbconvert_exporter": "python",
   "pygments_lexer": "ipython3",
   "version": "3.6.5"
  }
 },
 "nbformat": 4,
 "nbformat_minor": 2
}
