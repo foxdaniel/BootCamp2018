{
 "cells": [
  {
   "cell_type": "code",
   "execution_count": 1,
   "metadata": {},
   "outputs": [],
   "source": [
    "import numpy as np"
   ]
  },
  {
   "cell_type": "code",
   "execution_count": 2,
   "metadata": {},
   "outputs": [],
   "source": [
    "def sec_meth(x_0, x_1, ɛ, fp):\n",
    "    \n",
    "    max_iter = 3000\n",
    "    iter = 1\n",
    "    \n",
    "    x_km1 = x_0 # $x_{k-1} = x$\n",
    "    x_k = x_1\n",
    "    \n",
    "    converge = False\n",
    "    while not converge and iter < max_iter:\n",
    "        update = fp(x_k) * ((x_k-x_km1) / (fp(x_k) - fp(x_km1)))\n",
    "        x_k1 = x_k - update\n",
    "        \n",
    "        if np.abs(x_k1 - x_k) < (np.abs(x_k) * ɛ):\n",
    "            converge = True\n",
    "        else:\n",
    "            converge = False\n",
    "            \n",
    "        x_km1 = x_k\n",
    "        x_k  = x_k1\n",
    "        iter = iter + 1\n",
    "        \n",
    "    return x_k1"
   ]
  },
  {
   "cell_type": "code",
   "execution_count": 3,
   "metadata": {},
   "outputs": [],
   "source": [
    "# test\n",
    "\n",
    "def test(x):\n",
    "    return 3 * (x ** 3) - 16 * (x ** 2) + 100 * x - 30"
   ]
  },
  {
   "cell_type": "code",
   "execution_count": 4,
   "metadata": {},
   "outputs": [
    {
     "name": "stdout",
     "output_type": "stream",
     "text": [
      "The minimizer is: 0.31493208500346337\n"
     ]
    }
   ],
   "source": [
    "p = sec_meth(0, .1, 1e-5, test)\n",
    "print(\"The minimizer is:\", p)"
   ]
  },
  {
   "cell_type": "code",
   "execution_count": null,
   "metadata": {},
   "outputs": [],
   "source": []
  }
 ],
 "metadata": {
  "kernelspec": {
   "display_name": "Python 3",
   "language": "python",
   "name": "python3"
  },
  "language_info": {
   "codemirror_mode": {
    "name": "ipython",
    "version": 3
   },
   "file_extension": ".py",
   "mimetype": "text/x-python",
   "name": "python",
   "nbconvert_exporter": "python",
   "pygments_lexer": "ipython3",
   "version": "3.6.5"
  }
 },
 "nbformat": 4,
 "nbformat_minor": 2
}
