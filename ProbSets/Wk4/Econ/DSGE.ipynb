{
 "cells": [
  {
   "cell_type": "markdown",
   "metadata": {},
   "source": [
    "**Exercise 5**"
   ]
  },
  {
   "cell_type": "code",
   "execution_count": 1,
   "metadata": {},
   "outputs": [],
   "source": [
    "import numpy as np\n",
    "import scipy.optimize as opt"
   ]
  },
  {
   "cell_type": "code",
   "execution_count": 2,
   "metadata": {},
   "outputs": [],
   "source": [
    "# Calibration\n",
    "\n",
    "γ = 2.5\n",
    "β = 0.98\n",
    "α = 0.40\n",
    "δ = 0.10\n",
    "zbar = 0\n",
    "τ = 0.05"
   ]
  },
  {
   "cell_type": "markdown",
   "metadata": {},
   "source": [
    "First, we will compute the values of each steady-state variable algebraically, and then compare the solutions numerically."
   ]
  },
  {
   "cell_type": "markdown",
   "metadata": {},
   "source": [
    "The steady state value of $k$ is given by\n",
    "$\\bar{k}=e^\\bar{z}\\bigg[\\frac{1-\\beta}{\\alpha\\beta(1-\\tau)} + \\frac{\\delta}{\\alpha}\\bigg]^{\\frac{1}{\\alpha-1}}$\n",
    "<br>\n",
    "(for derivation of steady state variables, see econ_ps4, exercise 5)\n",
    "<br>\n",
    "<br>\n",
    "We are given that $\\bar{z}=0$; hence, $e^{\\bar{z}}=1$."
   ]
  },
  {
   "cell_type": "code",
   "execution_count": 3,
   "metadata": {},
   "outputs": [],
   "source": [
    "# Steady-state capital\n",
    "\n",
    "kbar = ((1 - β) / (α * β * (1 - τ)) + (δ / α)) ** (1 / (α - 1))"
   ]
  },
  {
   "cell_type": "markdown",
   "metadata": {},
   "source": [
    "Now, assume $\\bar{\\ell}=1$."
   ]
  },
  {
   "cell_type": "markdown",
   "metadata": {},
   "source": [
    "The steady state values of $r$ and $w$ are given by\n",
    "$\\bar{r} =\\alpha\\bigg(\\frac{\\bar{k}}{e^{\\bar{z}}} \\bigg)^{\\alpha - 1}$and $\\bar{w} = (1 - \\alpha)\\bigg(\\frac{\\bar{k}}{e^{\\bar{z}}} \\bigg)^\\alpha$, respectively."
   ]
  },
  {
   "cell_type": "code",
   "execution_count": 4,
   "metadata": {},
   "outputs": [],
   "source": [
    "# Steady-state interest rate\n",
    "\n",
    "rbar = α * (kbar ** (α - 1))\n",
    "\n",
    "# Steady-state wage\n",
    "\n",
    "wbar = (1 - α) * (kbar ** α)"
   ]
  },
  {
   "cell_type": "markdown",
   "metadata": {},
   "source": [
    "Steady state values of output and investment are calculated as follows:\n",
    "<br>\n",
    "$\\bar{y} = \\bar{k}^\\alpha \\bar{\\ell}^{1-\\alpha}$\n",
    "<br>\n",
    "$\\bar{i} = \\bar{k} - (1-\\delta)\\bar{k}$\n",
    "<br>\n",
    "(see Chapter_DSGE.pdf)"
   ]
  },
  {
   "cell_type": "code",
   "execution_count": 5,
   "metadata": {},
   "outputs": [],
   "source": [
    "# Steady-state output\n",
    "\n",
    "ybar = kbar ** α\n",
    "\n",
    "# Steady-state investment\n",
    "\n",
    "ibar = kbar - (1 - δ) * kbar"
   ]
  },
  {
   "cell_type": "code",
   "execution_count": 6,
   "metadata": {},
   "outputs": [],
   "source": [
    "def alg_ss(kbar, rbar, wbar, ybar, ibar):\n",
    "    print(\"Steady-state value of capital:\", kbar)\n",
    "    print(\"Steady-state value of interest:\", rbar)\n",
    "    print(\"Steady-state value of wages:\", wbar)\n",
    "    print(\"Steady-state value of output:\", ybar)\n",
    "    print(\"Steady-state value of investment:\", ibar)"
   ]
  },
  {
   "cell_type": "code",
   "execution_count": 7,
   "metadata": {},
   "outputs": [
    {
     "name": "stdout",
     "output_type": "stream",
     "text": [
      "Steady-state value of capital: 7.287497950692988\n",
      "Steady-state value of interest: 0.1214822771213749\n",
      "Steady-state value of wages: 1.3279527683513057\n",
      "Steady-state value of output: 2.213254613918843\n",
      "Steady-state value of investment: 0.7287497950692989\n"
     ]
    }
   ],
   "source": [
    "alg_ss(kbar, rbar, wbar, ybar, ibar)"
   ]
  },
  {
   "cell_type": "markdown",
   "metadata": {},
   "source": [
    "Now we solve for $\\bar{k}$ by implementing a numerical method."
   ]
  },
  {
   "cell_type": "code",
   "execution_count": 8,
   "metadata": {},
   "outputs": [],
   "source": [
    "def numer_ss(param, γ, β, α, δ, z, τ):\n",
    "    k = param\n",
    "    r = α * (k / (np.exp(z))) ** (α - 1)\n",
    "    return 1 - (β * ((r - δ) * (1 - τ) + 1))"
   ]
  },
  {
   "cell_type": "code",
   "execution_count": 9,
   "metadata": {},
   "outputs": [
    {
     "data": {
      "text/plain": [
       "    fjac: array([[-1.]])\n",
       "     fun: array([0.])\n",
       " message: 'The solution converged.'\n",
       "    nfev: 12\n",
       "     qtf: array([2.4456881e-11])\n",
       "       r: array([-0.00931185])\n",
       "  status: 1\n",
       " success: True\n",
       "       x: array([7.28749795])"
      ]
     },
     "execution_count": 9,
     "metadata": {},
     "output_type": "execute_result"
    }
   ],
   "source": [
    "kbar = opt.root(numer_ss, 1, args=(γ, β, α, δ, zbar, τ))\n",
    "kbar"
   ]
  },
  {
   "cell_type": "markdown",
   "metadata": {},
   "source": [
    "Since $\\bar{k}$ is the same, it follows that $\\bar{r}, \\bar{w}, \\bar{y}$, and $\\bar{i}$ will also be the same. "
   ]
  },
  {
   "cell_type": "markdown",
   "metadata": {},
   "source": [
    "**Exercise 6**"
   ]
  },
  {
   "cell_type": "code",
   "execution_count": 10,
   "metadata": {},
   "outputs": [],
   "source": [
    "# Calibration\n",
    "\n",
    "γ = 2.5\n",
    "ξ = 1.5\n",
    "β = 0.98\n",
    "α = 0.40\n",
    "a = 0.5\n",
    "δ = 0.10\n",
    "zbar = 0\n",
    "τ = 0.05"
   ]
  },
  {
   "cell_type": "markdown",
   "metadata": {},
   "source": [
    "Since we include labor, The steady state value of k is given by\n",
    "$\\bar{k}=\\bar{\\ell}e^\\bar{z}\\bigg[\\frac{1-\\beta}{\\alpha\\beta(1-\\tau)} + \\frac{\\delta}{\\alpha}\\bigg]^{\\frac{1}{\\alpha-1}}$\n",
    "<br>\n",
    "(that is, $\\bar{\\ell} \\ne 1$, unlike the previous exercise)"
   ]
  },
  {
   "cell_type": "code",
   "execution_count": 11,
   "metadata": {},
   "outputs": [],
   "source": [
    "def numer2_ss(params, γ, ξ, β, α, a, δ, zbar, τ):\n",
    "    k, ℓ = params\n",
    "    r = α * (k / ℓ * (np.exp(zbar))) ** (α - 1)\n",
    "    w = (1 - α) * (k / (ℓ * np.exp(zbar)))**(α)\n",
    "    T = τ * (w * ℓ + (r - δ) * k)\n",
    "    c = (1 - τ) * (w * ℓ + (r - δ) * k) + T\n",
    "    euler1 = 1 - (β * ((r - δ) * (1 - τ) + 1))\n",
    "    euler2 = (a / (1 - ℓ)**(ξ)) - 1 / (c ** (γ)) * w * (1 - τ)\n",
    "    return euler1, euler2"
   ]
  },
  {
   "cell_type": "code",
   "execution_count": 12,
   "metadata": {},
   "outputs": [],
   "source": [
    "# Steady-state values of capital and labor\n",
    "\n",
    "ss = opt.root(numer2_ss, 0.5 * np.ones(2), args=(γ, ξ, β, α, a, δ, zbar, τ))\n",
    "kbar, ℓbar = ss.x"
   ]
  },
  {
   "cell_type": "code",
   "execution_count": 13,
   "metadata": {},
   "outputs": [],
   "source": [
    "rbar = α * (kbar / (ℓbar * (np.exp(zbar)))) ** (α - 1) # Steady-state interest rate\n",
    "wbar = (1 - α) * (kbar / (ℓbar * np.exp(zbar)))**(α) # Steady-state wage\n",
    "ybar = (kbar ** α) * (ℓbar ** (1 - α)) # Steady-state output\n",
    "ibar = kbar - (1 - δ) * kbar # Steady-state investment"
   ]
  },
  {
   "cell_type": "code",
   "execution_count": 14,
   "metadata": {},
   "outputs": [],
   "source": [
    "def num_ss(kbar, ℓbar, rbar, wbar, ybar, ibar):\n",
    "    print(\"Steady-state value of capital:\", kbar)\n",
    "    print(\"Steady-state value of labor:\", ℓbar)\n",
    "    print(\"Steady-state value of interest:\", rbar)\n",
    "    print(\"Steady-state value of wages:\", wbar)\n",
    "    print(\"Steady-state value of output:\", ybar)\n",
    "    print(\"Steady-state value of investment:\", ibar)"
   ]
  },
  {
   "cell_type": "code",
   "execution_count": 15,
   "metadata": {},
   "outputs": [
    {
     "name": "stdout",
     "output_type": "stream",
     "text": [
      "Steady-state value of capital: 4.225229025963057\n",
      "Steady-state value of labor: 0.5797914531660252\n",
      "Steady-state value of interest: 0.12148227713541133\n",
      "Steady-state value of wages: 1.327952768249015\n",
      "Steady-state value of output: 1.2832261087315706\n",
      "Steady-state value of investment: 0.42252290259630554\n"
     ]
    }
   ],
   "source": [
    "num_ss(kbar, ℓbar, rbar, wbar, ybar, ibar)"
   ]
  },
  {
   "cell_type": "code",
   "execution_count": null,
   "metadata": {},
   "outputs": [],
   "source": []
  }
 ],
 "metadata": {
  "kernelspec": {
   "display_name": "Python 3",
   "language": "python",
   "name": "python3"
  },
  "language_info": {
   "codemirror_mode": {
    "name": "ipython",
    "version": 3
   },
   "file_extension": ".py",
   "mimetype": "text/x-python",
   "name": "python",
   "nbconvert_exporter": "python",
   "pygments_lexer": "ipython3",
   "version": "3.6.5"
  }
 },
 "nbformat": 4,
 "nbformat_minor": 2
}
