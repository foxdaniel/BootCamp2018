{
 "cells": [
  {
   "cell_type": "markdown",
   "metadata": {},
   "source": [
    "**Introduction to NumPy**"
   ]
  },
  {
   "cell_type": "code",
   "execution_count": 1,
   "metadata": {},
   "outputs": [],
   "source": [
    "import numpy as np"
   ]
  },
  {
   "cell_type": "markdown",
   "metadata": {},
   "source": [
    "**Problem 1**"
   ]
  },
  {
   "cell_type": "code",
   "execution_count": 2,
   "metadata": {},
   "outputs": [
    {
     "data": {
      "text/plain": [
       "array([[ 37,  14, -32, -10],\n",
       "       [-54,  -7,  58,  65]])"
      ]
     },
     "execution_count": 2,
     "metadata": {},
     "output_type": "execute_result"
    }
   ],
   "source": [
    "def my_array1(x, y):\n",
    "    return A @ B\n",
    "\n",
    "A = np.array([ [3, -1, 4], [1, 5, -9] ])\n",
    "B = np.array([ [2, 6, -5, 3], [5, -8, 9, 7], [9, -3, -2, -3] ])\n",
    "my_array1(A, B)"
   ]
  },
  {
   "cell_type": "markdown",
   "metadata": {},
   "source": [
    "**Problem 2**"
   ]
  },
  {
   "cell_type": "code",
   "execution_count": 3,
   "metadata": {},
   "outputs": [
    {
     "data": {
      "text/plain": [
       "array([[0, 0, 0],\n",
       "       [0, 0, 0],\n",
       "       [0, 0, 0]])"
      ]
     },
     "execution_count": 3,
     "metadata": {},
     "output_type": "execute_result"
    }
   ],
   "source": [
    "# Write a function that defines the following matrix as a NumPy array.\n",
    "def my_array2(x):\n",
    "    return (-A @ -A @ -A) + (9 * (A @ A)) - (15 * A)\n",
    "\n",
    "A = np.array([ [3, 1, 4], [1, 5, 9], [-5, 3, 1] ])\n",
    "my_array2(A)"
   ]
  },
  {
   "cell_type": "markdown",
   "metadata": {},
   "source": [
    "**Problem 3**"
   ]
  },
  {
   "cell_type": "code",
   "execution_count": 4,
   "metadata": {},
   "outputs": [
    {
     "data": {
      "text/plain": [
       "array([[ -1,   4,  15,  32,  55,  84, 119],\n",
       "       [ -6,  -6,   0,  12,  30,  54,  84],\n",
       "       [ -5, -10,  -9,  -2,  11,  30,  55],\n",
       "       [ -4,  -8, -12, -10,  -2,  12,  32],\n",
       "       [ -3,  -6,  -9, -12,  -9,   0,  15],\n",
       "       [ -2,  -4,  -6,  -8, -10,  -6,   4],\n",
       "       [ -1,  -2,  -3,  -4,  -5,  -6,  -1]], dtype=int64)"
      ]
     },
     "execution_count": 4,
     "metadata": {},
     "output_type": "execute_result"
    }
   ],
   "source": [
    "def my_array3(x, y):\n",
    "    result3 = x @ y @ x\n",
    "    result3 = result3.astype(np.int64)\n",
    "    return result3\n",
    "\n",
    "A = np.ones((7, 7))\n",
    "A2 = np.triu(A)\n",
    "B = np.full((7, 7), 6)\n",
    "B2 = np.triu(B) - 1\n",
    "\n",
    "my_array3(A2, B2)"
   ]
  },
  {
   "cell_type": "markdown",
   "metadata": {},
   "source": [
    "**Problem 4**"
   ]
  },
  {
   "cell_type": "code",
   "execution_count": 5,
   "metadata": {},
   "outputs": [
    {
     "data": {
      "text/plain": [
       "array([[2, 6, 0, 3],\n",
       "       [5, 0, 9, 7],\n",
       "       [9, 0, 0, 0]])"
      ]
     },
     "execution_count": 5,
     "metadata": {},
     "output_type": "execute_result"
    }
   ],
   "source": [
    "def array_copy(input_array):\n",
    "    x = np.copy(input_array)\n",
    "    mask = x < 0\n",
    "    x[mask] = 0\n",
    "    return x\n",
    "\n",
    "A = np.array([ [2, 6, -5, 3], [5, -8, 9, 7], [9, -3, -2, -3] ])\n",
    "array_copy(A)"
   ]
  },
  {
   "cell_type": "markdown",
   "metadata": {},
   "source": [
    "**Problem 5**"
   ]
  },
  {
   "cell_type": "code",
   "execution_count": 6,
   "metadata": {},
   "outputs": [
    {
     "data": {
      "text/plain": [
       "array([[ 0,  0,  0,  0,  1,  1,  0,  0],\n",
       "       [ 0,  0,  0,  2,  3,  0,  1,  0],\n",
       "       [ 0,  0,  0,  4,  5,  0,  0,  1],\n",
       "       [ 0,  2,  4,  0,  0,  0,  0,  0],\n",
       "       [ 1,  3,  5,  0,  0,  0,  0,  0],\n",
       "       [ 3,  0,  0,  0,  0, -2,  0,  0],\n",
       "       [ 3,  3,  0,  0,  0,  0, -2,  0],\n",
       "       [ 3,  3,  3,  0,  0,  0,  0, -2]], dtype=int64)"
      ]
     },
     "execution_count": 6,
     "metadata": {},
     "output_type": "execute_result"
    }
   ],
   "source": [
    "def block_matrix():\n",
    "    A = np.arange(6).reshape(3, 2).T\n",
    "    B3 = np.full((3, 3), 3)\n",
    "    B = np.tril(B3)\n",
    "    C = np.diag([-2, -2, -2])\n",
    "    I = np.eye(3)\n",
    "    vert1 = np.vstack((np.zeros((3,3)), A, B))\n",
    "    vert2 = np.vstack((A.T, np.zeros((2,2)), np.zeros((3,2))))\n",
    "    vert3 = np.vstack((I, np.zeros((2,3)), C))\n",
    "    block = np.hstack((vert1, vert2, vert3))\n",
    "    block = block.astype(np.int64)\n",
    "    return block\n",
    "\n",
    "block_matrix()"
   ]
  },
  {
   "cell_type": "markdown",
   "metadata": {},
   "source": [
    "**Problem 6**"
   ]
  },
  {
   "cell_type": "code",
   "execution_count": 7,
   "metadata": {},
   "outputs": [
    {
     "data": {
      "text/plain": [
       "array([[ 0.33333333,  1.        , -0.83333333,  0.5       ],\n",
       "       [ 0.38461538, -0.61538462,  0.69230769,  0.53846154],\n",
       "       [ 9.        , -3.        , -2.        , -3.        ]])"
      ]
     },
     "execution_count": 7,
     "metadata": {},
     "output_type": "execute_result"
    }
   ],
   "source": [
    "def new_mat(A):\n",
    "    x = A.sum(axis=1)\n",
    "    return(A.T/x).T\n",
    "\n",
    "new_mat(A)"
   ]
  },
  {
   "cell_type": "markdown",
   "metadata": {},
   "source": [
    "**Problem 7**"
   ]
  },
  {
   "cell_type": "code",
   "execution_count": 8,
   "metadata": {
    "scrolled": true
   },
   "outputs": [
    {
     "name": "stdout",
     "output_type": "stream",
     "text": [
      "70600674\n"
     ]
    }
   ],
   "source": [
    "grid = np.load(r\"C:\\Users\\danie\\BootCamp2018\\Computation\\Wk1_PyIntro\\grid.npy\")\n",
    "def prod4(grid):\n",
    "    horizmax = np.max(grid[:,:-3] * grid[:,1:-2] * grid[:,2:-1] * grid[:,3:])\n",
    "    vertmax = np.max(grid[:-3,:] * grid[1:-2,:] * grid[2:-1,:] * grid[3:,:])\n",
    "    rdiagmax = np.max(grid[:-3,:-3] * grid[1:-2,1:-2] * grid[2:-1:,2:-1] * grid[3:,3:])\n",
    "    ldiagmax = np.max(grid[:-3,3:] * grid[1:-2,2:-1] * grid[2:-1:,1:-2] * grid[3:,:-3])\n",
    "    max_value = max(horizmax, vertmax, rdiagmax, ldiagmax)\n",
    "    return max_value\n",
    "\n",
    "print(prod4(grid))"
   ]
  },
  {
   "cell_type": "code",
   "execution_count": null,
   "metadata": {},
   "outputs": [],
   "source": []
  }
 ],
 "metadata": {
  "kernelspec": {
   "display_name": "Python 3",
   "language": "python",
   "name": "python3"
  },
  "language_info": {
   "codemirror_mode": {
    "name": "ipython",
    "version": 3
   },
   "file_extension": ".py",
   "mimetype": "text/x-python",
   "name": "python",
   "nbconvert_exporter": "python",
   "pygments_lexer": "ipython3",
   "version": "3.6.4"
  }
 },
 "nbformat": 4,
 "nbformat_minor": 2
}
