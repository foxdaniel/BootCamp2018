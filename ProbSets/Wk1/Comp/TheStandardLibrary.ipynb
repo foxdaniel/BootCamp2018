{
 "cells": [
  {
   "cell_type": "markdown",
   "metadata": {},
   "source": [
    "**The Standard Library**"
   ]
  },
  {
   "cell_type": "code",
   "execution_count": 1,
   "metadata": {},
   "outputs": [],
   "source": [
    "import numpy as np"
   ]
  },
  {
   "cell_type": "markdown",
   "metadata": {},
   "source": [
    "**Problem 1**"
   ]
  },
  {
   "cell_type": "code",
   "execution_count": 2,
   "metadata": {},
   "outputs": [
    {
     "data": {
      "text/plain": [
       "(3, 18, 10.4)"
      ]
     },
     "execution_count": 2,
     "metadata": {},
     "output_type": "execute_result"
    }
   ],
   "source": [
    "from statistics import mean\n",
    "f = lambda a: (min(a), max(a), mean(a)) # function in a single line\n",
    "x = [10, 3, 7, 14, 18] # an example\n",
    "f(x)"
   ]
  },
  {
   "cell_type": "markdown",
   "metadata": {},
   "source": [
    "**Problem 2**\n"
   ]
  },
  {
   "cell_type": "code",
   "execution_count": 3,
   "metadata": {},
   "outputs": [
    {
     "name": "stdout",
     "output_type": "stream",
     "text": [
      "The following are mutable: \n",
      "lists\n",
      "sets\n",
      "The following are immutable: \n",
      "integers\n",
      "strings\n",
      "tuples\n"
     ]
    }
   ],
   "source": [
    "# int\n",
    "int1 = 3\n",
    "int2 = int1\n",
    "int2 += 1\n",
    "int1 == int2 # integers are immutable\n",
    "\n",
    "# str\n",
    "str1 = 'hello'\n",
    "str2 = str1\n",
    "str2 += ' there'\n",
    "str1 == str2 # strings are immutable\n",
    "\n",
    "# list\n",
    "list1 = [2, 4, 6]\n",
    "list2 = list1\n",
    "list2[2] = 8\n",
    "list1 == list2 # lists are mutable\n",
    "\n",
    "# tuple\n",
    "tup1 = ('x', 'y', 'z')\n",
    "tup2 = tup1\n",
    "tup2 += (1,)\n",
    "tup1 == tup2 # tuples are immutable\n",
    "\n",
    "# set\n",
    "set1 = {2, 4, 6}\n",
    "set2 = set1\n",
    "set2.add(8)\n",
    "set1 == set2 # sets are mutable\n",
    "\n",
    "print(\"The following are mutable: \")\n",
    "if int1 == int2:\n",
    "    print(\"integers\")\n",
    "if str1 == str2:\n",
    "    print(\"strings\")\n",
    "if list1 == list2:\n",
    "    print(\"lists\")\n",
    "if tup1 == tup2:\n",
    "    print(\"tuples\")\n",
    "if set1 == set2:\n",
    "    print(\"sets\")\n",
    "\n",
    "print(\"The following are immutable: \")\n",
    "if int1 != int2:\n",
    "    print(\"integers\")\n",
    "if str1 != str2:\n",
    "    print(\"strings\")\n",
    "if list1 != list2:\n",
    "    print(\"lists\")\n",
    "if tup1 != tup2:\n",
    "    print(\"tuples\")\n",
    "if set1 != set2:\n",
    "    print(\"sets\")"
   ]
  },
  {
   "cell_type": "markdown",
   "metadata": {},
   "source": [
    "**Problem 3**\n"
   ]
  },
  {
   "cell_type": "code",
   "execution_count": 4,
   "metadata": {},
   "outputs": [
    {
     "data": {
      "text/plain": [
       "10.0"
      ]
     },
     "execution_count": 4,
     "metadata": {},
     "output_type": "execute_result"
    }
   ],
   "source": [
    "import calculator as cal\n",
    "\n",
    "def newsol(x, y):\n",
    "    hypotenuse = cal.sqrt_calc(cal.sum_calc(cal.prod_calc(x, x), cal.prod_calc(y, y)))\n",
    "    return hypotenuse\n",
    "\n",
    "newsol(6, 8)"
   ]
  },
  {
   "cell_type": "markdown",
   "metadata": {},
   "source": [
    "**Problem 4**"
   ]
  },
  {
   "cell_type": "code",
   "execution_count": 5,
   "metadata": {
    "scrolled": true
   },
   "outputs": [],
   "source": [
    "from itertools import chain, combinations\n",
    "\n",
    "def power_set(iterable):\n",
    "    powerset = []\n",
    "    for i in range(len(iterable) + 1):\n",
    "        addit = combinations(iterable, i)\n",
    "        for item in addit:\n",
    "            powerset.append(set(item))\n",
    "    return powerset"
   ]
  },
  {
   "cell_type": "code",
   "execution_count": 6,
   "metadata": {},
   "outputs": [
    {
     "data": {
      "text/plain": [
       "[set(),\n",
       " {2},\n",
       " {4},\n",
       " {6},\n",
       " {8},\n",
       " {10},\n",
       " {2, 4},\n",
       " {2, 6},\n",
       " {2, 8},\n",
       " {2, 10},\n",
       " {4, 6},\n",
       " {4, 8},\n",
       " {4, 10},\n",
       " {6, 8},\n",
       " {6, 10},\n",
       " {8, 10},\n",
       " {2, 4, 6},\n",
       " {2, 4, 8},\n",
       " {2, 4, 10},\n",
       " {2, 6, 8},\n",
       " {2, 6, 10},\n",
       " {2, 8, 10},\n",
       " {4, 6, 8},\n",
       " {4, 6, 10},\n",
       " {4, 8, 10},\n",
       " {6, 8, 10},\n",
       " {2, 4, 6, 8},\n",
       " {2, 4, 6, 10},\n",
       " {2, 4, 8, 10},\n",
       " {2, 6, 8, 10},\n",
       " {4, 6, 8, 10},\n",
       " {2, 4, 6, 8, 10}]"
      ]
     },
     "execution_count": 6,
     "metadata": {},
     "output_type": "execute_result"
    }
   ],
   "source": [
    "power_set({2, 4, 6, 8, 10})"
   ]
  },
  {
   "cell_type": "markdown",
   "metadata": {},
   "source": [
    "**Problem 5**"
   ]
  },
  {
   "cell_type": "markdown",
   "metadata": {},
   "source": [
    "see shut_the_box.py and box.py (terminal + arguments in the command line)"
   ]
  },
  {
   "cell_type": "code",
   "execution_count": null,
   "metadata": {},
   "outputs": [],
   "source": []
  }
 ],
 "metadata": {
  "kernelspec": {
   "display_name": "Python 3",
   "language": "python",
   "name": "python3"
  },
  "language_info": {
   "codemirror_mode": {
    "name": "ipython",
    "version": 3
   },
   "file_extension": ".py",
   "mimetype": "text/x-python",
   "name": "python",
   "nbconvert_exporter": "python",
   "pygments_lexer": "ipython3",
   "version": "3.6.4"
  }
 },
 "nbformat": 4,
 "nbformat_minor": 2
}
