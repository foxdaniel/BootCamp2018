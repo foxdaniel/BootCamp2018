{
 "cells": [
  {
   "cell_type": "markdown",
   "metadata": {},
   "source": [
    "**Problem 1**"
   ]
  },
  {
   "cell_type": "code",
   "execution_count": 39,
   "metadata": {},
   "outputs": [],
   "source": [
    "def arithmagic():\n",
    "    step_1 = input(\"Enter a 3-digit number where the first and last \"\n",
    "                   \"digits differ by 2 or more: \")\n",
    "    if int(step_1) < 100 or int(step_1) >= 1000:\n",
    "        raise ValueError(\"input was not a 3-digit number.\")\n",
    "    elif int(step_1[2]) - int(step_1[0]) < 2:\n",
    "        raise ValueError(\"the input's first and last digits differ by less \"\n",
    "                         \"than 2.\")\n",
    "        \n",
    "    step_2 = input(\"Enter the reverse of the first number, obtained \"\n",
    "                   \"by reading it backwards: \")\n",
    "    if int(step_2[0]) != int(step_1[2]) or int(step_2[1]) != int(step_1[1]) or int(step_2[2]) != int(step_1[0]):\n",
    "        raise ValueError(\"the second number is not the reverse of the first number.\")\n",
    "    \n",
    "    step_3 = input(\"Enter the positive difference of these numbers: \")\n",
    "    if int(step_3) != abs(int(step_2) - int(step_1)):\n",
    "        raise ValueError(\"the third number is not the positive difference of the first two numbers.\")\n",
    "    \n",
    "    step_4 = input(\"Enter the reverse of the previous result: \")\n",
    "    print(str(step_3), \"+\", str(step_4), \"= 1089 (ta-da!)\")\n",
    "    if int(step_4[0]) != int(step_3[2]) or int(step_4[1]) != int(step_3[1]) or int(step_4[2]) != int(step_3[0]):\n",
    "        raise ValueError(\"the fourth number is not the reverse of the third number.\")"
   ]
  },
  {
   "cell_type": "code",
   "execution_count": 40,
   "metadata": {},
   "outputs": [
    {
     "name": "stdout",
     "output_type": "stream",
     "text": [
      "Enter a 3-digit number where the first and last digits differ by 2 or more: 141\n"
     ]
    },
    {
     "ename": "ValueError",
     "evalue": "the input's first and last digits differ by less than 2.",
     "output_type": "error",
     "traceback": [
      "\u001b[1;31m---------------------------------------------------------------------------\u001b[0m",
      "\u001b[1;31mValueError\u001b[0m                                Traceback (most recent call last)",
      "\u001b[1;32m<ipython-input-40-f603d848579d>\u001b[0m in \u001b[0;36m<module>\u001b[1;34m()\u001b[0m\n\u001b[1;32m----> 1\u001b[1;33m \u001b[0marithmagic\u001b[0m\u001b[1;33m(\u001b[0m\u001b[1;33m)\u001b[0m\u001b[1;33m\u001b[0m\u001b[0m\n\u001b[0m",
      "\u001b[1;32m<ipython-input-39-3e215a0e924c>\u001b[0m in \u001b[0;36marithmagic\u001b[1;34m()\u001b[0m\n\u001b[0;32m      5\u001b[0m         \u001b[1;32mraise\u001b[0m \u001b[0mValueError\u001b[0m\u001b[1;33m(\u001b[0m\u001b[1;34m\"input was not a 3-digit number.\"\u001b[0m\u001b[1;33m)\u001b[0m\u001b[1;33m\u001b[0m\u001b[0m\n\u001b[0;32m      6\u001b[0m     \u001b[1;32melif\u001b[0m \u001b[0mint\u001b[0m\u001b[1;33m(\u001b[0m\u001b[0mstep_1\u001b[0m\u001b[1;33m[\u001b[0m\u001b[1;36m2\u001b[0m\u001b[1;33m]\u001b[0m\u001b[1;33m)\u001b[0m \u001b[1;33m-\u001b[0m \u001b[0mint\u001b[0m\u001b[1;33m(\u001b[0m\u001b[0mstep_1\u001b[0m\u001b[1;33m[\u001b[0m\u001b[1;36m0\u001b[0m\u001b[1;33m]\u001b[0m\u001b[1;33m)\u001b[0m \u001b[1;33m<\u001b[0m \u001b[1;36m2\u001b[0m\u001b[1;33m:\u001b[0m\u001b[1;33m\u001b[0m\u001b[0m\n\u001b[1;32m----> 7\u001b[1;33m         raise ValueError(\"the input's first and last digits differ by less \"\n\u001b[0m\u001b[0;32m      8\u001b[0m                          \"than 2.\")\n\u001b[0;32m      9\u001b[0m \u001b[1;33m\u001b[0m\u001b[0m\n",
      "\u001b[1;31mValueError\u001b[0m: the input's first and last digits differ by less than 2."
     ]
    }
   ],
   "source": [
    "arithmagic()"
   ]
  },
  {
   "cell_type": "markdown",
   "metadata": {},
   "source": [
    "**Problem 2**"
   ]
  },
  {
   "cell_type": "code",
   "execution_count": null,
   "metadata": {},
   "outputs": [],
   "source": [
    "from random import choice\n",
    "\n",
    "#Note that ctrl-c does not have functionality in jupyter notbook\n",
    "#Please run as .py file to use ctrl-c\n",
    "\n",
    "def random_walk(max_iters=1e12):\n",
    "    walk = 0\n",
    "    directions = [1, -1]\n",
    "    for i in range(int(max_iters)):\n",
    "        try:\n",
    "            walk += choice(directions)\n",
    "        except KeyboardInterrupt:\n",
    "            raise KeyboardInterrupt(\"Process interrupted at iteration \" + str(i))\n",
    "    print(\"Process completed\")\n",
    "    \n",
    "    return walk\n",
    "\n",
    "random_walk(1000000000)"
   ]
  },
  {
   "cell_type": "markdown",
   "metadata": {},
   "source": [
    "**Problem 3**"
   ]
  },
  {
   "cell_type": "code",
   "execution_count": 3,
   "metadata": {},
   "outputs": [
    {
     "name": "stdout",
     "output_type": "stream",
     "text": [
      "filename: dont_try_it_anakin\n",
      "Provide a filename that is valid: i_have_the_high_ground\n",
      "Provide a filename that is valid: you_underestimate_my_power\n",
      "Provide a filename that is valid: test\n",
      "this is a test\n"
     ]
    }
   ],
   "source": [
    "class ContentFilter:\n",
    "    \n",
    "    def __init__ (self, filename):\n",
    "        self.filename = filename\n",
    "        self.contents = None\n",
    "        \n",
    "        while self.contents is None:\n",
    "            try:\n",
    "                self.file = self.filename + \".txt\"\n",
    "                with open(self.file, \"r\") as infile:\n",
    "                    self.contents = infile.read()\n",
    "            except:\n",
    "                self.filename = input(\"Provide a filename that is valid: \")\n",
    "              \n",
    "        if isinstance(self.filename, str) == False:\n",
    "            raise TypeError (\"File isn't of the right type\")\n",
    "            \n",
    "        else:\n",
    "            self.file = self.filename + \".txt\"\n",
    "            with open(self.file, \"r\") as infile:\n",
    "                self.contents = infile.read()\n",
    "        \n",
    "        print(self.contents)\n",
    "\n",
    "filename = input(\"filename: \")\n",
    "content = ContentFilter(filename)"
   ]
  },
  {
   "cell_type": "markdown",
   "metadata": {},
   "source": [
    "**Problem 4**"
   ]
  },
  {
   "cell_type": "code",
   "execution_count": 4,
   "metadata": {},
   "outputs": [
    {
     "name": "stdout",
     "output_type": "stream",
     "text": [
      "Source File:\t\touttest\n",
      "Total Characters:\t201\n",
      "Alphabetic Characters:\t159\n",
      "Numerical Characters:\t0\n",
      "Whitespace Characters:\t42\n",
      "Number of lines:\t12\n"
     ]
    }
   ],
   "source": [
    "class ContentFilter(object):\n",
    "\n",
    "    def __init__ (self, sourcefilename):\n",
    "        self.sourcefilename = sourcefilename\n",
    "        self.contents = \"\"\n",
    "\n",
    "        if isinstance(self.sourcefilename, str) == False:\n",
    "            raise TypeError (\"File isn't of the right type\")\n",
    "\n",
    "        else:\n",
    "            self.sourcefile = self.sourcefilename + \".txt\"\n",
    "            with open(self.sourcefile, \"r\") as infile:\n",
    "                self.contents = infile.read().splitlines()\n",
    "\n",
    "    def uniform(self, filename, mode = \"w\", case = \"upper\"):\n",
    "        \n",
    "        if mode == \"a\" or mode == \"w\":\n",
    "            \n",
    "            tostring = \"\\n\".join(self.contents)\n",
    "            \n",
    "            if case == \"upper\":\n",
    "                \n",
    "                upper_content = (tostring).upper()\n",
    "                with open(filename + \".txt\", mode) as outfile:\n",
    "                    outfile.write(upper_content)\n",
    "        \n",
    "            elif case == \"lower\":    \n",
    "            \n",
    "                lower_content = (tostring).lower()    \n",
    "                with open(filename + \".txt\", mode) as outfile:\n",
    "                    outfile.write(lower_content)\n",
    "    \n",
    "            else:\n",
    "                \n",
    "                raise ValueError (\"Not a valid case\")\n",
    "            \n",
    "        else:\n",
    "            raise ValueError (\"Not a valid mode\")\n",
    " \n",
    "    def reverse(self, filename, mode = \"w\", unit = \"line\"):\n",
    "        \n",
    "        if mode == \"a\" or mode == \"w\":\n",
    "            \n",
    "            if unit == \"line\":\n",
    "                \n",
    "                rev_array = []\n",
    "                \n",
    "                for i in range (0, len(self.contents)):\n",
    "                    rev_array.append(self.contents[len(self.contents) - i - 1])\n",
    "                \n",
    "                tostring2 = \"\\n\".join(rev_array) \n",
    "                \n",
    "                with open(filename + \".txt\", mode) as outfile:\n",
    "                    outfile.write(tostring2)\n",
    "        \n",
    "            elif unit == \"word\":    \n",
    "                words_array = []\n",
    "                edit_array = self.contents\n",
    "                edit_words = []\n",
    "                final_array = []\n",
    "                rev_words_array = []\n",
    "                \n",
    "                for j in range (0, len(self.contents)):\n",
    "                    \n",
    "                    edit_words = edit_array[j]\n",
    "                    words_array = edit_words.split() #put words in an array\n",
    "                    \n",
    "                    for k in range (0, len(words_array)):\n",
    "                        \n",
    "                        rev_words_array.append(words_array[len(words_array) - k - 1])\n",
    "                        \n",
    "                        tostringrev = \" \".join(rev_words_array)\n",
    "                    \n",
    "                    final_array.append(tostringrev)\n",
    "                    rev_words_array = []\n",
    "                    \n",
    "                tostring3 = \"\\n\".join(final_array)\n",
    "                \n",
    "                with open(filename + \".txt\", mode) as outfile:\n",
    "                    outfile.write(tostring3)\n",
    "    \n",
    "            else:\n",
    "                \n",
    "                raise ValueError (\"Not a valid case\")\n",
    "            \n",
    "        else:\n",
    "            raise ValueError (\"Not a valid mode\")\n",
    "            \n",
    "    def transpose(self, filename, mode = \"w\"):\n",
    "        \n",
    "        if mode == \"a\" or mode == \"w\":\n",
    "            \n",
    "            edit_array2 = []\n",
    "            edit_words2 = []\n",
    "            words_array2 = []\n",
    "            final_array2 = []\n",
    "            \n",
    "            for f in range (0, len(self.contents)):\n",
    "                \n",
    "                edit_array2 = self.contents\n",
    "                edit_words2 = edit_array2[f]\n",
    "                words_array2 = edit_words2.split()\n",
    "                \n",
    "                for g in range (0, len(words_array2)):\n",
    "                    final_array2.append(words_array2[g])\n",
    "            \n",
    "            tostring4 = \"\\n\".join(final_array2)\n",
    "            \n",
    "            with open(filename + \".txt\", mode) as outfile:\n",
    "                outfile.write(tostring4)\n",
    "            \n",
    "        else:\n",
    "            raise ValueError (\"Not a valid mode\")\n",
    "            \n",
    "    def __str__(self):\n",
    "        \n",
    "        self.sourcefile = self.sourcefilename + \".txt\"\n",
    "        with open(self.sourcefile, \"r\") as infile2:\n",
    "            counts = infile2.read()\n",
    "        \n",
    "        total_char = len(counts)\n",
    "        alp_char = sum(c.isalpha() for c in counts)\n",
    "        num_char = sum(c.isdigit() for c in counts)\n",
    "        white_char = total_char - alp_char - num_char\n",
    "        num_lines = len(self.contents)\n",
    "        \n",
    "        \n",
    "        return \"Source File:\\t\\t\" + self.sourcefilename + \"\\nTotal Characters:\\t\" + str(total_char) + \"\\nAlphabetic Characters:\\t\" + str(alp_char) + \"\\nNumerical Characters:\\t\" + str(num_char) + \"\\nWhitespace Characters:\\t\" + str(white_char) + \"\\nNumber of lines:\\t\" + str(num_lines) \n",
    "        \n",
    "        \n",
    "#Testing\n",
    "\n",
    "content = ContentFilter(\"outtest\")\n",
    "content.uniform(\"outtest\",\"w\",\"lower\")\n",
    "\n",
    "content = ContentFilter(\"outtest\")\n",
    "content.reverse(\"outtest_rev\",\"w\",\"line\")\n",
    "\n",
    "content = ContentFilter(\"outtest\")\n",
    "content.reverse(\"outtest_wordsrev\",\"w\",\"word\")\n",
    "\n",
    "content = ContentFilter(\"outtest\")\n",
    "content.transpose(\"outtest_transpose\",\"w\")\n",
    "\n",
    "content = ContentFilter(\"outtest\")\n",
    "print(content)\n"
   ]
  },
  {
   "cell_type": "code",
   "execution_count": null,
   "metadata": {},
   "outputs": [],
   "source": []
  }
 ],
 "metadata": {
  "kernelspec": {
   "display_name": "Python 3",
   "language": "python",
   "name": "python3"
  },
  "language_info": {
   "codemirror_mode": {
    "name": "ipython",
    "version": 3
   },
   "file_extension": ".py",
   "mimetype": "text/x-python",
   "name": "python",
   "nbconvert_exporter": "python",
   "pygments_lexer": "ipython3",
   "version": "3.6.4"
  }
 },
 "nbformat": 4,
 "nbformat_minor": 2
}
