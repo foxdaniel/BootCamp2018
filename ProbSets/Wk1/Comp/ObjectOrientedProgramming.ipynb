{
 "cells": [
  {
   "cell_type": "markdown",
   "metadata": {},
   "source": [
    "**Problem 1**"
   ]
  },
  {
   "cell_type": "code",
   "execution_count": 1,
   "metadata": {},
   "outputs": [],
   "source": [
    "class Backpack:\n",
    "    \"\"\"A Backpack object class. Has a name and a list of contents.\n",
    "\n",
    "    Attributes:\n",
    "        name (str): the name of the backpack's owner.\n",
    "        contents (list): the contents of the backpack.\n",
    "    \"\"\"\n",
    "    def __init__(self, name, color, max_size=5): # This function is the constructor.\n",
    "        \"\"\"Set the name and initialize an empty list of contents.\n",
    "\n",
    "        Parameters:\n",
    "            name (str): the name of the backpack's owner.\n",
    "        \"\"\"\n",
    "        self.name = name # Initialize some attributes.\n",
    "        self.contents = []\n",
    "        self.color = color\n",
    "        self.max_size = max_size\n",
    "        \n",
    "    def put(self, item):\n",
    "        \"\"\"Add 'item' to the backpack's list of contents.\"\"\"\n",
    "        if len(self.contents) >= self.max_size:\n",
    "            print(\"No Room!\")\n",
    "        else:\n",
    "            self.contents.append(item)\n",
    "        \n",
    "    def take(self, item):\n",
    "        \"\"\"Remove 'item' from the backpack's list of contents.\"\"\"\n",
    "        self.contents.remove(item)\n",
    "        \n",
    "    def dump(self):\n",
    "        '''Remove all contents from the backpack'''\n",
    "        self.contents = []"
   ]
  },
  {
   "cell_type": "code",
   "execution_count": 2,
   "metadata": {},
   "outputs": [
    {
     "name": "stdout",
     "output_type": "stream",
     "text": [
      "Contents: ['pencil', 'pen', 'paper', 'computer', 'eraser']\n",
      "Let's put another item in\n",
      "No Room!\n",
      "Making more room...\n",
      "Contents: ['pencil', 'pen', 'paper', 'computer']\n",
      "Now dumping all the contents from the backpack...\n",
      "Contents: []\n"
     ]
    }
   ],
   "source": [
    "def test_backpack():\n",
    "    testpack = Backpack(\"Barry\", \"black\")       # Instantiate the object.\n",
    "    if testpack.name != \"Barry\":                # Test an attribute.\n",
    "        print(\"Backpack.name assigned incorrectly\")\n",
    "    for item in [\"pencil\", \"pen\", \"paper\", \"computer\", \"eraser\"]:\n",
    "        testpack.put(item)                      # Test a method.\n",
    "    print(\"Contents:\", testpack.contents)\n",
    "    print(\"Let's put another item in\")\n",
    "    testpack.put(\"ruler\")\n",
    "    print(\"Making more room...\")\n",
    "    testpack.take(testpack.contents[-1])\n",
    "    print(\"Contents:\", testpack.contents)\n",
    "    print(\"Now dumping all the contents from the backpack...\")\n",
    "    testpack.dump()\n",
    "    print(\"Contents:\", testpack.contents)\n",
    "    \n",
    "test_backpack()"
   ]
  },
  {
   "cell_type": "markdown",
   "metadata": {},
   "source": [
    "**Problem 2**"
   ]
  },
  {
   "cell_type": "code",
   "execution_count": 3,
   "metadata": {},
   "outputs": [],
   "source": [
    "class Jetpack(Backpack):\n",
    "    \"\"\"A Jetpack object class. Inherits from the Backpack class above.\n",
    "    \n",
    "    Attributes:\n",
    "        name (str): the name of the jetpack's owner.\n",
    "        contents (list): the contents of the jetpack.\n",
    "        color (str): the color of the jetpack.\n",
    "        max_size (int): the size of the jetpack--how many items\n",
    "            can fit inside.\n",
    "        fuel (float): the amount of fuel the jetpack can hold\n",
    "    \"\"\"\n",
    "    def __init__(self, name, color, max_size=2, fuel=10):\n",
    "        self.fuel = fuel\n",
    "        \"\"\"Override the constructor so that in addition to a name, color, and \n",
    "            maximum size, it also accepts an amount of fuel. Change the default\n",
    "            value of max_size to 2, and set the default value of fuel to 10. Store\n",
    "            the fuel as an attribute.\n",
    "        \n",
    "        Inputs:\n",
    "            name (str): the name of the jetpack's owner.\n",
    "            color (str): the color of the jetpack.\n",
    "            max_size (int): the size of the jetpack--how many items\n",
    "                can fit inside.\n",
    "            fuel (float): the amount of fuel the jetpack can hold\n",
    "                \n",
    "        \"\"\"\n",
    "        \n",
    "    def dump(self):\n",
    "        \"\"\"Both contents and the fuel tank are emptied\n",
    "        \"\"\"\n",
    "        self.contents = []\n",
    "        self.fuel_size = 0\n",
    "        \n",
    "    def fly(self):\n",
    "        \"\"\"Accepts an amount of fuel to be burned and decrements the fuel\n",
    "        attribute by that amount. If the user tries to burn more fuel than \n",
    "        remains, print \"Not enough fuel!\" and do not decrement the fuel.\n",
    "        \"\"\"\n",
    "        required_fuel = float(input(\"Enter the amount of fuel needed: \"))\n",
    "        if self.fuel >= required_fuel:\n",
    "            print(\"Another happy landing! Have a safe trip!\")\n",
    "            self.fuel -=required_fuel\n",
    "        else:\n",
    "            print(\"Not enough fuel\")\n"
   ]
  },
  {
   "cell_type": "markdown",
   "metadata": {},
   "source": [
    "**Problem 3**"
   ]
  },
  {
   "cell_type": "code",
   "execution_count": 4,
   "metadata": {},
   "outputs": [],
   "source": [
    "class Backpack:\n",
    "    \"\"\"A Backpack object class. Has a name and a list of contents.\n",
    "\n",
    "    Attributes:\n",
    "        name (str): the name of the backpack's owner.\n",
    "        contents (list): the contents of the backpack.\n",
    "    \"\"\"\n",
    "    def __init__(self, name, color, max_size=5): # This function is the constructor.\n",
    "        \"\"\"Set the name and initialize an empty list of contents.\n",
    "\n",
    "        Parameters:\n",
    "            name (str): the name of the backpack's owner.\n",
    "        \"\"\"\n",
    "        self.name = name # Initialize some attributes.\n",
    "        self.contents = []\n",
    "        self.color = color\n",
    "        self.max_size = max_size\n",
    "        \n",
    "    def put(self, item):\n",
    "        \"\"\"Add 'item' to the backpack's list of contents.\"\"\"\n",
    "        if len(self.contents) >= self.max_size:\n",
    "            print(\"No Room!\")\n",
    "        else:\n",
    "            self.contents.append(item)\n",
    "        \n",
    "    def take(self, item):\n",
    "        \"\"\"Remove 'item' from the backpack's list of contents.\"\"\"\n",
    "        self.contents.remove(item)\n",
    "        \n",
    "    def dump(self):\n",
    "        '''Remove all contents from the backpack'''\n",
    "        self.contents = []\n",
    "        \n",
    "    # Problem 3\n",
    "    \n",
    "    def __eq__(self, other):\n",
    "        \n",
    "        return(len(self.contents) == len(other.contents) and \\\n",
    "               self.name == other.name and self.color == other.color)\n",
    "    \n",
    "    def __str__(self):\n",
    "        \n",
    "        return f'''\n",
    "        Owner: \\t \\t {self.name}  \\n\n",
    "        Color: \\t \\t {self.color} \\n\n",
    "        Size: \\t \\t {len(self.contents)} \\n\n",
    "        Max Size: \\t {self.max_size} \\n\n",
    "        Contents: \\t {self.contents}\n",
    "        '''"
   ]
  },
  {
   "cell_type": "code",
   "execution_count": 5,
   "metadata": {},
   "outputs": [
    {
     "name": "stdout",
     "output_type": "stream",
     "text": [
      "\n",
      "        Owner: \t \t Daniel  \n",
      "\n",
      "        Color: \t \t black \n",
      "\n",
      "        Size: \t \t 5 \n",
      "\n",
      "        Max Size: \t 5 \n",
      "\n",
      "        Contents: \t ['pencil', 'pen', 'paper', 'computer', 'eraser']\n",
      "        \n"
     ]
    }
   ],
   "source": [
    "my_backpack = Backpack('Daniel', 'black')\n",
    "for item in [\"pencil\", \"pen\", \"paper\", \"computer\", \"eraser\"]:\n",
    "    my_backpack.put(item)\n",
    "    \n",
    "print(my_backpack)"
   ]
  },
  {
   "cell_type": "markdown",
   "metadata": {},
   "source": [
    "**Problem 4**"
   ]
  },
  {
   "cell_type": "code",
   "execution_count": 6,
   "metadata": {},
   "outputs": [],
   "source": [
    "import math\n",
    "\n",
    "class ComplexNumber:\n",
    "    \n",
    "    def __init__(self, real=0, imag=0):\n",
    "        self.real = real\n",
    "        self.imag = imag\n",
    "    \n",
    "    def conjugate(self):\n",
    "        return ComplexNumber(self.real, -self.imag)\n",
    "\n",
    "    def __str__(self):\n",
    "        return \"{}{}{}{}j{}\".format(\"(\", self.real, '+' if self.imag >= 0 else '-', abs(self.imag), \")\")\n",
    "    \n",
    "    def __abs__(self):\n",
    "        return math.sqrt(self.real**2 + self.imag**2)\n",
    "    \n",
    "    def __eq__(self, other):\n",
    "        return self.real == other.real and self.imag == other.imag\n",
    "    \n",
    "    def __add__(self, other):\n",
    "        real = self.real + other.real\n",
    "        imag = self.imag + other.imag\n",
    "        return ComplexNumber(real, imag)\n",
    "    \n",
    "    def __sub__(self, other):\n",
    "        real = self.real - other.real\n",
    "        imag = self.imag - other.imag\n",
    "        return ComplexNumber(real, imag)\n",
    "    \n",
    "    def __mul__(self, other):\n",
    "        real = self.real*other.real - self.imag*other.imag\n",
    "        imag = self.imag*other.real + other.imag*self.real\n",
    "        return ComplexNumber(real, imag)\n",
    "    \n",
    "    def __truediv__(self, other):\n",
    "        if other.real == 0 and other.imag == 0:\n",
    "            raise ValueError(\"Attempted to divide by zero\")\n",
    "        bottom = (other.conjugate()*other*1.).real\n",
    "        top = self*other.conjugate()\n",
    "        return ComplexNumber(top.real / bottom, top.imag / bottom)"
   ]
  },
  {
   "cell_type": "code",
   "execution_count": 7,
   "metadata": {},
   "outputs": [
    {
     "name": "stdout",
     "output_type": "stream",
     "text": [
      "(0.6+0.8j)\n"
     ]
    }
   ],
   "source": [
    "print(ComplexNumber(1, 3) / ComplexNumber(3, 1))"
   ]
  },
  {
   "cell_type": "code",
   "execution_count": 8,
   "metadata": {},
   "outputs": [
    {
     "name": "stdout",
     "output_type": "stream",
     "text": [
      "(6+9j)\n",
      "(-9+17j)\n",
      "(3.8-0.6j)\n"
     ]
    }
   ],
   "source": [
    "def test_ComplexNumber(a, b):\n",
    "    \"\"\"This function instantiates and analyzes a ComplexNumber object.\"\"\"\n",
    "    py_cnum, my_cnum = complex(a, b), ComplexNumber(a, b)\n",
    "    \n",
    "    # Validate the constructor.\n",
    "    if my_cnum.real != a or my_cnum.imag != b:\n",
    "        print(\"__init__() set self.real and self.imag incorrectly\")\n",
    "    \n",
    "    # Validate conjugate() by checking the new number's imag attribute.\n",
    "    if py_cnum.conjugate().imag != my_cnum.conjugate().imag:\n",
    "        print(\"conjugate() failed for\", py_cnum)\n",
    "    \n",
    "    # Validate __str__().\n",
    "    if str(py_cnum) != str(my_cnum):\n",
    "        print(\"__str__() failed for\", py_cnum)\n",
    "        \n",
    "    test = ComplexNumber(5, 7)\n",
    "    print(test + my_cnum)\n",
    "    print(test * my_cnum)\n",
    "    print(test / my_cnum)\n",
    "        \n",
    "test_ComplexNumber(1, 2)"
   ]
  }
 ],
 "metadata": {
  "kernelspec": {
   "display_name": "Python 3",
   "language": "python",
   "name": "python3"
  },
  "language_info": {
   "codemirror_mode": {
    "name": "ipython",
    "version": 3
   },
   "file_extension": ".py",
   "mimetype": "text/x-python",
   "name": "python",
   "nbconvert_exporter": "python",
   "pygments_lexer": "ipython3",
   "version": "3.6.4"
  }
 },
 "nbformat": 4,
 "nbformat_minor": 2
}
