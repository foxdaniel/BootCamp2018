{
 "cells": [
  {
   "cell_type": "markdown",
   "metadata": {},
   "source": [
    "**Problem 1**"
   ]
  },
  {
   "cell_type": "code",
   "execution_count": 1,
   "metadata": {},
   "outputs": [],
   "source": [
    "import numpy as np\n",
    "from scipy import linalg\n",
    "import pandas as pd"
   ]
  },
  {
   "cell_type": "code",
   "execution_count": 2,
   "metadata": {},
   "outputs": [],
   "source": [
    "def drazin(A, k, AD):\n",
    "    if np.allclose(A @ AD, AD @ A) and \\\n",
    "    np.allclose(np.linalg.matrix_power(A, k + 1)@ AD,\n",
    "    np.linalg.matrix_power(A, k)) and \\\n",
    "    np.allclose(AD @ A @ AD, AD):\n",
    "        return True\n",
    "    else:\n",
    "        return False"
   ]
  },
  {
   "cell_type": "code",
   "execution_count": 3,
   "metadata": {},
   "outputs": [
    {
     "name": "stdout",
     "output_type": "stream",
     "text": [
      "True\n",
      "True\n"
     ]
    }
   ],
   "source": [
    "# Test\n",
    "\n",
    "A = np.array([[1, 3, 0, 0], [0, 1, 3, 0], [0, 0, 1, 3], [0, 0, 0, 0]])\n",
    "AD = np.array([[1, -3, 9, 81], [0, 1,- 3, -18], [0, 0, 1, 3], [0, 0, 0, 0]])\n",
    "k_A = 1\n",
    "\n",
    "B = np.array([[1, 1, 3], [5, 2, 6], [-2, -1, -3]])\n",
    "BD = np.zeros_like(B)\n",
    "k_B = 3\n",
    "\n",
    "print(drazin(A,k_A,AD))\n",
    "print(drazin(B,k_B,BD))"
   ]
  },
  {
   "cell_type": "markdown",
   "metadata": {},
   "source": [
    "**Problem 2**"
   ]
  },
  {
   "cell_type": "code",
   "execution_count": 4,
   "metadata": {},
   "outputs": [],
   "source": [
    "def drazin2(A, tol):\n",
    "    n, n = A.shape\n",
    "    f = lambda x: abs(x) > tol\n",
    "    g = lambda x: abs(x) <= tol\n",
    "    Q1, S, k1 = linalg.schur(A, sort=f)\n",
    "    Q2, T, k2 = linalg.schur(A, sort=g)\n",
    "    U = np.concatenate((S[:, :k1], T[:, :n - k1]), axis = 1)\n",
    "    Uinv = linalg.inv(U)\n",
    "    V = Uinv @ A @ U\n",
    "    Z = np.zeros((n,n))\n",
    "    if k1 != 0:\n",
    "        Minv = linalg.inv(V[:k1, :k1])\n",
    "        Z[:k1, :k1] = Minv\n",
    "    return U @ Z @ Uinv"
   ]
  },
  {
   "cell_type": "code",
   "execution_count": 5,
   "metadata": {},
   "outputs": [
    {
     "name": "stdout",
     "output_type": "stream",
     "text": [
      "[[  1.  -3.   9.  81.]\n",
      " [  0.   1.  -3. -18.]\n",
      " [  0.   0.   1.   3.]\n",
      " [  0.   0.   0.   0.]]\n",
      "True\n",
      "[[0. 0. 0.]\n",
      " [0. 0. 0.]\n",
      " [0. 0. 0.]]\n",
      "True\n"
     ]
    }
   ],
   "source": [
    "# Verification\n",
    "\n",
    "AD = drazin2(A, 1e-5) # Use A from problem 1\n",
    "print(AD)\n",
    "print(drazin(A, 1, AD))\n",
    "\n",
    "BD = drazin2(B, 1e-5) # Use B from problem 2\n",
    "print(BD)\n",
    "print(drazin(B, 3, BD))"
   ]
  },
  {
   "cell_type": "markdown",
   "metadata": {},
   "source": [
    "**Problem 3**"
   ]
  },
  {
   "cell_type": "code",
   "execution_count": 6,
   "metadata": {},
   "outputs": [],
   "source": [
    "def effect_res(A):\n",
    "    deg = np.sum(A, 0)\n",
    "    Diag = np.diag(deg)\n",
    "    L = Diag - A\n",
    "    \n",
    "    n = np.shape(A)[0]\n",
    "    I = np.eye(n)\n",
    "    Z = np.zeros((n, n))\n",
    "    for i in range(0, n):\n",
    "        Li = np.copy(L)\n",
    "        Li[i, :] = I[i, :]\n",
    "        LiDiag = drazin2(Li, 0.001)\n",
    "        for j in range(0, n):\n",
    "            if j != i:\n",
    "                Z[j, i] = LiDiag[j, j]\n",
    "    return Z"
   ]
  },
  {
   "cell_type": "code",
   "execution_count": 7,
   "metadata": {},
   "outputs": [
    {
     "name": "stdout",
     "output_type": "stream",
     "text": [
      "True\n",
      "True\n",
      "True\n",
      "True\n",
      "True\n",
      "True\n"
     ]
    }
   ],
   "source": [
    "# Test\n",
    "\n",
    "A = np.array(([0, 1, 0, 0], [1, 0, 1, 0], [0, 1, 0, 1], [0, 0, 1, 0]))\n",
    "RA = effect_res(A)\n",
    "print(np.allclose(3, RA[0, 3]))\n",
    "\n",
    "B = np.array(([0, 1, 1], [1, 0, 1], [1, 1, 0]))\n",
    "RB = effect_res(B)\n",
    "print(np.allclose(2 / 3, RB[0, 1]))\n",
    "\n",
    "C = np.array(([0, 2], [2, 0]))\n",
    "RC = effect_res(C)\n",
    "print(np.allclose(1 / 2, RC[0, 1]))\n",
    "\n",
    "D = np.array(([0, 1], [1, 0]))\n",
    "RD = effect_res(D)\n",
    "print(np.allclose(1, RD[0, 1]))\n",
    "\n",
    "E = np.array(([0, 3], [3, 0]))\n",
    "RE = effect_res(E)\n",
    "print(np.allclose(1 / 3, RE[0, 1]))\n",
    "\n",
    "F = np.array(([0, 4], [4, 0]))\n",
    "RF = effect_res(F)\n",
    "print(np.allclose(1 / 4, RF[0, 1]))"
   ]
  },
  {
   "cell_type": "markdown",
   "metadata": {},
   "source": [
    "**Problem 4 and 5**"
   ]
  },
  {
   "cell_type": "code",
   "execution_count": 8,
   "metadata": {},
   "outputs": [],
   "source": [
    "class LinkPredictor:\n",
    "    \n",
    "    def __init__(self, file):\n",
    "        \n",
    "        network = pd.read_csv(file, header=None).as_matrix()\n",
    "        m, n = network.shape\n",
    "        \n",
    "        nodes, index = np.unique(network, return_inverse=True)\n",
    "        self.nodes = nodes\n",
    "        \n",
    "        index = index.reshape((m, n))\n",
    "        self.len = len(nodes)\n",
    "        Adj_mat = np.zeros((self.len, self.len))\n",
    "        \n",
    "        for i in range(m):\n",
    "            Adj_mat[index[i, 0], index[i, 1]] = 1\n",
    "            Adj_mat[index[i, 1], index[i, 0]] = 1\n",
    "        self.Adj_mat = Adj_mat\n",
    "        \n",
    "        R = effect_res(Adj_mat)\n",
    "        self.R = R\n",
    "        self.max_R = R.max()\n",
    "        \n",
    "    def predict_link(self, node=None):\n",
    "        if node == None:\n",
    "            Adj_copy = np.copy(self.Adj_mat)\n",
    "            R_copy = np.copy(self.R)\n",
    "            new = R_copy + self.max_R * Adj_copy + self.max_R * \\\n",
    "            np.eye(self.len)\n",
    "            index_min = np.unravel_index(new.argmin(), new.shape)\n",
    "            return(self.nodes[index_min[0]], self.nodes[index_min[1]])\n",
    "        \n",
    "        else:\n",
    "            if node in self.nodes:\n",
    "                index = np.where(self.nodes == node)[0][0]\n",
    "                Adj_copy = np.copy(self.Adj_mat)\n",
    "                R_copy = np.copy(self.R)\n",
    "                new = R_copy + Adj_copy + np.eye(self.len)\n",
    "                new = new[:, index]\n",
    "                index_min = np.unravel_index(new.argmin(), new.shape)\n",
    "                return self.nodes[index_min[0]]\n",
    "                \n",
    "            else:\n",
    "                raise ValueError(\"Node is not in the network.\")\n",
    "                \n",
    "    def add_link(self, node1, node2):\n",
    "        \n",
    "        if node1 in self.nodes and node2 in self.nodes:\n",
    "            index1 = np.where(self.nodes == node1)[0][0]\n",
    "            index2 = np.where(self.nodes == node2)[0][0]\n",
    "            \n",
    "            self.Adj_mat[index1,index2] = self.Adj_mat[index1,index2] + 1\n",
    "            self.Adj_mat[index2,index1] = self.Adj_mat[index2,index1] + 1\n",
    "            self.R = effect_res(self.Adj_mat)\n",
    "        else:\n",
    "            raise ValueError(\"Either node1 or node2 is not in the network.\")"
   ]
  },
  {
   "cell_type": "code",
   "execution_count": 9,
   "metadata": {},
   "outputs": [
    {
     "name": "stderr",
     "output_type": "stream",
     "text": [
      "C:\\Users\\danie\\AppData\\Local\\Continuum\\anaconda3\\lib\\site-packages\\ipykernel_launcher.py:5: FutureWarning: Method .as_matrix will be removed in a future version. Use .values instead.\n",
      "  \"\"\"\n"
     ]
    },
    {
     "data": {
      "text/plain": [
       "('Oliver', 'Emily')"
      ]
     },
     "execution_count": 9,
     "metadata": {},
     "output_type": "execute_result"
    }
   ],
   "source": [
    "net = LinkPredictor('social_network.csv')\n",
    "net.predict_link()"
   ]
  },
  {
   "cell_type": "code",
   "execution_count": 10,
   "metadata": {},
   "outputs": [
    {
     "data": {
      "text/plain": [
       "'Carol'"
      ]
     },
     "execution_count": 10,
     "metadata": {},
     "output_type": "execute_result"
    }
   ],
   "source": [
    "net.predict_link('Melanie')"
   ]
  },
  {
   "cell_type": "code",
   "execution_count": 11,
   "metadata": {},
   "outputs": [
    {
     "data": {
      "text/plain": [
       "'Sonia'"
      ]
     },
     "execution_count": 11,
     "metadata": {},
     "output_type": "execute_result"
    }
   ],
   "source": [
    "net.predict_link('Alan')"
   ]
  },
  {
   "cell_type": "code",
   "execution_count": 12,
   "metadata": {},
   "outputs": [
    {
     "data": {
      "text/plain": [
       "'Piers'"
      ]
     },
     "execution_count": 12,
     "metadata": {},
     "output_type": "execute_result"
    }
   ],
   "source": [
    "net.add_link('Alan', 'Sonia')\n",
    "net.predict_link('Alan')"
   ]
  },
  {
   "cell_type": "code",
   "execution_count": 13,
   "metadata": {},
   "outputs": [
    {
     "data": {
      "text/plain": [
       "'Abigail'"
      ]
     },
     "execution_count": 13,
     "metadata": {},
     "output_type": "execute_result"
    }
   ],
   "source": [
    "net.add_link('Alan', 'Piers')\n",
    "net.predict_link('Alan')"
   ]
  }
 ],
 "metadata": {
  "kernelspec": {
   "display_name": "Python 3",
   "language": "python",
   "name": "python3"
  },
  "language_info": {
   "codemirror_mode": {
    "name": "ipython",
    "version": 3
   },
   "file_extension": ".py",
   "mimetype": "text/x-python",
   "name": "python",
   "nbconvert_exporter": "python",
   "pygments_lexer": "ipython3",
   "version": "3.6.5"
  }
 },
 "nbformat": 4,
 "nbformat_minor": 2
}
