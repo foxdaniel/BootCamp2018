{
 "cells": [
  {
   "cell_type": "markdown",
   "metadata": {},
   "source": [
    "**Problem 1**"
   ]
  },
  {
   "cell_type": "code",
   "execution_count": 1,
   "metadata": {},
   "outputs": [],
   "source": [
    "import numpy as np\n",
    "from scipy import linalg"
   ]
  },
  {
   "cell_type": "code",
   "execution_count": 2,
   "metadata": {},
   "outputs": [],
   "source": [
    "def red_qr(A):\n",
    "    \"\"\" This function implements a modified Gram-Schmidt process\n",
    "    for reduced QR decomposition of a matrix A.\n",
    "    \"\"\"\n",
    "    m, n = A.shape\n",
    "    r = np.linalg.matrix_rank(A)\n",
    "    if r < n:\n",
    "        print(\"Inavlid: The matrix A does not have full column rank.\")\n",
    "    Q = np.copy(A)\n",
    "    R = np.zeros((n, n))\n",
    "    \n",
    "    for i in range(n):\n",
    "        R[i, i] = linalg.norm(Q[:, i])\n",
    "        Q[:, i] = Q[:, i] / R[i, i]\n",
    "        for j in range(i + 1, n):\n",
    "            R[i, j] = np.dot(np.transpose(Q[:, j]), Q[:, i])\n",
    "            Q[:,j] = Q[:,j] - R[i,j] * Q[:,i]\n",
    "            \n",
    "    return Q, R"
   ]
  },
  {
   "cell_type": "code",
   "execution_count": 3,
   "metadata": {},
   "outputs": [],
   "source": [
    "# Generate a random matrix\n",
    "\n",
    "A = np.random.random((6,4))\n",
    "Q, R = red_qr(A)"
   ]
  },
  {
   "cell_type": "code",
   "execution_count": 4,
   "metadata": {},
   "outputs": [
    {
     "name": "stdout",
     "output_type": "stream",
     "text": [
      "R is upper triangular:  True\n",
      "Q is orthonormal:  True\n",
      "A = QR:  True\n",
      "Q near Q1:  True\n",
      "R near R1:  True\n"
     ]
    }
   ],
   "source": [
    "# Test cases: verify that R is upper triangular, Q orthonormal, QR = A\n",
    "\n",
    "print(\"R is upper triangular: \", np.allclose(np.triu(R), R))\n",
    "print(\"Q is orthonormal: \", np.allclose(Q.T @ Q, np.identity(4)))\n",
    "print(\"A = QR: \", np.allclose(Q @ R, A)) \n",
    "Q1, R1 = linalg.qr(A, mode=\"economic\")\n",
    "print(\"Q near Q1: \", np.allclose(np.abs(Q), np.abs(Q1)))\n",
    "print(\"R near R1: \", np.allclose(np.abs(R), np.abs(R1)))"
   ]
  },
  {
   "cell_type": "markdown",
   "metadata": {},
   "source": [
    "**Problem 2**"
   ]
  },
  {
   "cell_type": "code",
   "execution_count": 5,
   "metadata": {},
   "outputs": [
    {
     "name": "stdout",
     "output_type": "stream",
     "text": [
      "Rank of A is:  0.0143\n",
      "Rank of A (scipy QR routine):  0.0143\n"
     ]
    }
   ],
   "source": [
    "# Longer version, written to compare the two\n",
    "\n",
    "def det_qr1(A):\n",
    "    \"\"\"Calculate the determinant of A\n",
    "    \"\"\"\n",
    "    \n",
    "    m, n = A.shape\n",
    "    r = np.linalg.matrix_rank(A)\n",
    "    if not n == m:\n",
    "        print(\"Invalid: A is not a square matrix.\")\n",
    "    if r < n:\n",
    "        print(\"Invalid: A is not an invertible matrix.\")\n",
    "    \n",
    "    Q, R = linalg.qr(A, mode=\"economic\")\n",
    "    return abs(np.prod(np.diag(R)))\n",
    "\n",
    "# Test\n",
    "\n",
    "# Main function\n",
    "A = np.random.random((6,6))\n",
    "r1 = round(det_qr1(A), 4)\n",
    "print(\"Rank of A is: \", r1)\n",
    "r2 = round(abs(linalg.det(A)), 4)\n",
    "print(\"Rank of A (scipy QR routine): \", r2)"
   ]
  },
  {
   "cell_type": "code",
   "execution_count": 6,
   "metadata": {},
   "outputs": [
    {
     "name": "stdout",
     "output_type": "stream",
     "text": [
      "Rank of A (single line):  0.0143\n"
     ]
    }
   ],
   "source": [
    "#Implement the function in one line\n",
    "\n",
    "det_qr2 = lambda A: abs(np.prod(np.diag(linalg.qr(A, mode='economic')[1])))\n",
    "\n",
    "# Test\n",
    "\n",
    "# Single line function\n",
    "r3 = round(det_qr1(A), 4)\n",
    "print(\"Rank of A (single line): \", r3)"
   ]
  },
  {
   "cell_type": "markdown",
   "metadata": {},
   "source": [
    "**Problem 3**"
   ]
  },
  {
   "cell_type": "code",
   "execution_count": 7,
   "metadata": {},
   "outputs": [],
   "source": [
    "def linear(A, b):\n",
    "    \"\"\"Uses QR decomposition to solve Ax = b\n",
    "    \"\"\"\n",
    "    \n",
    "    m, n = A.shape\n",
    "    r = np.linalg.matrix_rank(A)\n",
    "    length_b = len(b)\n",
    "    if not n == m:\n",
    "        print(\"Invalid: A is not a square matrix.\")\n",
    "    if r < n:\n",
    "        print(\"Invalid: A is not an invertible matrix.\")\n",
    "    if not length_b == n:\n",
    "        print(\"Invalid: b is not the correct length.\")\n",
    "        \n",
    "    Q, R = linalg.qr(A, mode = 'economic')\n",
    "    y = np.dot(np.transpose(Q), b)\n",
    "    x = np.zeros(n)\n",
    "\n",
    "    for i in range(n - 1, -1, -1):\n",
    "        x[i] = (y[i] - np.dot(R[i, i + 1:], x[i + 1:])) / R[i, i]\n",
    "    \n",
    "    return x"
   ]
  },
  {
   "cell_type": "code",
   "execution_count": 8,
   "metadata": {},
   "outputs": [
    {
     "name": "stdout",
     "output_type": "stream",
     "text": [
      "The function 'linear' and 'linalg.solve' yield the same result: True\n"
     ]
    }
   ],
   "source": [
    "# Test\n",
    "\n",
    "A = np.random.random((4, 4))\n",
    "b = np.random.random(4)\n",
    "x1 = linear(A, b)\n",
    "x2 = np.linalg.solve(A, b)\n",
    "print(\"The function 'linear' and 'linalg.solve' yield the \"\n",
    "      \"same result:\", np.allclose(x1, x2))"
   ]
  },
  {
   "cell_type": "markdown",
   "metadata": {},
   "source": [
    "**Problem 4**"
   ]
  },
  {
   "cell_type": "code",
   "execution_count": 9,
   "metadata": {
    "scrolled": true
   },
   "outputs": [],
   "source": [
    "def householder(A):\n",
    "    \"\"\"Implements the Householder algorithm to compute the QR decomposition of\n",
    "    a matrix A\n",
    "    \"\"\"\n",
    "    \n",
    "    m, n = A.shape\n",
    "    r = np.linalg.matrix_rank(A)\n",
    "    if r < n:\n",
    "        print(\"Inavlid: The matrix A does not have full column rank.\")\n",
    "    \n",
    "    R = np.copy(A)\n",
    "    Q = np.eye(m) # The mxm identity matrix\n",
    "    \n",
    "    for i in range(n):\n",
    "        u = np.copy(R[i:, i])\n",
    "        u[0] = u[0] + sign(u[0]) * linalg.norm(u)\n",
    "        u = u / linalg.norm(u)\n",
    "        R[i:, i:] = R[i:, i:] - 2 * np.outer(u, np.dot(np.transpose(u), \n",
    "                                                       R[i:, i:]))\n",
    "        Q[i:, :] = Q[i:, :] - 2 * np.outer(u, np.dot(np.transpose(u), \n",
    "                                                     Q[i:, :]))\n",
    "    \n",
    "    return np.transpose(Q), R"
   ]
  },
  {
   "cell_type": "code",
   "execution_count": 10,
   "metadata": {},
   "outputs": [],
   "source": [
    "sign = lambda x: 1 if x >= 0 else -1 # Define the sign function"
   ]
  },
  {
   "cell_type": "code",
   "execution_count": 11,
   "metadata": {},
   "outputs": [
    {
     "name": "stdout",
     "output_type": "stream",
     "text": [
      "R  is upper triangular:  True\n",
      "Q is orthonormal:  True\n",
      "A = QR:  True\n"
     ]
    }
   ],
   "source": [
    "# Test\n",
    "\n",
    "A = np.random.random((6, 4))\n",
    "Q,R = householder(A) \n",
    "print(\"R  is upper triangular: \", np.allclose(np.triu(R), R))\n",
    "print(\"Q is orthonormal: \", np.allclose(Q.T @ Q, np.identity(6)))\n",
    "print(\"A = QR: \", np.allclose(Q @ R, A))"
   ]
  },
  {
   "cell_type": "markdown",
   "metadata": {},
   "source": [
    "**Problem 5**"
   ]
  },
  {
   "cell_type": "code",
   "execution_count": 12,
   "metadata": {},
   "outputs": [],
   "source": [
    "def hessenberg(A):\n",
    "    \"\"\"Implements the Hessenberg algorithm \n",
    "    \"\"\"\n",
    "    \n",
    "    m, n = A.shape\n",
    "    r = np.linalg.matrix_rank(A)\n",
    "    if not n == m:\n",
    "        print(\"Invalid: A is not a square matrix.\")\n",
    "    if r < n:\n",
    "        print(\"Invalid: A is not an invertible matrix.\")\n",
    "        \n",
    "    H = np.copy(A)\n",
    "    Q = np.eye(m) # The mxm identity matrix\n",
    "    \n",
    "    for i in range(n - 2):\n",
    "        u = np.copy(H[i + 1:, i])\n",
    "        u[0] = u[0] + sign(u[0]) * linalg.norm(u)\n",
    "        u = u / linalg.norm(u)\n",
    "        H[i + 1:, i:] = H[i + 1:, i:] - 2 * np.outer(u, np.dot(np.transpose(u),\n",
    "                                                               H[i + 1:, i:]))\n",
    "        H[:, i + 1:] = H[:, i + 1:] - 2 * np.outer(np.dot(H[:, i + 1:], u), \n",
    "                                                   np.transpose(u))\n",
    "        Q[i + 1:, :] = Q[i + 1:, :] - 2 * np.outer(u, np.dot(np.transpose(u),\n",
    "                                                             Q[i + 1:, :]))\n",
    "        \n",
    "    return H, np.transpose(Q)"
   ]
  },
  {
   "cell_type": "code",
   "execution_count": 13,
   "metadata": {},
   "outputs": [
    {
     "name": "stdout",
     "output_type": "stream",
     "text": [
      "Zeroes below the first subdiagonal (matrix H):  True\n",
      "QHQ^T = A:  True\n"
     ]
    }
   ],
   "source": [
    "# Test\n",
    "\n",
    "A = np.random.random((6,6))\n",
    "H, Q = hessenberg(A)\n",
    "print(\"Zeroes below the first subdiagonal (matrix H): \", \n",
    "      np.allclose(np.triu(H, -1), H))\n",
    "print(\"QHQ^T = A: \", np.allclose(Q @ H @ Q.T, A))"
   ]
  }
 ],
 "metadata": {
  "kernelspec": {
   "display_name": "Python 3",
   "language": "python",
   "name": "python3"
  },
  "language_info": {
   "codemirror_mode": {
    "name": "ipython",
    "version": 3
   },
   "file_extension": ".py",
   "mimetype": "text/x-python",
   "name": "python",
   "nbconvert_exporter": "python",
   "pygments_lexer": "ipython3",
   "version": "3.6.5"
  }
 },
 "nbformat": 4,
 "nbformat_minor": 2
}
