{
 "cells": [
  {
   "cell_type": "code",
   "execution_count": 1,
   "metadata": {},
   "outputs": [],
   "source": [
    "import numpy as np\n",
    "from scipy import sparse as sp\n",
    "import scipy.linalg as la\n",
    "import pandas as pd"
   ]
  },
  {
   "cell_type": "markdown",
   "metadata": {},
   "source": [
    "**Problem 1**"
   ]
  },
  {
   "cell_type": "code",
   "execution_count": 2,
   "metadata": {},
   "outputs": [],
   "source": [
    "def adj_mat(filename, N):\n",
    "    A = sp.dok_matrix((N, N))\n",
    "    with open('matrix.txt', 'r') as myFile:\n",
    "        try:\n",
    "            for line in myFile:\n",
    "                numbers = line.strip().split()\n",
    "                if len(numbers) > 2:\n",
    "                    continue\n",
    "                else:\n",
    "                    A[int(numbers[0]), int(numbers[1])] = 1\n",
    "        except:\n",
    "            raise ValueError('File error')\n",
    "        finally:\n",
    "            myFile.close()\n",
    "    return A"
   ]
  },
  {
   "cell_type": "code",
   "execution_count": 3,
   "metadata": {},
   "outputs": [
    {
     "name": "stdout",
     "output_type": "stream",
     "text": [
      "  (0, 7)\t1.0\n",
      "  (1, 0)\t1.0\n",
      "  (3, 0)\t1.0\n",
      "  (3, 2)\t1.0\n",
      "  (3, 6)\t1.0\n",
      "  (4, 0)\t1.0\n",
      "  (4, 5)\t1.0\n",
      "  (4, 6)\t1.0\n",
      "  (5, 0)\t1.0\n",
      "  (5, 6)\t1.0\n",
      "  (6, 0)\t1.0\n",
      "  (7, 0)\t1.0\n"
     ]
    }
   ],
   "source": [
    "A = adj_mat('matrix.txt', 8)\n",
    "print(A)"
   ]
  },
  {
   "cell_type": "code",
   "execution_count": 4,
   "metadata": {},
   "outputs": [
    {
     "name": "stdout",
     "output_type": "stream",
     "text": [
      "[[0. 0. 0. 0. 0. 0. 0. 1.]\n",
      " [1. 0. 0. 0. 0. 0. 0. 0.]\n",
      " [0. 0. 0. 0. 0. 0. 0. 0.]\n",
      " [1. 0. 1. 0. 0. 0. 1. 0.]\n",
      " [1. 0. 0. 0. 0. 1. 1. 0.]\n",
      " [1. 0. 0. 0. 0. 0. 1. 0.]\n",
      " [1. 0. 0. 0. 0. 0. 0. 0.]\n",
      " [1. 0. 0. 0. 0. 0. 0. 0.]]\n"
     ]
    }
   ],
   "source": [
    "print(A.toarray())"
   ]
  },
  {
   "cell_type": "markdown",
   "metadata": {},
   "source": [
    "**Problem 2**"
   ]
  },
  {
   "cell_type": "code",
   "execution_count": 5,
   "metadata": {},
   "outputs": [],
   "source": [
    "def compKmat(A):\n",
    "    for i in range(len(A)):\n",
    "        if sum(A[i, :]) == 0:\n",
    "            A[i, :] = 1\n",
    "    # Compute the diagonal matrix D\n",
    "    D = np.zeros((len(A), len(A)))\n",
    "    for i in range(len(A)):\n",
    "        D[i, i] = sum(A[i , :])\n",
    "    K = (np.linalg.inv(D) @ A).T\n",
    "    return K"
   ]
  },
  {
   "cell_type": "code",
   "execution_count": 6,
   "metadata": {},
   "outputs": [
    {
     "name": "stdout",
     "output_type": "stream",
     "text": [
      "[[0.         1.         0.125      0.33333333 0.33333333 0.5\n",
      "  1.         1.        ]\n",
      " [0.         0.         0.125      0.         0.         0.\n",
      "  0.         0.        ]\n",
      " [0.         0.         0.125      0.33333333 0.         0.\n",
      "  0.         0.        ]\n",
      " [0.         0.         0.125      0.         0.         0.\n",
      "  0.         0.        ]\n",
      " [0.         0.         0.125      0.         0.         0.\n",
      "  0.         0.        ]\n",
      " [0.         0.         0.125      0.         0.33333333 0.\n",
      "  0.         0.        ]\n",
      " [0.         0.         0.125      0.33333333 0.33333333 0.5\n",
      "  0.         0.        ]\n",
      " [1.         0.         0.125      0.         0.         0.\n",
      "  0.         0.        ]]\n"
     ]
    }
   ],
   "source": [
    "K = compKmat(A.toarray())\n",
    "print(K)"
   ]
  },
  {
   "cell_type": "markdown",
   "metadata": {},
   "source": [
    "**Problem 3**"
   ]
  },
  {
   "cell_type": "code",
   "execution_count": 7,
   "metadata": {},
   "outputs": [],
   "source": [
    "def itermeth(A, N=None, d=.85, tol=1e-05):\n",
    "    if N:\n",
    "        A = A[:N, :N]\n",
    "        p_vector = np.random.random(N)\n",
    "    else:\n",
    "        N = len(A)\n",
    "        p_vector = np.random.random(N)\n",
    "    K = compKmat(A)\n",
    "    ɛ = tol + 1\n",
    "    while ɛ > tol:\n",
    "        p_vector2 = d * (K @ p_vector) + ((1 - d) / N) * np.ones(N)\n",
    "        ɛ = la.norm(p_vector2 - p_vector)\n",
    "        p_vector = p_vector2\n",
    "    return p_vector"
   ]
  },
  {
   "cell_type": "code",
   "execution_count": 8,
   "metadata": {},
   "outputs": [
    {
     "data": {
      "text/plain": [
       "array([0.43872245, 0.02171029, 0.02786154, 0.02171029, 0.02171029,\n",
       "       0.02786154, 0.04585394, 0.39462494])"
      ]
     },
     "execution_count": 8,
     "metadata": {},
     "output_type": "execute_result"
    }
   ],
   "source": [
    "t = itermeth(A.toarray())\n",
    "t"
   ]
  },
  {
   "cell_type": "markdown",
   "metadata": {},
   "source": [
    "**Problem 4**"
   ]
  },
  {
   "cell_type": "code",
   "execution_count": 9,
   "metadata": {},
   "outputs": [],
   "source": [
    "def eigmeth(A, N=None, d=.85):\n",
    "    if N:\n",
    "        A = A[:N, :N]\n",
    "    else:\n",
    "        N = len(A)\n",
    "    K = compKmat(A)\n",
    "    B = d * K + ((1 - d) / N) * np.ones((N, N))\n",
    "    eigs, vecs = la.eig(B)\n",
    "    \n",
    "    return(vecs[:,0] / np.sum(vecs[:,0]))"
   ]
  },
  {
   "cell_type": "code",
   "execution_count": 10,
   "metadata": {},
   "outputs": [
    {
     "data": {
      "text/plain": [
       "array([0.43869288, 0.02171029, 0.02786154, 0.02171029, 0.02171029,\n",
       "       0.02786154, 0.04585394, 0.39459924])"
      ]
     },
     "execution_count": 10,
     "metadata": {},
     "output_type": "execute_result"
    }
   ],
   "source": [
    "eigmeth(A.toarray())"
   ]
  },
  {
   "cell_type": "markdown",
   "metadata": {},
   "source": [
    "**Problem 5**"
   ]
  },
  {
   "cell_type": "code",
   "execution_count": 11,
   "metadata": {},
   "outputs": [
    {
     "name": "stdout",
     "output_type": "stream",
     "text": [
      "Top five ranked teams:\n",
      "Duke Butler Louisville Illinois Indiana "
     ]
    },
    {
     "name": "stderr",
     "output_type": "stream",
     "text": [
      "C:\\Users\\danie\\AppData\\Local\\Continuum\\anaconda3\\lib\\site-packages\\ipykernel_launcher.py:1: FutureWarning: Method .as_matrix will be removed in a future version. Use .values instead.\n",
      "  \"\"\"Entry point for launching an IPython kernel.\n"
     ]
    }
   ],
   "source": [
    "ncaa2013 = pd.read_csv('ncaa2013.csv', header = 0).as_matrix()\n",
    "m, n = ncaa2013.shape\n",
    "teams, index = np.unique(ncaa2013, return_inverse = True)\n",
    "index = index.reshape((m, n))\n",
    "\n",
    "t = len(teams)\n",
    "adj_mat = np.zeros((t,t))\n",
    "\n",
    "for i in range(m):\n",
    "    adj_mat[index[i, 1], index[i, 0]] = 1\n",
    "\n",
    "ranks = itermeth(adj_mat, d = 0.7)\n",
    "np.argsort(ranks.T)\n",
    "ranks = teams[np.argsort(ranks.T)].T[::-1]\n",
    "\n",
    "print('Top five ranked teams:')\n",
    "for i in range(5):\n",
    "    print(ranks[i], end=\" \")"
   ]
  },
  {
   "cell_type": "code",
   "execution_count": null,
   "metadata": {},
   "outputs": [],
   "source": []
  }
 ],
 "metadata": {
  "kernelspec": {
   "display_name": "Python 3",
   "language": "python",
   "name": "python3"
  },
  "language_info": {
   "codemirror_mode": {
    "name": "ipython",
    "version": 3
   },
   "file_extension": ".py",
   "mimetype": "text/x-python",
   "name": "python",
   "nbconvert_exporter": "python",
   "pygments_lexer": "ipython3",
   "version": "3.6.5"
  }
 },
 "nbformat": 4,
 "nbformat_minor": 2
}
