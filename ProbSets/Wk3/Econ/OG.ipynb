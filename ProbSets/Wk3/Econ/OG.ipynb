{
 "cells": [
  {
   "cell_type": "code",
   "execution_count": 1,
   "metadata": {},
   "outputs": [],
   "source": [
    "import numpy as np\n",
    "import time\n",
    "import scipy.optimize as opt\n",
    "import matplotlib.pyplot as plt\n",
    "import scipy.linalg"
   ]
  },
  {
   "cell_type": "markdown",
   "metadata": {},
   "source": [
    "**Exercise 2.1**"
   ]
  },
  {
   "cell_type": "code",
   "execution_count": 2,
   "metadata": {},
   "outputs": [],
   "source": [
    "# Calibration\n",
    "\n",
    "β = 0.96 ** 20            # 0.442, discount factor, 20-year\n",
    "δ = 1 - (1 - 0.05) ** 20  # 0.6415, depreciation of capital, 20- year\n",
    "σ = 3                     # relative risk aversion\n",
    "A = 1                     # productivity\n",
    "α = 0.35                  # capital share of income"
   ]
  },
  {
   "cell_type": "code",
   "execution_count": 3,
   "metadata": {},
   "outputs": [],
   "source": [
    "def feasible(f_params, bvec_guess):\n",
    "    \"\"\"\n",
    "    \"\"\"\n",
    "    \n",
    "    nvec, A, α, δ = f_params # inputs are tuple\n",
    "    L = np.sum(nvec)\n",
    "    K = np.sum(bvec_guess)\n",
    "    \n",
    "    # The outputs should be Boolean vectors of lengths 2, 3, and 1, respectively\n",
    "    b_cnstr, c_cnstr = np.zeros(2, dtype=bool), np.empty(3, dtype=bool)\n",
    "    K_cnstr = np.zeros(1, dtype=bool)  \n",
    "    \n",
    "    K_cnstr[0] = K <= 0\n",
    "    \n",
    "    r_t = r(α, A, L, K, δ)\n",
    "    w_t = w(α, A, L, K)    \n",
    "            \n",
    "    c1 = nvec[0] * w_t - bvec_guess[0]\n",
    "    c2 = nvec[1] * w_t + (1 + r_t) * bvec_guess[0] - bvec_guess[1]\n",
    "    c3 = nvec[2] * w_t + (1 + r_t) * bvec_guess[1]\n",
    "    \n",
    "    c = np.array([c1, c2, c3])  \n",
    "    c_cnstr = c <= 0\n",
    "    \n",
    "    if c_cnstr[0]:\n",
    "        b_cnstr[0] = True\n",
    "    elif c_cnstr[1]:\n",
    "        b_cnstr[:] = True\n",
    "    elif c_cnstr[2]:\n",
    "        b_cnstr[1] = True\n",
    "    \n",
    "    return b_cnstr, c_cnstr, K_cnstr"
   ]
  },
  {
   "cell_type": "code",
   "execution_count": 4,
   "metadata": {},
   "outputs": [],
   "source": [
    "nvec = np.array([1.0, 1.0, 0.2])\n",
    "n1, n2, n3 = nvec\n",
    "\n",
    "f_params = (nvec, A, α, δ)\n",
    "\n",
    "r = lambda α, A, L, K, δ: α * A * ((L / K) ** (1 - α)) - δ\n",
    "w = lambda α, A, L, K: (1 - α) * A * ((K / L) ** α)"
   ]
  },
  {
   "cell_type": "markdown",
   "metadata": {},
   "source": [
    "a) Which, if any, of the constraints is violated if you choose an initial guess for steady-state savings of **bvec_guess = np.array([1.0, 1.2])**?"
   ]
  },
  {
   "cell_type": "code",
   "execution_count": 5,
   "metadata": {},
   "outputs": [
    {
     "data": {
      "text/plain": [
       "(array([ True, False]), array([ True, False, False]), array([False]))"
      ]
     },
     "execution_count": 5,
     "metadata": {},
     "output_type": "execute_result"
    }
   ],
   "source": [
    "bvec_guess = np.array([1.0, 1.2])\n",
    "feasible(f_params, bvec_guess)"
   ]
  },
  {
   "cell_type": "markdown",
   "metadata": {},
   "source": [
    "The first constraint is violated"
   ]
  },
  {
   "cell_type": "markdown",
   "metadata": {},
   "source": [
    "b) Which, if any, of the constraints is violated if you choose an initial guess for steady-state savings of **bvec_guess = np.array([0.06, -0.001)]?**"
   ]
  },
  {
   "cell_type": "code",
   "execution_count": 6,
   "metadata": {},
   "outputs": [
    {
     "data": {
      "text/plain": [
       "(array([False, False]), array([False, False, False]), array([False]))"
      ]
     },
     "execution_count": 6,
     "metadata": {},
     "output_type": "execute_result"
    }
   ],
   "source": [
    "bvec_guess = np.array([0.06, -0.001])\n",
    "feasible(f_params, bvec_guess)"
   ]
  },
  {
   "cell_type": "markdown",
   "metadata": {},
   "source": [
    "None of them are violated"
   ]
  },
  {
   "cell_type": "markdown",
   "metadata": {},
   "source": [
    "c) Which, if any, of the constraints is violated if you choose an initial guess for steady-state savings of **bvec_guess = np.array([0.1, 0.1)]?**"
   ]
  },
  {
   "cell_type": "code",
   "execution_count": 7,
   "metadata": {},
   "outputs": [
    {
     "data": {
      "text/plain": [
       "(array([False, False]), array([False, False, False]), array([False]))"
      ]
     },
     "execution_count": 7,
     "metadata": {},
     "output_type": "execute_result"
    }
   ],
   "source": [
    "bvec_guess = np.array([0.1, 0.1])\n",
    "feasible(f_params, bvec_guess)"
   ]
  },
  {
   "cell_type": "markdown",
   "metadata": {},
   "source": [
    "None of them are violated"
   ]
  },
  {
   "cell_type": "markdown",
   "metadata": {},
   "source": [
    "**Exercise 2.2**"
   ]
  },
  {
   "cell_type": "code",
   "execution_count": 8,
   "metadata": {},
   "outputs": [],
   "source": [
    "def u_prime(c, params):\n",
    "    \n",
    "    if c >= 1e-6:\n",
    "        return c ** (-params[1])\n",
    "    else:\n",
    "        return 1e6**3"
   ]
  },
  {
   "cell_type": "code",
   "execution_count": 9,
   "metadata": {},
   "outputs": [],
   "source": [
    "def get_r(b_ss, params):\n",
    "    \n",
    "    arg = params[2].sum() / b_ss.sum()\n",
    "    return params[5] * params[4] * arg**(1 - params[5]) - params[6]"
   ]
  },
  {
   "cell_type": "code",
   "execution_count": 10,
   "metadata": {},
   "outputs": [],
   "source": [
    "def get_w(b_ss, params):\n",
    "    \n",
    "    arg = b_ss.sum() / params[2].sum()\n",
    "    return (1 - params[5]) * params[4] * arg**params[5]"
   ]
  },
  {
   "cell_type": "code",
   "execution_count": 11,
   "metadata": {},
   "outputs": [],
   "source": [
    "def get_EulErr(b_ss, params):\n",
    "    \n",
    "    r_ss = get_r(b_ss, params)\n",
    "    w_ss = get_w(b_ss, params)\n",
    "    \n",
    "    c1_ss = params[2][0] * w_ss - b_ss[0]\n",
    "    c2_ss = params[2][1] * w_ss + (1 + r_ss) * b_ss[0] - b_ss[1]\n",
    "    c3_ss = params[2][2] * w_ss + (1 + r_ss) * b_ss[1]\n",
    "    \n",
    "    eulerr1_ss = u_prime(c1_ss, params) - params[0] * (1 + r_ss) * \\\n",
    "                        u_prime(c2_ss, params)\n",
    "    eulerr2_ss = u_prime(c2_ss, params) - params[0] * (1 + r_ss) * \\\n",
    "                        u_prime(c3_ss, params)\n",
    "    \n",
    "    return np.array([eulerr1_ss, eulerr2_ss])"
   ]
  },
  {
   "cell_type": "code",
   "execution_count": 12,
   "metadata": {},
   "outputs": [],
   "source": [
    "def plot_c_ss(c_ss):\n",
    "    x = np.arange(3)\n",
    "    plt.bar(x, c_ss)\n",
    "    plt.xticks(x, ('c1', 'c2', 'c3'))\n",
    "    plt.title('Steady-state consumption')\n",
    "    plt.show()"
   ]
  },
  {
   "cell_type": "code",
   "execution_count": 13,
   "metadata": {},
   "outputs": [],
   "source": [
    "def plot_b_ss(b_ss):\n",
    "    x = np.arange(2)\n",
    "    plt.bar(x, b_ss)\n",
    "    plt.xticks(x, ('b2', 'b3'))\n",
    "    plt.title('Steady-state savings')\n",
    "    plt.show()"
   ]
  },
  {
   "cell_type": "code",
   "execution_count": 14,
   "metadata": {},
   "outputs": [],
   "source": [
    "def get_SS(params, bvec_guess, ss_graphs = False):\n",
    "    \n",
    "    start_time = time.clock()\n",
    "    \n",
    "    result = opt.root(get_EulErr, bvec_guess, args = params, tol = params[7])\n",
    "    b_ss = result.x\n",
    "    r_ss = get_r(b_ss, params)\n",
    "    w_ss = get_w(b_ss, params)\n",
    "    \n",
    "    c1_ss = params[2][0] * w_ss - b_ss[0]\n",
    "    c2_ss = params[2][1] * w_ss + (1 + r_ss) * b_ss[0] - b_ss[1]\n",
    "    c3_ss = params[2][2] * w_ss + (1 + r_ss) * b_ss[1]\n",
    "    \n",
    "    c_ss = np.array([c1_ss, c2_ss, c3_ss])\n",
    "    K_ss = b_ss.sum()\n",
    "    L_ss = params[2].sum()\n",
    "    Y_ss = params[4] * K_ss**params[5] * L_ss**(1 - params[5])\n",
    "    C_ss = Y_ss - params[6] * K_ss\n",
    "    EulErr_ss = result.fun\n",
    "    RCerr_ss = Y_ss - C_ss - params[6] * K_ss\n",
    "    \n",
    "    ss_time = time.clock() - start_time\n",
    "    \n",
    "    if ss_graphs:\n",
    "        plot_c_ss(c_ss)\n",
    "        plot_b_ss(b_ss)\n",
    "    \n",
    "    ss_output = {\n",
    "        'b_ss': b_ss, 'c_ss': c_ss, 'w_ss': w_ss, 'r_ss': r_ss,\n",
    "        'K_ss': K_ss, 'Y_ss': Y_ss, 'C_ss': C_ss,\n",
    "        'EulErr_ss': EulErr_ss, 'RCerr_ss': RCerr_ss,\n",
    "        'ss_time': ss_time}\n",
    "    \n",
    "    return ss_output"
   ]
  },
  {
   "cell_type": "code",
   "execution_count": 15,
   "metadata": {},
   "outputs": [],
   "source": [
    "bvec_guess = np.array([.1, .1])\n",
    "ss_tol = 1e-6\n",
    "L = nvec.sum()\n",
    "params = [β, σ, nvec, L, A, α, δ, ss_tol]"
   ]
  },
  {
   "cell_type": "code",
   "execution_count": 16,
   "metadata": {},
   "outputs": [
    {
     "data": {
      "image/png": "[encoded data removed]",
      "text/plain": [
       "<Figure size 432x288 with 1 Axes>"
      ]
     },
     "metadata": {},
     "output_type": "display_data"
    },
    {
     "data": {
      "image/png": "[encoded data removed]",
      "text/plain": [
       "<Figure size 432x288 with 1 Axes>"
      ]
     },
     "metadata": {},
     "output_type": "display_data"
    },
    {
     "data": {
      "text/plain": [
       "{'b_ss': array([0.01931274, 0.05841159]),\n",
       " 'c_ss': array([0.18241256, 0.20961491, 0.24087382]),\n",
       " 'w_ss': 0.20172529359537983,\n",
       " 'r_ss': 2.4330302535700885,\n",
       " 'K_ss': 0.07772432611790048,\n",
       " 'Y_ss': 0.6827625321689779,\n",
       " 'C_ss': 0.6329012827930353,\n",
       " 'EulErr_ss': array([ 4.58641125e-10, -8.88931595e-10]),\n",
       " 'RCerr_ss': 6.938893903907228e-18,\n",
       " 'ss_time': 0.0010533003926358419}"
      ]
     },
     "execution_count": 16,
     "metadata": {},
     "output_type": "execute_result"
    }
   ],
   "source": [
    "get_SS(params, bvec_guess, ss_graphs = True)"
   ]
  },
  {
   "cell_type": "code",
   "execution_count": 17,
   "metadata": {},
   "outputs": [],
   "source": [
    "β = 0.55               \n",
    "params = [β, σ, nvec, L, A, α, δ, ss_tol]"
   ]
  },
  {
   "cell_type": "code",
   "execution_count": 18,
   "metadata": {},
   "outputs": [
    {
     "data": {
      "image/png": "[encoded data removed]",
      "text/plain": [
       "<Figure size 432x288 with 1 Axes>"
      ]
     },
     "metadata": {},
     "output_type": "display_data"
    },
    {
     "data": {
      "image/png": "[encoded data removed]",
      "text/plain": [
       "<Figure size 432x288 with 1 Axes>"
      ]
     },
     "metadata": {},
     "output_type": "display_data"
    },
    {
     "data": {
      "text/plain": [
       "{'b_ss': array([0.02817696, 0.07686557]),\n",
       " 'c_ss': array([0.19597535, 0.22861559, 0.26669216]),\n",
       " 'w_ss': 0.22415231186618687,\n",
       " 'r_ss': 1.886360000063548,\n",
       " 'K_ss': 0.10504252544893955,\n",
       " 'Y_ss': 0.7586693632394017,\n",
       " 'C_ss': 0.691283104418148,\n",
       " 'EulErr_ss': array([-6.82537689e-08, -2.50616949e-08]),\n",
       " 'RCerr_ss': 0.0,\n",
       " 'ss_time': 0.0005736863046274521}"
      ]
     },
     "execution_count": 18,
     "metadata": {},
     "output_type": "execute_result"
    }
   ],
   "source": [
    "get_SS(params, bvec_guess, ss_graphs = True)"
   ]
  },
  {
   "cell_type": "markdown",
   "metadata": {},
   "source": [
    "Here we see that an increase in $\\beta$ leads to an increase in consumption and investment each period, as well as higher wages and a lower interest rate.\n",
    "<br>\n",
    "<br>\n",
    "The intuition behind this is that households are more patient, and receive more utility by consu,ing in the future than they did before. As a result, they will save more now in order to consume more tomorrow."
   ]
  },
  {
   "cell_type": "markdown",
   "metadata": {},
   "source": [
    "**Exercise 2.3**"
   ]
  },
  {
   "cell_type": "code",
   "execution_count": 19,
   "metadata": {},
   "outputs": [],
   "source": [
    "# Set parameters\n",
    "β = 0.96**20               # 20-year discount factor\n",
    "T = 25                        # Steady-state horizon\n",
    "tol = 1e-9                    # tolerance\n",
    "xi = 0.2\n",
    "nvec = np.array([1, 1, 0.2])  # Labour supply\n",
    "eul_tol = 1e-6                # tolerance for Euler errors\n",
    "max_iter = 10_000\n",
    "params = [β, σ, nvec, L, A, α, δ, eul_tol, max_iter]"
   ]
  },
  {
   "cell_type": "code",
   "execution_count": 20,
   "metadata": {},
   "outputs": [
    {
     "data": {
      "text/plain": [
       "array([0.01931274, 0.05841159])"
      ]
     },
     "execution_count": 20,
     "metadata": {},
     "output_type": "execute_result"
    }
   ],
   "source": [
    "output_ss = get_SS(params, bvec_guess)\n",
    "b2bar = output_ss['b_ss'][0]\n",
    "b3bar = output_ss['b_ss'][1]\n",
    "b_ss = np.array([b2bar, b3bar])\n",
    "\n",
    "b_ss"
   ]
  },
  {
   "cell_type": "code",
   "execution_count": 21,
   "metadata": {},
   "outputs": [],
   "source": [
    "b21 = 0.8 * b2bar\n",
    "b31 = 1.1 * b3bar\n",
    "bvec_guess = np.array([b21, b31])"
   ]
  },
  {
   "cell_type": "code",
   "execution_count": 22,
   "metadata": {},
   "outputs": [],
   "source": [
    "K1 = b21 + b31\n",
    "Kbar = b2bar + b3bar\n",
    "Kpath = np.linspace(K1, Kbar, T)\n",
    "Kpath = np.append(Kpath, Kbar)"
   ]
  },
  {
   "cell_type": "code",
   "execution_count": 23,
   "metadata": {},
   "outputs": [],
   "source": [
    "def get_wr_paths(T, Kpath, Kbar, params):\n",
    "    \n",
    "    rpath = np.zeros(T)\n",
    "    wpath = np.zeros(T)\n",
    "    for t in range(T):\n",
    "        rpath[t] = get_r(Kpath[t], params)\n",
    "        wpath[t] = get_w(Kpath[t], params)\n",
    "    rbar = get_r(Kbar, params)\n",
    "    wbar = get_w(Kbar, params)\n",
    "    rpath = np.append(rpath, rbar)\n",
    "    wpath = np.append(wpath, wbar)\n",
    "    \n",
    "    return np.array([rpath, wpath])"
   ]
  },
  {
   "cell_type": "code",
   "execution_count": 24,
   "metadata": {},
   "outputs": [],
   "source": [
    "def b32_EulErr(b32, b32_params):\n",
    "    \n",
    "    b21    = b32_params[0]\n",
    "    b22    = b32_params[1]\n",
    "    rpath  = b32_params[2]\n",
    "    wpath  = b32_params[3]\n",
    "    params = b32_params[4]\n",
    "    \n",
    "    c1 = (1 + rpath[0]) * b21 + wpath[0] * params[2][1] - b32\n",
    "    u1 = u_prime(c1, params)\n",
    "    c2 = (1 + rpath[1]) * b32 + wpath[1] * params[2][2]\n",
    "    u2 = u_prime(c2, params)\n",
    "    \n",
    "    return u1 - params[0] * (1 + rpath[1]) * u2"
   ]
  },
  {
   "cell_type": "code",
   "execution_count": 25,
   "metadata": {},
   "outputs": [],
   "source": [
    "def get_b32(b21, b22, rpath, wpath, params, bvec_guess):\n",
    "    \n",
    "    b32_params = [b21, b22, rpath, wpath, params]\n",
    "    result = opt.root(b32_EulErr, bvec_guess[0], args = b32_params, \n",
    "                      tol = params[7])\n",
    "    b32 = result.x\n",
    "    b32_EulErrs = result.fun\n",
    "    \n",
    "    return np.array([b32, b32_EulErrs])"
   ]
  },
  {
   "cell_type": "code",
   "execution_count": 26,
   "metadata": {},
   "outputs": [],
   "source": [
    "def b_EulErr(b, b_params):\n",
    "    \n",
    "    t = b_params[0]\n",
    "    rpath = b_params[1]\n",
    "    wpath = b_params[2]\n",
    "    params = b_params[3]\n",
    "    \n",
    "    c21 = wpath[t] * params[2][0] - b[0]\n",
    "    u21 = u_prime(c21, params)\n",
    "    c22 = (1 + rpath[t+1]) * b[0] + wpath[t+1] * params[2][1] - b[1]\n",
    "    u22 = u_prime(c22, params)\n",
    "    b2_EulErr = u21 - params[0] * (1 + rpath[t+1]) * u22\n",
    "    \n",
    "    c31 = (1 + rpath[t+1]) * b[0] + wpath[t+1] * params[2][1] - b[1]\n",
    "    u31 = u_prime(c31, params)\n",
    "    c32 = (1 + rpath[t+2]) * b[1] + wpath[t+2] * params[2][2]\n",
    "    u32 = u_prime(c32, params)\n",
    "    b3_EulErrs = u31 - params[0] * (1 + rpath[t+2]) * u32\n",
    "    \n",
    "    return np.array([b2_EulErr, b3_EulErrs])"
   ]
  },
  {
   "cell_type": "code",
   "execution_count": 27,
   "metadata": {},
   "outputs": [],
   "source": [
    "def get_b(t, rpath, wpath, params, bvec_guess):\n",
    "    \n",
    "    b_params = [t, rpath, wpath, params]\n",
    "    result = opt.root(b_EulErr, bvec_guess, args = b_params, tol = params[7])\n",
    "    b = result.x\n",
    "    b_EulErrs = result.fun\n",
    "    \n",
    "    return np.array([b, b_EulErrs])"
   ]
  },
  {
   "cell_type": "code",
   "execution_count": 28,
   "metadata": {},
   "outputs": [],
   "source": [
    "def aggregate_errs(Kpath, rpath, wpath, bmat, params):\n",
    "    \n",
    "    L = params[2].sum()\n",
    "    C = L * wpath[:-1] + (1 + rpath[:-1]) * bmat[:-1,0] - bmat[1:,0] + \\\n",
    "                        (1 + rpath[:-1]) * bmat[:-1,1] - bmat[1:,1]\n",
    "    Y = params[4] * (Kpath[:-1]**params[5]) * L**(1 - params[5])\n",
    "    \n",
    "    agg_err = Y - C - Kpath[1:] + (1 - params[6]) * Kpath[:-1]\n",
    "    max_agg_err = np.abs(agg_err).max()\n",
    "    \n",
    "    return max_agg_err"
   ]
  },
  {
   "cell_type": "code",
   "execution_count": 29,
   "metadata": {},
   "outputs": [],
   "source": [
    "def time_chart(T, rpath, wpath, Kpath, bvec_guess, b_ss, params):\n",
    "    \n",
    "    bmat = np.zeros((T+1, 2))\n",
    "    bmat[0,:] = bvec_guess\n",
    "    EulErrs = np.zeros((T+1, 2))\n",
    "    cols = [0,1]\n",
    "    for t in range(T-1):\n",
    "        rows = [t+1, t+2]\n",
    "        bmat[rows, cols], EulErrs[rows, cols] = get_b(t, rpath, wpath, \n",
    "                                                      params, \n",
    "                                                      bvec_guess)\n",
    "    \n",
    "    bmat[1,1], EulErrs[1,1] = get_b32(bmat[0,0], bmat[0,1], rpath, wpath, \n",
    "                                      params, \n",
    "                                      bvec_guess)\n",
    "    max_EulErrs = np.abs(EulErrs).max(axis = 0)\n",
    "    agg_errs = aggregate_errs(Kpath, rpath, wpath, bmat, params)\n",
    "    \n",
    "    \n",
    "    return bmat, max_EulErrs, agg_errs"
   ]
  },
  {
   "cell_type": "code",
   "execution_count": 30,
   "metadata": {},
   "outputs": [],
   "source": [
    "def Kprime(bmat, Kbar):\n",
    "    \n",
    "    Kp_path = bmat[:-1,:].sum(axis = 1)\n",
    "    Kp_path = np.append(Kp_path, Kbar)\n",
    "    \n",
    "    return Kp_path"
   ]
  },
  {
   "cell_type": "code",
   "execution_count": 31,
   "metadata": {},
   "outputs": [],
   "source": [
    "def TPI(T, Kpath, Kbar, bvec_guess, b_ss, params, tol, max_iter):\n",
    "    \n",
    "    dist = tol + 1\n",
    "    i = 0\n",
    "    \n",
    "    while (dist > tol) & (i < max_iter):\n",
    "        i += 1\n",
    "        rpath, wpath = get_wr_paths(T, Kpath, Kbar, params)\n",
    "        bmat, max_EulErrs, max_agg_errs = time_chart(T, rpath, wpath, Kpath, bvec_guess, b_ss, params)\n",
    "        Kp_path = Kprime(bmat, Kbar)\n",
    "        dist = scipy.linalg.norm(Kp_path - Kpath, 2)\n",
    "        Kpath = xi * Kp_path + (1 - xi) * Kpath\n",
    "    \n",
    "    print('Maximum of the absolute value of generation 2: ', max_EulErrs[0])\n",
    "    print('Maximum of the absolute value of generation 3: ', max_EulErrs[1])\n",
    "    print('Maximum of the absolute value of all aggregate resourse constraint error:\\n', max_agg_errs)\n",
    "    \n",
    "    return Kpath, rpath, wpath"
   ]
  },
  {
   "cell_type": "code",
   "execution_count": 32,
   "metadata": {},
   "outputs": [
    {
     "name": "stdout",
     "output_type": "stream",
     "text": [
      "Maximum of the absolute value of generation 2:  3.2133999638972455e-07\n",
      "Maximum of the absolute value of generation 3:  9.464220340760221e-08\n",
      "Maximum of the absolute value of all aggregate resourse constraint error:\n",
      " 0.019312736060194242\n"
     ]
    }
   ],
   "source": [
    "Kstd_path, rstd_path, wstd_path = TPI(T, Kpath, Kbar, bvec_guess, b_ss, \n",
    "                                      params, tol, max_iter)"
   ]
  },
  {
   "cell_type": "code",
   "execution_count": 33,
   "metadata": {},
   "outputs": [
    {
     "data": {
      "image/png": "[encoded data removed]",
      "text/plain": [
       "<Figure size 432x288 with 1 Axes>"
      ]
     },
     "metadata": {},
     "output_type": "display_data"
    },
    {
     "data": {
      "image/png": "[encoded data removed]",
      "text/plain": [
       "<Figure size 432x288 with 1 Axes>"
      ]
     },
     "metadata": {},
     "output_type": "display_data"
    },
    {
     "data": {
      "image/png": "[encoded data removed]",
      "text/plain": [
       "<Figure size 432x288 with 1 Axes>"
      ]
     },
     "metadata": {},
     "output_type": "display_data"
    }
   ],
   "source": [
    "plt.plot(Kstd_path)\n",
    "plt.title('Equilibrium Time Path of Aggregate Capital Stock')\n",
    "plt.xlabel('Time')\n",
    "plt.ylabel('Capital Stock')\n",
    "plt.show()\n",
    "\n",
    "plt.plot(wstd_path)\n",
    "plt.title('Equilibrium Time Path of Wages')\n",
    "plt.xlabel('Time')\n",
    "plt.ylabel('Wages')\n",
    "plt.show()\n",
    "\n",
    "plt.plot(rstd_path)\n",
    "plt.title('Equilibrium Time Path of Interest Rate')\n",
    "plt.xlabel('Time')\n",
    "plt.ylabel('Interest Rate')\n",
    "plt.show()"
   ]
  },
  {
   "cell_type": "code",
   "execution_count": 34,
   "metadata": {},
   "outputs": [
    {
     "name": "stdout",
     "output_type": "stream",
     "text": [
      "Periods for the economy to get within 1e-5 of the steady state aggregate capital:  2\n",
      "Periods for the economy stays within 1e-5 of the steady state aggregate capital:  10\n"
     ]
    }
   ],
   "source": [
    "Kstd_dist = np.abs(Kstd_path - Kbar)\n",
    "err = 1e-5\n",
    "loc = np.where(Kstd_dist < err)[0]\n",
    "print('Periods for the economy to get within 1e-5 of the steady state aggregate capital: ', loc.min())\n",
    "loc_cons = np.ediff1d(loc) == 1\n",
    "print('Periods for the economy stays within 1e-5 of the steady state aggregate capital: ', loc[-len(loc_cons)])"
   ]
  }
 ],
 "metadata": {
  "kernelspec": {
   "display_name": "Python 3",
   "language": "python",
   "name": "python3"
  },
  "language_info": {
   "codemirror_mode": {
    "name": "ipython",
    "version": 3
   },
   "file_extension": ".py",
   "mimetype": "text/x-python",
   "name": "python",
   "nbconvert_exporter": "python",
   "pygments_lexer": "ipython3",
   "version": "3.6.5"
  }
 },
 "nbformat": 4,
 "nbformat_minor": 2
}
