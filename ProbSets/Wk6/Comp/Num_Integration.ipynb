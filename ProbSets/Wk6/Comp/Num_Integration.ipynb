{
 "cells": [
  {
   "cell_type": "code",
   "execution_count": 1,
   "metadata": {},
   "outputs": [],
   "source": [
    "import numpy as np\n",
    "from scipy.stats import norm\n",
    "import matplotlib.pyplot as plt\n",
    "from scipy.optimize import root\n",
    "from scipy.integrate import quad"
   ]
  },
  {
   "cell_type": "markdown",
   "metadata": {},
   "source": [
    "**Exercise 14.1**"
   ]
  },
  {
   "cell_type": "code",
   "execution_count": 2,
   "metadata": {},
   "outputs": [],
   "source": [
    "def integrate(g, a, b, N, method):\n",
    "    \n",
    "    i = np.arange(0, N, 1)\n",
    "    x = a + ((2 * i + 1) * (b - a)) / (2 * N)\n",
    "    \n",
    "    if method == 'midpoint':\n",
    "        return ((b - a) / N) * np.sum(g(x))\n",
    "    \n",
    "    if method == 'trapezoid':\n",
    "        return (b - a) / (2 * N) * (g(x[0]) + 2 * np.sum(g(x[1:-1])) + g(x[-1]))\n",
    "    \n",
    "    if method == 'simpson':\n",
    "        i = np.arange(0, 2 * N, 1)\n",
    "        x = a + (i * (b - a)) / (2 * N)\n",
    "        return ((b - a) / (6 * (N + 1))) * (g(x[0]) + 4 * np.sum(g(x[1:(2*N-1):2])) + 2 \\\n",
    "            * np.sum(g(x[2:(2*N-2):2])) + g(x[-1]))"
   ]
  },
  {
   "cell_type": "code",
   "execution_count": 3,
   "metadata": {},
   "outputs": [],
   "source": [
    "g = lambda x: 0.1 * x ** 4 - 1.5 * x ** 3 + 0.53 * x ** 2 + 2 * x + 1"
   ]
  },
  {
   "cell_type": "code",
   "execution_count": 4,
   "metadata": {},
   "outputs": [
    {
     "data": {
      "text/plain": [
       "4373.278586816"
      ]
     },
     "execution_count": 4,
     "metadata": {},
     "output_type": "execute_result"
    }
   ],
   "source": [
    "integrate(g, -10, 10, 500, 'midpoint')"
   ]
  },
  {
   "cell_type": "code",
   "execution_count": 5,
   "metadata": {},
   "outputs": [
    {
     "data": {
      "text/plain": [
       "4352.321645695981"
      ]
     },
     "execution_count": 5,
     "metadata": {},
     "output_type": "execute_result"
    }
   ],
   "source": [
    "integrate(g, -10, 10, 1000, 'trapezoid')"
   ]
  },
  {
   "cell_type": "code",
   "execution_count": 6,
   "metadata": {},
   "outputs": [
    {
     "data": {
      "text/plain": [
       "4381.574824044178"
      ]
     },
     "execution_count": 6,
     "metadata": {},
     "output_type": "execute_result"
    }
   ],
   "source": [
    "integrate(g, -10, 10, 500, 'simpson')"
   ]
  },
  {
   "cell_type": "markdown",
   "metadata": {},
   "source": [
    "**Exercise 14.2**"
   ]
  },
  {
   "cell_type": "code",
   "execution_count": 7,
   "metadata": {},
   "outputs": [],
   "source": [
    "def distr_approx(μ, σ, N, k):\n",
    "    dist = norm(loc=μ, scale=σ)\n",
    "    ω = np.zeros(N)\n",
    "    z = np.linspace(μ - k * σ, μ + k * σ, N)\n",
    "    ω[0] = dist.cdf((z[0] + z[1]) / 2)\n",
    "    \n",
    "    for i in range(1, N-1):\n",
    "        z_min = (z[i-1] + z[i]) / 2\n",
    "        z_max = (z[i] + z[i+1]) / 2\n",
    "        ω[i] = dist.cdf(z_max) - dist.cdf(z_min)\n",
    "    \n",
    "    ω[-1] = 1 - dist.cdf(z[-2] + z[-1])\n",
    "    return z, ω"
   ]
  },
  {
   "cell_type": "code",
   "execution_count": 8,
   "metadata": {},
   "outputs": [
    {
     "data": {
      "text/plain": [
       "array([-3. , -2.4, -1.8, -1.2, -0.6,  0. ,  0.6,  1.2,  1.8,  2.4,  3. ])"
      ]
     },
     "execution_count": 8,
     "metadata": {},
     "output_type": "execute_result"
    }
   ],
   "source": [
    "nodes, weights = distr_approx(0, 1, 11, 3)\n",
    "nodes"
   ]
  },
  {
   "cell_type": "code",
   "execution_count": 9,
   "metadata": {},
   "outputs": [
    {
     "data": {
      "text/plain": [
       "array([3.46697380e-03, 1.43974468e-02, 4.89427807e-02, 1.17252924e-01,\n",
       "       1.98028452e-01, 2.35822844e-01, 1.98028452e-01, 1.17252924e-01,\n",
       "       4.89427807e-02, 1.43974468e-02, 3.33204485e-08])"
      ]
     },
     "execution_count": 9,
     "metadata": {},
     "output_type": "execute_result"
    }
   ],
   "source": [
    "weights"
   ]
  },
  {
   "cell_type": "markdown",
   "metadata": {},
   "source": [
    "**Exercise 14.3**"
   ]
  },
  {
   "cell_type": "code",
   "execution_count": 10,
   "metadata": {},
   "outputs": [],
   "source": [
    "def logdistr_approx(μ, σ, N, k):\n",
    "    z, ω = distr_approx(μ, σ, N, k)\n",
    "    return np.exp(z), ω"
   ]
  },
  {
   "cell_type": "code",
   "execution_count": 11,
   "metadata": {},
   "outputs": [
    {
     "data": {
      "text/plain": [
       "array([ 0.04978707,  0.09071795,  0.16529889,  0.30119421,  0.54881164,\n",
       "        1.        ,  1.8221188 ,  3.32011692,  6.04964746, 11.02317638,\n",
       "       20.08553692])"
      ]
     },
     "execution_count": 11,
     "metadata": {},
     "output_type": "execute_result"
    }
   ],
   "source": [
    "nodes, weights = logdistr_approx(0, 1, 11, 3)\n",
    "nodes"
   ]
  },
  {
   "cell_type": "code",
   "execution_count": 12,
   "metadata": {},
   "outputs": [
    {
     "data": {
      "text/plain": [
       "array([3.46697380e-03, 1.43974468e-02, 4.89427807e-02, 1.17252924e-01,\n",
       "       1.98028452e-01, 2.35822844e-01, 1.98028452e-01, 1.17252924e-01,\n",
       "       4.89427807e-02, 1.43974468e-02, 3.33204485e-08])"
      ]
     },
     "execution_count": 12,
     "metadata": {},
     "output_type": "execute_result"
    }
   ],
   "source": [
    "weights"
   ]
  },
  {
   "cell_type": "markdown",
   "metadata": {},
   "source": [
    "**Exercise 14.4**"
   ]
  },
  {
   "cell_type": "code",
   "execution_count": 13,
   "metadata": {},
   "outputs": [],
   "source": [
    "μ = 10.5\n",
    "σ = 0.8\n",
    "nodes, weights = logdistr_approx(μ, σ, 11, 3)"
   ]
  },
  {
   "cell_type": "code",
   "execution_count": 14,
   "metadata": {},
   "outputs": [
    {
     "data": {
      "text/plain": [
       "48964.58431238742"
      ]
     },
     "execution_count": 14,
     "metadata": {},
     "output_type": "execute_result"
    }
   ],
   "source": [
    "np.sum(nodes * weights)"
   ]
  },
  {
   "cell_type": "code",
   "execution_count": 15,
   "metadata": {},
   "outputs": [
    {
     "data": {
      "text/plain": [
       "50011.087008521754"
      ]
     },
     "execution_count": 15,
     "metadata": {},
     "output_type": "execute_result"
    }
   ],
   "source": [
    "np.exp(μ + σ ** 2 / 2)"
   ]
  },
  {
   "cell_type": "markdown",
   "metadata": {},
   "source": [
    "**Exercise 14.5**"
   ]
  },
  {
   "cell_type": "code",
   "execution_count": 16,
   "metadata": {},
   "outputs": [],
   "source": [
    "g = lambda x: 0.1 * x ** 4 - 1.5 * x ** 3 + 0.53 * x ** 2 + 2 * x + 1"
   ]
  },
  {
   "cell_type": "code",
   "execution_count": 17,
   "metadata": {},
   "outputs": [],
   "source": [
    "def quadrature(params, a, b):\n",
    "    \n",
    "    ω, x = params[:3], params[3:]\n",
    "    eqs = np.empty(len(params))\n",
    "    \n",
    "    for i in range(1, len(params)+1):\n",
    "        eqs[i-1] = ((b ** i - a ** i) / i) - ω @ x ** (i - 1)\n",
    "        \n",
    "    return eqs"
   ]
  },
  {
   "cell_type": "code",
   "execution_count": 18,
   "metadata": {},
   "outputs": [
    {
     "data": {
      "text/plain": [
       "4373.333333340382"
      ]
     },
     "execution_count": 18,
     "metadata": {},
     "output_type": "execute_result"
    }
   ],
   "source": [
    "params = root(quadrature, x0=np.ones(6), args=(-10, 10)).x\n",
    "weights, nodes = params[:3], params[3:]\n",
    "weights, nodes\n",
    "np.sum(weights * g(nodes))"
   ]
  },
  {
   "cell_type": "markdown",
   "metadata": {},
   "source": [
    "**Exercise 14.6**"
   ]
  },
  {
   "cell_type": "code",
   "execution_count": 19,
   "metadata": {},
   "outputs": [
    {
     "data": {
      "text/plain": [
       "(4373.333333333334, 8.109531705284936e-11)"
      ]
     },
     "execution_count": 19,
     "metadata": {},
     "output_type": "execute_result"
    }
   ],
   "source": [
    "quad(g, -10, 10)"
   ]
  },
  {
   "cell_type": "markdown",
   "metadata": {},
   "source": [
    "**Exercise 14.7**"
   ]
  },
  {
   "cell_type": "code",
   "execution_count": 20,
   "metadata": {},
   "outputs": [],
   "source": [
    "def approx(g, min_x, max_x, N):\n",
    "    rand_draws = np.random.uniform(min_x, max_x, size=(N, 2))\n",
    "    return 4 * (1/N) * np.sum(g(rand_draws[:, 0], rand_draws[:, 1]))"
   ]
  },
  {
   "cell_type": "code",
   "execution_count": 21,
   "metadata": {},
   "outputs": [],
   "source": [
    "def g(x, y):\n",
    "    return x ** 2 + y ** 2 <= 1"
   ]
  },
  {
   "cell_type": "code",
   "execution_count": 22,
   "metadata": {},
   "outputs": [
    {
     "data": {
      "text/plain": [
       "3.16"
      ]
     },
     "execution_count": 22,
     "metadata": {},
     "output_type": "execute_result"
    }
   ],
   "source": [
    "approx(g, -1, 1, 10000)"
   ]
  },
  {
   "cell_type": "code",
   "execution_count": 23,
   "metadata": {},
   "outputs": [],
   "source": [
    "toler = 1e-5\n",
    "diff = 1e3\n",
    "n = 10\n",
    "max_N = 100_000\n",
    "while diff > toler and n < max_N:\n",
    "    π = approx(g, -1, 1, n)\n",
    "    diff = np.abs(π - 3.1415)\n",
    "    n += 1"
   ]
  },
  {
   "cell_type": "code",
   "execution_count": 24,
   "metadata": {},
   "outputs": [
    {
     "data": {
      "text/plain": [
       "(1478, 3.1415030467163167)"
      ]
     },
     "execution_count": 24,
     "metadata": {},
     "output_type": "execute_result"
    }
   ],
   "source": [
    "n, π"
   ]
  },
  {
   "cell_type": "markdown",
   "metadata": {},
   "source": [
    "**Exercise 14.8**"
   ]
  },
  {
   "cell_type": "code",
   "execution_count": 25,
   "metadata": {},
   "outputs": [],
   "source": [
    "def n_p(n):\n",
    "    \n",
    "    primes = [2]\n",
    "    num = 3\n",
    "    while len(primes) < n:\n",
    "        for p in primes:\n",
    "            if num % p == 0:\n",
    "                break\n",
    "        else:\n",
    "            primes.append(num)\n",
    "        num += 2\n",
    "    return primes"
   ]
  },
  {
   "cell_type": "code",
   "execution_count": 26,
   "metadata": {},
   "outputs": [],
   "source": [
    "def equidistr(n, d, seq):\n",
    "    \n",
    "    if seq == 'weyl':\n",
    "        prime = n_p(d)\n",
    "        x = n * np.power(prime, .5)\n",
    "        xn = x - np.floor(x)\n",
    "        \n",
    "    elif seq == 'haber':\n",
    "        prime = n_p(d)\n",
    "        x = (n * (n + 1.0)) / 2 * np.power(prime, .5)\n",
    "        xn = x - np.floor(x)\n",
    "        \n",
    "    elif seq == 'niederreiter':\n",
    "        ar = np.arange(1, d + 1)\n",
    "        x = n * (2 ** (ar / (d + 1)))\n",
    "        x_floor = np.floor(x)\n",
    "        xn = x - x_floor\n",
    "        \n",
    "    elif seq == 'baker':\n",
    "        prime = n_p(d)\n",
    "        x = n * np.exp(prime)\n",
    "        xn = x - np.floor(x)\n",
    "    else:\n",
    "        raise ValueError('Sequence does not exist.')\n",
    "        \n",
    "    return xn"
   ]
  },
  {
   "cell_type": "code",
   "execution_count": 27,
   "metadata": {},
   "outputs": [
    {
     "name": "stdout",
     "output_type": "stream",
     "text": [
      "weyl: [0.14213562 0.32050808]\n",
      "haber: [0.78174593 0.26279442]\n",
      "niederreiter [0.5992105  0.87401052]\n",
      "baker [0.94528049 0.42768462]\n"
     ]
    }
   ],
   "source": [
    "print(\"weyl:\", equidistr(10, 2, 'weyl'))\n",
    "print(\"haber:\", equidistr(10, 2, 'haber'))\n",
    "print(\"niederreiter\", equidistr(10, 2, 'niederreiter'))\n",
    "print(\"baker\", equidistr(5, 2, 'baker'))"
   ]
  },
  {
   "cell_type": "markdown",
   "metadata": {},
   "source": [
    "**Exercise 14.9**"
   ]
  },
  {
   "cell_type": "code",
   "execution_count": 28,
   "metadata": {},
   "outputs": [],
   "source": [
    "def approx_149(N, seq):\n",
    "    \n",
    "    π = 0\n",
    "    iterate = 0\n",
    "    s = np.zeros((N, 2), dtype=np.float64)\n",
    "    for i in range(1, N+1):\n",
    "        s[i-1, :] = equidistr(i, 2, seq)\n",
    "    \n",
    "    for j in range(N):\n",
    "        if s[j,0] ** 2 + s[j,1] ** 2 <= 1:\n",
    "            iterate += 1\n",
    "    π = 4.0 * iterate / N\n",
    "    \n",
    "    return π"
   ]
  },
  {
   "cell_type": "code",
   "execution_count": 29,
   "metadata": {},
   "outputs": [
    {
     "name": "stdout",
     "output_type": "stream",
     "text": [
      "weyl: 3.14036\n",
      "haber: 3.14396\n",
      "niederreiter 3.1414\n",
      "baker 3.1416\n"
     ]
    }
   ],
   "source": [
    "print(\"weyl:\", approx_149(100000, 'weyl'))\n",
    "print(\"haber:\", approx_149(100000, 'haber'))\n",
    "print(\"niederreiter\", approx_149(100000, 'niederreiter'))\n",
    "print(\"baker\", approx_149(100000, 'baker'))"
   ]
  },
  {
   "cell_type": "code",
   "execution_count": null,
   "metadata": {},
   "outputs": [],
   "source": []
  }
 ],
 "metadata": {
  "kernelspec": {
   "display_name": "Python 3",
   "language": "python",
   "name": "python3"
  },
  "language_info": {
   "codemirror_mode": {
    "name": "ipython",
    "version": 3
   },
   "file_extension": ".py",
   "mimetype": "text/x-python",
   "name": "python",
   "nbconvert_exporter": "python",
   "pygments_lexer": "ipython3",
   "version": "3.6.5"
  }
 },
 "nbformat": 4,
 "nbformat_minor": 2
}
