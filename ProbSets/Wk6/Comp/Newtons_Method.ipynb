{
 "cells": [
  {
   "cell_type": "code",
   "execution_count": 1,
   "metadata": {},
   "outputs": [],
   "source": [
    "import numpy as np\n",
    "import scipy.optimize as opt\n",
    "import matplotlib.pyplot as plt\n",
    "import scipy.linalg as lin"
   ]
  },
  {
   "cell_type": "markdown",
   "metadata": {},
   "source": [
    "**Exercise 1**"
   ]
  },
  {
   "cell_type": "code",
   "execution_count": 2,
   "metadata": {},
   "outputs": [],
   "source": [
    "def newt_q1(f, fp, x_0, toler=1e-5, max_iter=15):\n",
    "    i = 0\n",
    "    diff = 1e3\n",
    "    x = x_0\n",
    "    while diff > toler and i < max_iter:\n",
    "        x_tilde = x - f(x) / fp(x)\n",
    "        diff = np.abs(x_tilde - x)\n",
    "        x = x_tilde\n",
    "        i += 1\n",
    "    if i < max_iter:\n",
    "        print(f'Number of iterations: {i}')\n",
    "    else:\n",
    "        print('No convergence')\n",
    "    return x, i < max_iter, i"
   ]
  },
  {
   "cell_type": "code",
   "execution_count": 3,
   "metadata": {},
   "outputs": [],
   "source": [
    "f = lambda x: np.exp(x) - 2\n",
    "fp = lambda x: np.exp(x)"
   ]
  },
  {
   "cell_type": "code",
   "execution_count": 4,
   "metadata": {},
   "outputs": [
    {
     "name": "stdout",
     "output_type": "stream",
     "text": [
      "Number of iterations: 4\n"
     ]
    },
    {
     "data": {
      "text/plain": [
       "(0.6931471805600254, True, 4)"
      ]
     },
     "execution_count": 4,
     "metadata": {},
     "output_type": "execute_result"
    }
   ],
   "source": [
    "newt_q1(f, fp, 1)"
   ]
  },
  {
   "cell_type": "code",
   "execution_count": 5,
   "metadata": {},
   "outputs": [
    {
     "name": "stdout",
     "output_type": "stream",
     "text": [
      "Number of iterations: 4\n"
     ]
    },
    {
     "data": {
      "text/plain": [
       "1.603162047558726e-13"
      ]
     },
     "execution_count": 5,
     "metadata": {},
     "output_type": "execute_result"
    }
   ],
   "source": [
    "f(newt_q1(f, fp, 1)[0])"
   ]
  },
  {
   "cell_type": "code",
   "execution_count": 6,
   "metadata": {},
   "outputs": [],
   "source": [
    "g = lambda x: x ** 4 - 3\n",
    "gp = lambda x: 4 * x ** 3"
   ]
  },
  {
   "cell_type": "code",
   "execution_count": 7,
   "metadata": {},
   "outputs": [
    {
     "name": "stdout",
     "output_type": "stream",
     "text": [
      "Number of iterations: 5\n"
     ]
    },
    {
     "data": {
      "text/plain": [
       "(1.3160740129543826, True, 5)"
      ]
     },
     "execution_count": 7,
     "metadata": {},
     "output_type": "execute_result"
    }
   ],
   "source": [
    "newt_q1(g, gp, 1)"
   ]
  },
  {
   "cell_type": "code",
   "execution_count": 8,
   "metadata": {},
   "outputs": [
    {
     "data": {
      "text/plain": [
       "0.6931471805599453"
      ]
     },
     "execution_count": 8,
     "metadata": {},
     "output_type": "execute_result"
    }
   ],
   "source": [
    "opt.newton(f, 1, fp)"
   ]
  },
  {
   "cell_type": "code",
   "execution_count": 9,
   "metadata": {},
   "outputs": [
    {
     "data": {
      "text/plain": [
       "1.3160740129524924"
      ]
     },
     "execution_count": 9,
     "metadata": {},
     "output_type": "execute_result"
    }
   ],
   "source": [
    "opt.newton(g, 1, gp)"
   ]
  },
  {
   "cell_type": "markdown",
   "metadata": {},
   "source": [
    "**Exercise 2**"
   ]
  },
  {
   "cell_type": "code",
   "execution_count": 10,
   "metadata": {},
   "outputs": [],
   "source": [
    "def determine_r(N1, N2, P1, P2):\n",
    "    f = lambda r: P1 * ((1 + r) ** N1 - 1) - P2 * (1 - (1 + r) ** (-N2))\n",
    "    fp = lambda r: P1 * N1 * (1 + r) ** (N1 - 1) - P2 * N2 * (1 + r) ** (-N2 - 1)\n",
    "    return newt_q1(f, fp, 1, max_iter=50)"
   ]
  },
  {
   "cell_type": "code",
   "execution_count": 11,
   "metadata": {},
   "outputs": [
    {
     "name": "stdout",
     "output_type": "stream",
     "text": [
      "Number of iterations: 24\n"
     ]
    },
    {
     "data": {
      "text/plain": [
       "(0.03877843204285935, True, 24)"
      ]
     },
     "execution_count": 11,
     "metadata": {},
     "output_type": "execute_result"
    }
   ],
   "source": [
    "# Test\n",
    "determine_r(30, 20, 2000, 8000)"
   ]
  },
  {
   "cell_type": "markdown",
   "metadata": {},
   "source": [
    "**Exercise 3**"
   ]
  },
  {
   "cell_type": "code",
   "execution_count": 12,
   "metadata": {},
   "outputs": [],
   "source": [
    "def newt_q3(f, fp, x_0, α, toler=1e-5, max_iter=15, print_flag=True):\n",
    "    i = 0\n",
    "    diff = 1e3\n",
    "    x = x_0\n",
    "    \n",
    "    while diff > toler and i < max_iter:\n",
    "        x_tilde = x - α * f(x) / fp(x)\n",
    "        diff = np.abs(x_tilde - x)\n",
    "        x = x_tilde\n",
    "        i += 1\n",
    "        \n",
    "    if print_flag:\n",
    "        if i < max_iter:\n",
    "            print(f'Number of iterations: {i}')\n",
    "        else:\n",
    "            print('No convergence')\n",
    "    return x, i < max_iter, i"
   ]
  },
  {
   "cell_type": "code",
   "execution_count": 13,
   "metadata": {},
   "outputs": [],
   "source": [
    "f = lambda x: np.sign(x) * np.power(np.abs(x), 1/3)\n",
    "fp = lambda x: 1 / 3 * np.power(np.abs(x), -2/3)"
   ]
  },
  {
   "cell_type": "code",
   "execution_count": 14,
   "metadata": {},
   "outputs": [
    {
     "name": "stdout",
     "output_type": "stream",
     "text": [
      "No convergence\n"
     ]
    },
    {
     "data": {
      "text/plain": [
       "(11258999068425.709, False, 50)"
      ]
     },
     "execution_count": 14,
     "metadata": {},
     "output_type": "execute_result"
    }
   ],
   "source": [
    "newt_q3(f, fp, 0.01, 1, max_iter=50)"
   ]
  },
  {
   "cell_type": "code",
   "execution_count": 15,
   "metadata": {},
   "outputs": [
    {
     "name": "stdout",
     "output_type": "stream",
     "text": [
      "Number of iterations: 6\n"
     ]
    },
    {
     "data": {
      "text/plain": [
       "(6.400000000000134e-07, True, 6)"
      ]
     },
     "execution_count": 15,
     "metadata": {},
     "output_type": "execute_result"
    }
   ],
   "source": [
    "newt_q3(f, fp, 0.01, 0.4, max_iter=50)"
   ]
  },
  {
   "cell_type": "markdown",
   "metadata": {},
   "source": [
    "**Exercise 4**"
   ]
  },
  {
   "cell_type": "code",
   "execution_count": 16,
   "metadata": {},
   "outputs": [
    {
     "data": {
      "image/png": "[encoded data removed]",
      "text/plain": [
       "<Figure size 432x288 with 1 Axes>"
      ]
     },
     "metadata": {},
     "output_type": "display_data"
    }
   ],
   "source": [
    "n = 100\n",
    "gr_α = np.linspace(1e-1, 1, n)\n",
    "pts = np.zeros((n, 2))\n",
    "\n",
    "for i, α in enumerate(gr_α):\n",
    "    result = newt_q3(f, fp, 0.01, α, max_iter=100, \n",
    "                      print_flag=False)\n",
    "    if result[1]:\n",
    "        pts[i, :] = (α, result[2])\n",
    "    else:\n",
    "        pts[i, :] = np.nan * np.ones(2)\n",
    "\n",
    "plt.figure(figsize=(6, 4))\n",
    "plt.scatter(pts[:, 0], pts[:, 1])\n",
    "plt.title(\"Iterations of Newton's method for α\")\n",
    "plt.xlabel(r'$\\alpha$')\n",
    "plt.ylabel('Number of Iterations')\n",
    "plt.show()"
   ]
  },
  {
   "cell_type": "markdown",
   "metadata": {},
   "source": [
    "**Exercise 5**"
   ]
  },
  {
   "cell_type": "code",
   "execution_count": 17,
   "metadata": {},
   "outputs": [],
   "source": [
    "def newt_q5(f, fp, x_0, α, toler=1e-5, max_iter=15, print_flag=True):\n",
    "    \n",
    "    i = 0\n",
    "    diff = 1e3\n",
    "    x = x_0\n",
    "    \n",
    "    if np.isscalar(x_0):\n",
    "        while diff > toler and i < max_iter:\n",
    "            x_tilde = x - α * f(x) / fp(x)\n",
    "            diff = np.abs(x_tilde - x)\n",
    "            x = x_tilde\n",
    "            i += 1\n",
    "    else:\n",
    "        while diff > toler and i < max_iter:\n",
    "            y = np.linalg.solve(fp(x), f(x))\n",
    "            x_tilde = x - α * y\n",
    "            diff = lin.norm(x_tilde - x, np.inf)\n",
    "            x = x_tilde\n",
    "            i += 1\n",
    "        \n",
    "    if print_flag:\n",
    "        if i < max_iter:\n",
    "            print(f'Number of iterations: {i}')\n",
    "        else:\n",
    "            print('No convergence')\n",
    "    return x, i < max_iter, i"
   ]
  },
  {
   "cell_type": "code",
   "execution_count": 18,
   "metadata": {},
   "outputs": [
    {
     "name": "stdout",
     "output_type": "stream",
     "text": [
      "Number of iterations: 9\n"
     ]
    },
    {
     "data": {
      "text/plain": [
       "(-5.120000000000109e-07, True, 9)"
      ]
     },
     "execution_count": 18,
     "metadata": {},
     "output_type": "execute_result"
    }
   ],
   "source": [
    "newt_q5(f, fp, 1, 0.4)"
   ]
  },
  {
   "cell_type": "code",
   "execution_count": 19,
   "metadata": {},
   "outputs": [],
   "source": [
    "def determine_r5(N1, N2, P1, P2):\n",
    "    f = lambda r: P1 * ((1 + r) ** N1 - 1) - P2 * (1 - (1 + r) ** (-N2))\n",
    "    fp = lambda r: P1 * N1 * (1 + r) ** (N1 - 1) - P2 * N2 * (1 + r) ** (-N2 - 1)\n",
    "    return newt_q5(f, fp, 1, 1, max_iter=50)"
   ]
  },
  {
   "cell_type": "code",
   "execution_count": 20,
   "metadata": {},
   "outputs": [
    {
     "name": "stdout",
     "output_type": "stream",
     "text": [
      "Number of iterations: 24\n"
     ]
    },
    {
     "data": {
      "text/plain": [
       "(0.03877843204285935, True, 24)"
      ]
     },
     "execution_count": 20,
     "metadata": {},
     "output_type": "execute_result"
    }
   ],
   "source": [
    "determine_r5(30, 20, 2000, 8000)"
   ]
  },
  {
   "cell_type": "code",
   "execution_count": 21,
   "metadata": {},
   "outputs": [],
   "source": [
    "def f(vec):\n",
    "    x, y = vec\n",
    "    return np.array([x ** 2, x ** 3 - y])"
   ]
  },
  {
   "cell_type": "code",
   "execution_count": 22,
   "metadata": {},
   "outputs": [],
   "source": [
    "def Df(vec):\n",
    "    x, y = vec\n",
    "    return np.array([[2 * x , 0], [3 * x ** 2, -1]])"
   ]
  },
  {
   "cell_type": "code",
   "execution_count": 23,
   "metadata": {},
   "outputs": [
    {
     "name": "stdout",
     "output_type": "stream",
     "text": [
      "Number of iterations: 38\n"
     ]
    },
    {
     "data": {
      "text/plain": [
       "(array([ 2.68175604e-05, -3.37714855e-11]), True, 38)"
      ]
     },
     "execution_count": 23,
     "metadata": {},
     "output_type": "execute_result"
    }
   ],
   "source": [
    "newt_q5(f, Df, [1.5, 1.5], α=0.5, max_iter=100)"
   ]
  },
  {
   "cell_type": "markdown",
   "metadata": {},
   "source": [
    "**Exercise 6**"
   ]
  },
  {
   "cell_type": "code",
   "execution_count": 24,
   "metadata": {},
   "outputs": [],
   "source": [
    "γ = 5 # parameter that depends on various physical features of the system\n",
    "δ = 1 # parameter that depends on various physical features of the system\n",
    "\n",
    "def f(vec):\n",
    "    x, y = vec\n",
    "    return np.array([γ * x * y - x * (1 + y), \n",
    "                     -x * y + (δ - y) * (1 + y)])\n",
    "\n",
    "def Df(vec):\n",
    "    x, y = vec\n",
    "    return np.array([[γ * y - (1 + y), γ * x - x],\n",
    "                     [-y, -x + δ - 1 - 2 * y]])\n",
    "\n",
    "def find_initialpt():\n",
    "    for x in np.linspace(-1/4, 0):\n",
    "        for y in np.linspace(0, 1/4):\n",
    "            first_val = newt_q5(f, Df, [x, y], α=1, \n",
    "                                max_iter=100, print_flag=False)\n",
    "            if np.allclose(first_val[0], [0, 1]) or np.allclose(first_val[0], [0, -1]):\n",
    "                second_val = newt_q5(f, Df, [x, y], α=0.55, max_iter=100, print_flag=False)\n",
    "                if np.allclose(second_val[0], [3.75, 0.25]):\n",
    "                    return np.array([x, y])\n",
    "                else:\n",
    "                    pass\n",
    "            else:\n",
    "                pass\n",
    "    print('There were no initial points.')\n",
    "    return False"
   ]
  },
  {
   "cell_type": "code",
   "execution_count": 25,
   "metadata": {},
   "outputs": [
    {
     "data": {
      "text/plain": [
       "array([-0.25      ,  0.20408163])"
      ]
     },
     "execution_count": 25,
     "metadata": {},
     "output_type": "execute_result"
    }
   ],
   "source": [
    "xvec = find_initialpt()\n",
    "xvec"
   ]
  },
  {
   "cell_type": "code",
   "execution_count": 26,
   "metadata": {},
   "outputs": [
    {
     "name": "stdout",
     "output_type": "stream",
     "text": [
      "Number of iterations: 18\n"
     ]
    },
    {
     "data": {
      "text/plain": [
       "(array([3.75000695, 0.25000218]), True, 18)"
      ]
     },
     "execution_count": 26,
     "metadata": {},
     "output_type": "execute_result"
    }
   ],
   "source": [
    "newt_q5(f, Df, xvec, 0.55, max_iter=100)"
   ]
  },
  {
   "cell_type": "code",
   "execution_count": 27,
   "metadata": {},
   "outputs": [
    {
     "name": "stdout",
     "output_type": "stream",
     "text": [
      "Number of iterations: 8\n"
     ]
    },
    {
     "data": {
      "text/plain": [
       "(array([-1.51741734e-19, -1.00000000e+00]), True, 8)"
      ]
     },
     "execution_count": 27,
     "metadata": {},
     "output_type": "execute_result"
    }
   ],
   "source": [
    "newt_q5(f, Df, xvec, 1, max_iter=100)"
   ]
  },
  {
   "cell_type": "markdown",
   "metadata": {},
   "source": [
    "**Exercise 7**"
   ]
  },
  {
   "cell_type": "code",
   "execution_count": 28,
   "metadata": {},
   "outputs": [],
   "source": [
    "def basins_attract(f, fp, zeros, rmin, rmax, \n",
    "           imin, imax, res, iters, toler=1e-5):\n",
    "    \n",
    "    realx = np.linspace(rmin, rmax, res)\n",
    "    imagx = np.linspace(imin, imax, res)\n",
    "    realX, imagX = np.meshgrid(realx, imagx)\n",
    "    X_0 = realX + 1j * imagX\n",
    "    \n",
    "    i = 0\n",
    "    diff = 1e3\n",
    "    \n",
    "    while diff > toler and i < iters:\n",
    "        X_tilde = X_0 - f(X_0) / fp(X_0)\n",
    "        diff = lin.norm(X_tilde - X_0)\n",
    "        X_0 = X_tilde\n",
    "        i += 1\n",
    "        \n",
    "    Y = np.zeros_like(X_0, dtype=int)\n",
    "    diffs = 1e3 * np.ones_like(X_0, dtype=int)\n",
    "        \n",
    "    for r, R in enumerate(zeros):\n",
    "        diffs_tilde = np.abs(X_0 - R)\n",
    "        Y[diffs_tilde < diffs] = r\n",
    "        diffs = diffs_tilde\n",
    "\n",
    "    plt.pcolormesh(realX, imagX, Y, cmap='brg')\n",
    "    plt.show()"
   ]
  },
  {
   "cell_type": "code",
   "execution_count": 29,
   "metadata": {},
   "outputs": [
    {
     "data": {
      "image/png": "[encoded data removed]",
      "text/plain": [
       "<Figure size 432x288 with 1 Axes>"
      ]
     },
     "metadata": {},
     "output_type": "display_data"
    }
   ],
   "source": [
    "f = lambda x: x ** 3 - 1\n",
    "fp = lambda x: 3 * x ** 2\n",
    "zeros = np.array([-1/2 - np.sqrt(3) / 2 * 1j, \n",
    "                  -1/2 + np.sqrt(3) / 2 * 1j, 1])\n",
    "\n",
    "basins_attract(f, fp, zeros, -1.5, 1.5, -1.5, 1.5, 500, 50)"
   ]
  },
  {
   "cell_type": "code",
   "execution_count": 30,
   "metadata": {},
   "outputs": [
    {
     "data": {
      "image/png": "[encoded data removed]",
      "text/plain": [
       "<Figure size 432x288 with 1 Axes>"
      ]
     },
     "metadata": {},
     "output_type": "display_data"
    }
   ],
   "source": [
    "g = lambda x: x ** 3 - x\n",
    "gp = lambda x: 3 * x ** 2 - 1\n",
    "zeros = np.array([-1, 0, 1])\n",
    "basins_attract(g, gp, zeros, -1.5, 1.5, -1.5, 1.5, 500, 50)"
   ]
  },
  {
   "cell_type": "code",
   "execution_count": null,
   "metadata": {},
   "outputs": [],
   "source": []
  }
 ],
 "metadata": {
  "kernelspec": {
   "display_name": "Python 3",
   "language": "python",
   "name": "python3"
  },
  "language_info": {
   "codemirror_mode": {
    "name": "ipython",
    "version": 3
   },
   "file_extension": ".py",
   "mimetype": "text/x-python",
   "name": "python",
   "nbconvert_exporter": "python",
   "pygments_lexer": "ipython3",
   "version": "3.6.5"
  }
 },
 "nbformat": 4,
 "nbformat_minor": 2
}
