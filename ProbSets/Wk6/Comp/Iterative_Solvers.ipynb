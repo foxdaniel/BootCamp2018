{
 "cells": [
  {
   "cell_type": "code",
   "execution_count": 1,
   "metadata": {},
   "outputs": [],
   "source": [
    "import numpy as np\n",
    "import scipy.linalg as lin\n",
    "import matplotlib.pyplot as plt\n",
    "from scipy import sparse"
   ]
  },
  {
   "cell_type": "markdown",
   "metadata": {},
   "source": [
    "**Exercises 1 and 2**"
   ]
  },
  {
   "cell_type": "code",
   "execution_count": 2,
   "metadata": {},
   "outputs": [],
   "source": [
    "def jacobi_method(A, b, tol=1e-8, maxiter=100, plot=False):\n",
    "    \n",
    "    err = 1e3\n",
    "    iterate = 0\n",
    "    \n",
    "    D = np.diag(A)\n",
    "    L = np.tril(A)\n",
    "    U = np.triu(A)\n",
    "    \n",
    "    x = np.ones_like(b)\n",
    "    errs = np.empty(maxiter)\n",
    "    \n",
    "    while err > tol and iterate < maxiter:\n",
    "        x_tilde = x + (b - A @ x) / D\n",
    "        errs[iterate] = lin.norm(x_tilde - x, np.inf)\n",
    "        err = errs[iterate]\n",
    "        iterate += 1\n",
    "        x = x_tilde\n",
    "        \n",
    "    if iterate < maxiter:\n",
    "        print(f'Number of iterations: {iterate}')\n",
    "        \n",
    "    if plot:\n",
    "        plt.plot(range(1, iterate + 1), errs[:iterate])\n",
    "        plt.semilogy()\n",
    "        plt.xlim(1, iterate)\n",
    "        plt.title('Covergence of Jacobi Method')\n",
    "        plt.xlabel('Iteration')\n",
    "        plt.ylabel('Absolute Error of Approximation')\n",
    "        plt.show()\n",
    "        \n",
    "    return x"
   ]
  },
  {
   "cell_type": "code",
   "execution_count": 3,
   "metadata": {},
   "outputs": [],
   "source": [
    "def diag_dom(n, num_entries=None):\n",
    "    '''Generate a strictly diagonally dominant (n, n) matrix.\n",
    "    \n",
    "    Parameters:\n",
    "        n (int): The dimension of the system.\n",
    "        num_entries (int): The number of nonzero values.\n",
    "            Defaults to n^(3/2)-n.\n",
    "            \n",
    "    Returns:\n",
    "        A ((n,n) ndarray): A (n, n) strictly diagonally dominant matrix.\n",
    "    '''\n",
    "    if num_entries is None:\n",
    "        num_entries = int(n**1.5) - n\n",
    "    A = np.zeros((n,n))\n",
    "    rows = np.random.choice(np.arange(0,n), size=num_entries)\n",
    "    cols = np.random.choice(np.arange(0,n), size=num_entries)\n",
    "    data = np.random.randint(-4, 4, size=num_entries)\n",
    "    for i in range(num_entries):\n",
    "        A[rows[i], cols[i]] = data[i]\n",
    "    for i in range(n):\n",
    "        A[i,i] = np.sum(np.abs(A[i])) + 1\n",
    "    return A"
   ]
  },
  {
   "cell_type": "code",
   "execution_count": 4,
   "metadata": {},
   "outputs": [],
   "source": [
    "n = 5000\n",
    "A = diag_dom(n)\n",
    "b = np.random.random(n)"
   ]
  },
  {
   "cell_type": "code",
   "execution_count": 5,
   "metadata": {},
   "outputs": [
    {
     "name": "stdout",
     "output_type": "stream",
     "text": [
      "Number of iterations: 15\n"
     ]
    },
    {
     "data": {
      "image/png": "[encoded data removed]",
      "text/plain": [
       "<Figure size 432x288 with 1 Axes>"
      ]
     },
     "metadata": {},
     "output_type": "display_data"
    }
   ],
   "source": [
    "x_opt = jacobi_method(A, b, plot=True)"
   ]
  },
  {
   "cell_type": "code",
   "execution_count": 6,
   "metadata": {},
   "outputs": [
    {
     "data": {
      "text/plain": [
       "True"
      ]
     },
     "execution_count": 6,
     "metadata": {},
     "output_type": "execute_result"
    }
   ],
   "source": [
    "# Test\n",
    "np.allclose(A @ x_opt, b, atol=1e-6)"
   ]
  },
  {
   "cell_type": "markdown",
   "metadata": {},
   "source": [
    "**Exercise 3**"
   ]
  },
  {
   "cell_type": "code",
   "execution_count": 7,
   "metadata": {},
   "outputs": [],
   "source": [
    "def gauss_seidel_method(A, b, tol=1e-8, maxiter=100, plot=False):\n",
    "    \n",
    "    err = 1e3\n",
    "    iterate = 0\n",
    "    \n",
    "    x = np.ones_like(b)\n",
    "    x_tilde = x.copy()\n",
    "    errs = np.empty(maxiter)\n",
    "    \n",
    "    while err > tol and iterate < maxiter:\n",
    "        for i in range(len(x)):\n",
    "            x_tilde[i] = x_tilde[i] + (1 / A[i, i]) * \\\n",
    "            (b[i] - A[i, :].T @ x_tilde)  \n",
    "        \n",
    "        errs[iterate] = lin.norm(x_tilde - x, np.inf)\n",
    "        err = errs[iterate]\n",
    "        iterate += 1\n",
    "        x = x_tilde.copy()\n",
    "        \n",
    "    if iterate < maxiter:\n",
    "        print(f'Number of iterations: {iterate}')\n",
    "        \n",
    "    if plot:\n",
    "        plt.plot(range(1, iterate + 1), errs[:iterate])\n",
    "        plt.semilogy()\n",
    "        plt.xlim(1, iterate)\n",
    "        plt.title('Covergence of Gauss-Seidel Method')\n",
    "        plt.xlabel('Iteration')\n",
    "        plt.ylabel('Absolute Error of Approximation')\n",
    "        plt.show()\n",
    "        \n",
    "    return x"
   ]
  },
  {
   "cell_type": "code",
   "execution_count": 8,
   "metadata": {},
   "outputs": [
    {
     "name": "stdout",
     "output_type": "stream",
     "text": [
      "Number of iterations: 10\n"
     ]
    },
    {
     "data": {
      "image/png": "[encoded data removed]",
      "text/plain": [
       "<Figure size 432x288 with 1 Axes>"
      ]
     },
     "metadata": {},
     "output_type": "display_data"
    }
   ],
   "source": [
    "x_opt = gauss_seidel_method(A, b, plot=True) # Recall A uses diag_dom()"
   ]
  },
  {
   "cell_type": "code",
   "execution_count": 9,
   "metadata": {},
   "outputs": [
    {
     "data": {
      "text/plain": [
       "True"
      ]
     },
     "execution_count": 9,
     "metadata": {},
     "output_type": "execute_result"
    }
   ],
   "source": [
    "np.allclose(A @ x_opt, b, atol=1e-6)"
   ]
  },
  {
   "cell_type": "markdown",
   "metadata": {},
   "source": [
    "**Exercise 4**"
   ]
  },
  {
   "cell_type": "code",
   "execution_count": 10,
   "metadata": {},
   "outputs": [],
   "source": [
    "def gauss_seidel_sparse(A, b, tol=1e-8, maxiter=100):\n",
    "    \n",
    "    err = 1e3\n",
    "    iterate = 0\n",
    "    \n",
    "    x = np.ones_like(b)  # Initial guess\n",
    "    x_tilde = x.copy()\n",
    "    errs = np.empty(maxiter)\n",
    "    \n",
    "    while err > tol and iterate < maxiter:\n",
    "        for i in range(len(x)):\n",
    "            # Code to bypass serious runtime issue ↓\n",
    "            \n",
    "            # Get the indices of where the i-th row of A starts and ends if the\n",
    "            # nonzero entries of A were flattened.\n",
    "            rowstart = A.indptr[i]\n",
    "            rowend = A.indptr[i+1]\n",
    "\n",
    "            # Multiply only the nonzero elements of the i-th row of A with the\n",
    "            # corresponding elements of x.\n",
    "            Aix = A.data[rowstart:rowend] @ x[A.indices[rowstart:rowend]]\n",
    "            x_tilde[i] = x_tilde[i] + (1 / A[i, i]) * (b[i] - Aix)  \n",
    "        \n",
    "        errs[iterate] = lin.norm(x_tilde - x, np.inf)\n",
    "        err = errs[iterate]\n",
    "        iterate += 1\n",
    "        x = x_tilde.copy()\n",
    "        \n",
    "    if iterate < maxiter:\n",
    "        print(f'Number of iterations: {iterate}')\n",
    "    else:\n",
    "        print('No convergence')\n",
    "        \n",
    "    return x"
   ]
  },
  {
   "cell_type": "code",
   "execution_count": 11,
   "metadata": {},
   "outputs": [],
   "source": [
    "A_sparse = sparse.csr_matrix(diag_dom(500))\n",
    "b_sparse = np.random.random(500)"
   ]
  },
  {
   "cell_type": "code",
   "execution_count": 12,
   "metadata": {},
   "outputs": [
    {
     "name": "stdout",
     "output_type": "stream",
     "text": [
      "Number of iterations: 16\n"
     ]
    },
    {
     "data": {
      "text/plain": [
       "True"
      ]
     },
     "execution_count": 12,
     "metadata": {},
     "output_type": "execute_result"
    }
   ],
   "source": [
    "x_opt = gauss_seidel_sparse(A_sparse, b_sparse)\n",
    "np.allclose(A_sparse @ x_opt, b_sparse)"
   ]
  },
  {
   "cell_type": "markdown",
   "metadata": {},
   "source": [
    "**Exercise 5**"
   ]
  },
  {
   "cell_type": "code",
   "execution_count": 13,
   "metadata": {},
   "outputs": [],
   "source": [
    "def SOR(A, b, ω, tol=1e-8, maxiter=100, plot=False, print_flag=True):\n",
    "    \n",
    "    err = 1e3\n",
    "    iterate = 0\n",
    "    \n",
    "    x = np.ones_like(b)\n",
    "    x_tilde = x.copy()\n",
    "    errs = np.empty(maxiter)\n",
    "    \n",
    "    while err > tol and iterate < maxiter:\n",
    "        for i in range(len(x)):\n",
    "            x_tilde[i] = x_tilde[i] + (ω / A[i, i]) * (b[i] - A[i, :].T @ x_tilde)  \n",
    "        \n",
    "        errs[iterate] = lin.norm(x_tilde - x, np.inf)\n",
    "        err = errs[iterate]\n",
    "        iterate += 1\n",
    "        x = x_tilde.copy()\n",
    "        \n",
    "    if print_flag:\n",
    "        if iterate < maxiter:\n",
    "            print(f'Number of iterations: {iterate}')\n",
    "        else:\n",
    "            print('No convergence')\n",
    "        \n",
    "    return x, iterate, iterate < maxiter"
   ]
  },
  {
   "cell_type": "code",
   "execution_count": 14,
   "metadata": {},
   "outputs": [
    {
     "name": "stdout",
     "output_type": "stream",
     "text": [
      "Number of iterations: 24\n"
     ]
    },
    {
     "data": {
      "text/plain": [
       "(array([0.00591776, 0.00426838, 0.00737274, ..., 0.00593708, 0.0019121 ,\n",
       "        0.00436539]), 24, True)"
      ]
     },
     "execution_count": 14,
     "metadata": {},
     "output_type": "execute_result"
    }
   ],
   "source": [
    "SOR(A, b, 1.3)"
   ]
  },
  {
   "cell_type": "markdown",
   "metadata": {},
   "source": [
    "**Exercise 6**"
   ]
  },
  {
   "cell_type": "code",
   "execution_count": 15,
   "metadata": {},
   "outputs": [],
   "source": [
    "def SOR_q6(n, ω, tol=1e-8, maxiter=100, plot=False, print_flag=True):\n",
    "    \n",
    "    A = -4 * np.eye(n ** 2) + np.eye(n ** 2, k=1) + \\\n",
    "        np.eye(n ** 2, k=-1) + np.eye(n ** 2, k=-n) + np.eye(n ** 2, k=n)\n",
    "    b = np.zeros(n)\n",
    "    b[0] = -100\n",
    "    b[-1] = -100\n",
    "    b = np.tile(b, n)\n",
    "    \n",
    "    u, iterations, converged = SOR(A, b, ω, tol, maxiter, False, print_flag)\n",
    "    u = u.reshape(n, n)\n",
    "\n",
    "    if plot:\n",
    "        plt.pcolormesh(u, cmap='coolwarm')\n",
    "        plt.show()\n",
    "        \n",
    "    return u, iterations, converged"
   ]
  },
  {
   "cell_type": "code",
   "execution_count": 16,
   "metadata": {},
   "outputs": [
    {
     "name": "stdout",
     "output_type": "stream",
     "text": [
      "Number of iterations: 451\n"
     ]
    },
    {
     "data": {
      "image/png": "[encoded data removed]",
      "text/plain": [
       "<Figure size 432x288 with 1 Axes>"
      ]
     },
     "metadata": {},
     "output_type": "display_data"
    },
    {
     "data": {
      "text/plain": [
       "(array([[ 134.02465574,  130.9814848 ,  120.24936797,  109.03609888,\n",
       "           99.00191119,   90.39485352,   83.12055297,   77.02472135,\n",
       "           71.96523516,   67.82680577,   64.52050884,   61.980108  ,\n",
       "           60.15846946,   59.02486508,   58.56326916,   58.77161295,\n",
       "           59.66199409,   61.26194442,   63.61702607,   66.7952928 ,\n",
       "           70.89461515,   76.05473257,   82.47763479,   90.46363161,\n",
       "          100.47923727,  113.29524983,  130.29523269,  154.2430307 ,\n",
       "          191.42612253,  258.36507806],\n",
       "        [ 305.11713816,  269.65191549,  240.97988819,  216.89311637,\n",
       "          196.57669236,  179.45694993,  165.06263702,  153.01309727,\n",
       "          143.00941354,  134.82147906,  128.27512161,  123.24145369,\n",
       "          119.62890477,  117.37772168,  116.45659863,  116.86118854,\n",
       "          118.61441899,  121.76875752,  126.41086706,  132.66952999,\n",
       "          140.72843522,  150.84668034,  163.39217499,  178.89765437,\n",
       "          198.15806763,  222.40652937,  253.64265024,  295.25076759,\n",
       "          353.09638135,  436.91705157],\n",
       "        [ 458.42690334,  401.52915082,  357.12515292,  320.97978606,\n",
       "          290.95479194,  265.79361683,  244.65994791,  226.95561716,\n",
       "          212.23784266,  200.17457534,  190.51704484,  183.08168037,\n",
       "          177.73797425,  174.40051826,  173.02421513,  173.60212361,\n",
       "          176.16573581,  180.78779961,  187.58815466,  196.74352488,\n",
       "          208.50291542,  223.21137856,  241.34673047,  263.57674327,\n",
       "          290.8488495 ,  324.53014979,  366.6180713 ,  420.02100808,\n",
       "          488.79158371,  577.77984354],\n",
       "        [ 590.1442728 ,  520.91263153,  465.0117866 ,  418.94608303,\n",
       "          380.46907251,  348.10277754,  320.82792064,  297.91158082,\n",
       "          278.81176459,  263.1219348 ,  250.53680205,  240.83024872,\n",
       "          233.84079359,  229.46216199,  227.63762003,  228.35735494,\n",
       "          231.65860104,  237.62855045,  246.41042708,  258.21349946,\n",
       "          273.32832302,  292.14918803,  315.20662506,  343.21373872,\n",
       "          377.13043733,  418.24714896,  468.27847711,  529.42360973,\n",
       "          604.26910185,  695.26646609],\n",
       "        [ 703.4577128 ,  626.96531589,  563.06327895,  509.32368693,\n",
       "          463.87263754,  425.32050019,  392.63737627,  365.05102088,\n",
       "          341.97570009,  322.96459722,  307.67797985,  295.86171885,\n",
       "          287.33278939,  281.96971609,  279.70674804,  280.5310751 ,\n",
       "          284.48276295,  291.65737409,  302.21150374,  316.37172288,\n",
       "          334.44768916,  356.85042548,  384.11684304,  416.94114921,\n",
       "          456.21201215,  503.04953163,  558.82507845,  625.12585189,\n",
       "          703.59474787,  795.55920618],\n",
       "        [ 801.45479641,  720.42764028,  650.95232638,  591.4127482 ,\n",
       "          540.37729053,  496.66920942,  459.35006337,  427.67942636,\n",
       "          401.07541766,  379.08277413,  361.34880129,  347.60585746,\n",
       "          337.65892904,  331.37716494,  328.68858096,  329.57743445,\n",
       "          334.08400159,  342.30667921,  354.4064909 ,  370.61419917,\n",
       "          391.24028525,  416.68798169,  447.4691724 ,  484.22200295,\n",
       "          527.72693044,  578.91388694,  638.84645317,  708.65997152,\n",
       "          789.42483156,  881.92081435],\n",
       "        [ 886.3746264 ,  802.33812244,  728.90563809,  664.99768894,\n",
       "          609.55456698,  561.62898358,  520.41424144,  485.24120353,\n",
       "          455.56377006,  430.94228036,  411.02859374,  395.55398063,\n",
       "          384.31990437,  377.19143369,  374.09297641,  375.00608017,\n",
       "          379.96912974,  389.07885027,  402.49358149,  420.43829763,\n",
       "          443.21127099,  471.19204364,  504.84986191,  544.75075974,\n",
       "          591.55981973,  646.03263254,  708.98687576,  781.24274945,\n",
       "          863.52379249,  956.32459328],\n",
       "        [ 959.7847724 ,  873.64458498,  797.33441461,  730.11780251,\n",
       "          671.21430487,  619.87791649,  575.43671528,  537.30737627,\n",
       "          504.99617869,  478.0939835 ,  456.26931267,  439.26156698,\n",
       "          426.87527413,  418.97568902,  415.48581082,  416.38478007,\n",
       "          421.70758695,  431.54601065,  446.05068716,  465.43413889,\n",
       "          489.97445745,  520.01905995,  555.98747188,  598.37135437,\n",
       "          647.72895621,  704.66994773,  769.82566787,  843.80035806,\n",
       "          927.10299566, 1020.06899386],\n",
       "        [1022.79528496,  935.12103047,  856.66963287,  786.92480162,\n",
       "          725.30693349,  671.23166224,  624.14732691,  583.5554076 ,\n",
       "          549.01958491,  520.1681623 ,  496.69310647,  478.34770047,\n",
       "          464.94393615,  456.35023745,  452.48979778,  453.33964234,\n",
       "          458.93042733,  469.34691822,  484.72901762,  505.27311332,\n",
       "          531.23335997,  562.92226683,  600.7096113 ,  645.01822965,\n",
       "          696.31470301,  755.09253428,  821.84548996,  897.03001924,\n",
       "          981.01883824, 1074.05310156],\n",
       "        [1076.2063431 ,  987.37461909,  907.29828478,  835.60483759,\n",
       "          771.85696523,  715.59447208,  666.36552253,  623.74734229,\n",
       "          587.35859107,  556.86597433,  531.98725043,  512.49219229,\n",
       "          498.20253254,  488.99152686,  484.78350052,  485.55356417,\n",
       "          491.32756183,  502.18221727,  518.24535179,  539.69593679,\n",
       "          566.76360228,  599.72703611,  638.91047684,  684.67724992,\n",
       "          737.41909191,  797.53999644,  865.43373843,  941.4553907 ,\n",
       "         1025.88923652, 1118.91823103],\n",
       "        [1120.60236678, 1030.87281801,  949.54404958,  876.33929874,\n",
       "          810.92161777,  752.92373832,  701.97294885,  657.70984797,\n",
       "          619.80146275,  587.94989352,  561.89772865,  541.43128573,\n",
       "          526.38247486,  516.62983694,  512.09911327,  512.763552  ,\n",
       "          518.64403855,  529.80903723,  546.37423549,  568.50167978,\n",
       "          596.39807625,  630.31179849,  670.52801003,  717.36120128,\n",
       "          771.14441828,  832.21462115,  900.89407662,  977.46856861,\n",
       "         1062.16448613, 1155.12821925],\n",
       "        [1156.41207499, 1065.97023658,  983.6657968 ,  909.28669003,\n",
       "          842.56646879,  783.20591457,  730.89268659,  685.317638  ,\n",
       "          646.18751843,  613.23440834,  586.22248492,  564.95274711,\n",
       "          549.26624423,  539.04623276,  534.21956363,  534.75749201,\n",
       "          540.67600312,  552.03565763,  568.94087317,  591.53847058,\n",
       "          620.01522445,  654.59407156,  695.52856352,  743.09512689,\n",
       "          797.58275878,  859.27999327,  928.45937829, 1005.36032099,\n",
       "         1090.17192013, 1183.01808485],\n",
       "        [1183.94747737, 1092.93025652, 1009.86221101,  934.57519579,\n",
       "          866.85165279,  806.44076457,  753.07424494,  706.48049899,\n",
       "          666.39656465,  632.57773649,  604.80505559,  582.89097356,\n",
       "          566.6835222 ,  556.06928624,  550.97541648,  551.37084929,\n",
       "          557.2668243 ,  568.71671702,  585.81512897,  608.69610493,\n",
       "          637.53027942,  672.52069979,  713.8970456 ,  761.907984  ,\n",
       "          816.81149666,  878.86321485,  948.30312228, 1025.34141695,\n",
       "         1110.14478854, 1202.82472266],\n",
       "        [1203.42949312, 1111.94110112, 1028.27759492,  952.30022933,\n",
       "          883.82418203,  822.63124597,  768.48302963,  721.13354839,\n",
       "          680.34050466,  645.8749174 ,  617.52902739,  595.12256934,\n",
       "          578.50758476,  567.57197353,  562.24196676,  562.48366439,\n",
       "          568.30372777,  579.74925716,  596.90682075,  619.90054076,\n",
       "          648.88908852,  684.06140257,  725.63093509,  773.82826683,\n",
       "          828.89202903,  891.0582472 ,  960.54847905, 1037.55743597,\n",
       "         1122.24109441, 1214.70652414],\n",
       "        [1215.00467134, 1123.12705992, 1039.00683823,  962.52394458,\n",
       "          893.51360003,  831.77700766,  777.0930792 ,  729.2301603 ,\n",
       "          687.95698822,  653.05240105,  624.31356724,  601.56269166,\n",
       "          584.65227397,  573.46905635,  567.93681264,  568.01811373,\n",
       "          573.71516524,  585.06976312,  602.1623561 ,  625.11014886,\n",
       "          654.06413132,  689.20488687,  730.73702537,  778.88211921,\n",
       "          833.87010544,  895.92926586,  965.27511075, 1042.09875349,\n",
       "         1126.555629  , 1218.75560816],\n",
       "        [1218.75560816, 1126.555629  , 1042.09875349,  965.27511075,\n",
       "          895.92926586,  833.87010544,  778.88211921,  730.73702537,\n",
       "          689.20488687,  654.06413133,  625.11014886,  602.1623561 ,\n",
       "          585.06976312,  573.71516525,  568.01811373,  567.93681265,\n",
       "          573.46905635,  584.65227398,  601.56269167,  624.31356725,\n",
       "          653.05240105,  687.95698823,  729.2301603 ,  777.09307921,\n",
       "          831.77700767,  893.51360004,  962.52394459, 1039.00683824,\n",
       "         1123.12705993, 1215.00467135],\n",
       "        [1214.70652415, 1122.24109442, 1037.55743598,  960.54847906,\n",
       "          891.05824721,  828.89202905,  773.82826684,  725.6309351 ,\n",
       "          684.06140258,  648.88908853,  619.90054078,  596.90682076,\n",
       "          579.74925718,  568.30372779,  562.4836644 ,  562.24196677,\n",
       "          567.57197354,  578.50758477,  595.12256936,  617.52902741,\n",
       "          645.87491741,  680.34050468,  721.13354841,  768.48302964,\n",
       "          822.63124599,  883.82418205,  952.30022935, 1028.27759494,\n",
       "         1111.94110114, 1203.42949314],\n",
       "        [1202.82472268, 1110.14478856, 1025.34141697,  948.3031223 ,\n",
       "          878.86321487,  816.81149668,  761.90798402,  713.89704562,\n",
       "          672.52069981,  637.53027944,  608.69610496,  585.81512899,\n",
       "          568.71671704,  557.26682432,  551.37084932,  550.9754165 ,\n",
       "          556.06928626,  566.68352222,  582.89097358,  604.80505562,\n",
       "          632.57773652,  666.39656467,  706.48049902,  753.07424497,\n",
       "          806.44076459,  866.85165282,  934.57519582, 1009.86221103,\n",
       "         1092.93025655, 1183.9474774 ],\n",
       "        [1183.01808488, 1090.17192015, 1005.36032102,  928.45937832,\n",
       "          859.2799933 ,  797.5827588 ,  743.09512692,  695.52856355,\n",
       "          654.59407159,  620.01522448,  591.53847061,  568.9408732 ,\n",
       "          552.03565767,  540.67600315,  534.75749204,  534.21956366,\n",
       "          539.04623279,  549.26624426,  564.95274714,  586.22248495,\n",
       "          613.23440837,  646.18751847,  685.31763803,  730.89268662,\n",
       "          783.2059146 ,  842.56646882,  909.28669007,  983.66579683,\n",
       "         1065.97023662, 1156.41207503],\n",
       "        [1155.12821929, 1062.16448616,  977.46856865,  900.89407666,\n",
       "          832.21462119,  771.14441832,  717.36120132,  670.52801007,\n",
       "          630.31179852,  596.39807629,  568.50167982,  546.37423553,\n",
       "          529.80903727,  518.64403858,  512.76355204,  512.09911331,\n",
       "          516.62983698,  526.3824749 ,  541.43128577,  561.89772869,\n",
       "          587.94989356,  619.80146279,  657.70984801,  701.97294889,\n",
       "          752.92373836,  810.92161781,  876.33929879,  949.54404963,\n",
       "         1030.87281805, 1120.60236682],\n",
       "        [1118.91823107, 1025.88923657,  941.45539074,  865.43373847,\n",
       "          797.53999649,  737.41909196,  684.67724996,  638.91047688,\n",
       "          599.72703615,  566.76360232,  539.69593684,  518.24535184,\n",
       "          502.18221731,  491.32756187,  485.55356422,  484.78350057,\n",
       "          488.99152691,  498.20253258,  512.49219234,  531.98725048,\n",
       "          556.86597438,  587.35859112,  623.74734234,  666.36552258,\n",
       "          715.59447213,  771.85696528,  835.60483764,  907.29828483,\n",
       "          987.37461914, 1076.20634314],\n",
       "        [1074.05310161,  981.01883829,  897.03001929,  821.84549   ,\n",
       "          755.09253433,  696.31470306,  645.0182297 ,  600.70961135,\n",
       "          562.92226688,  531.23336002,  505.27311337,  484.72901767,\n",
       "          469.34691827,  458.93042738,  453.33964239,  452.48979783,\n",
       "          456.3502375 ,  464.9439362 ,  478.34770052,  496.69310652,\n",
       "          520.16816236,  549.01958497,  583.55540765,  624.14732697,\n",
       "          671.2316623 ,  725.30693354,  786.92480167,  856.66963292,\n",
       "          935.12103053, 1022.79528501],\n",
       "        [1020.06899391,  927.10299571,  843.80035811,  769.82566793,\n",
       "          704.66994778,  647.72895626,  598.37135442,  555.98747193,\n",
       "          520.01906   ,  489.9744575 ,  465.43413894,  446.05068722,\n",
       "          431.5460107 ,  421.707587  ,  416.38478012,  415.48581087,\n",
       "          418.97568907,  426.87527418,  439.26156703,  456.26931273,\n",
       "          478.09398356,  504.99617874,  537.30737633,  575.43671533,\n",
       "          619.87791655,  671.21430492,  730.11780256,  797.33441467,\n",
       "          873.64458504,  959.78477246],\n",
       "        [ 956.32459333,  863.52379254,  781.24274951,  708.98687581,\n",
       "          646.03263259,  591.55981979,  544.75075979,  504.84986197,\n",
       "          471.19204369,  443.21127104,  420.43829769,  402.49358155,\n",
       "          389.07885033,  379.9691298 ,  375.00608022,  374.09297646,\n",
       "          377.19143374,  384.31990443,  395.55398069,  411.02859379,\n",
       "          430.94228041,  455.56377011,  485.24120359,  520.4142415 ,\n",
       "          561.62898364,  609.55456704,  664.997689  ,  728.90563815,\n",
       "          802.33812249,  886.37462646],\n",
       "        [ 881.92081441,  789.42483161,  708.65997157,  638.84645322,\n",
       "          578.913887  ,  527.7269305 ,  484.222003  ,  447.46917245,\n",
       "          416.68798174,  391.2402853 ,  370.61419922,  354.40649095,\n",
       "          342.30667927,  334.08400164,  329.57743451,  328.68858101,\n",
       "          331.377165  ,  337.65892909,  347.60585751,  361.34880135,\n",
       "          379.08277419,  401.07541771,  427.67942642,  459.35006343,\n",
       "          496.66920947,  540.37729059,  591.41274825,  650.95232643,\n",
       "          720.42764033,  801.45479647],\n",
       "        [ 795.55920623,  703.59474792,  625.12585194,  558.8250785 ,\n",
       "          503.04953168,  456.2120122 ,  416.94114926,  384.11684309,\n",
       "          356.85042553,  334.4476892 ,  316.37172293,  302.21150379,\n",
       "          291.65737414,  284.482763  ,  280.53107515,  279.70674809,\n",
       "          281.96971614,  287.33278944,  295.8617189 ,  307.6779799 ,\n",
       "          322.96459727,  341.97570014,  365.05102093,  392.63737632,\n",
       "          425.32050024,  463.87263759,  509.32368698,  563.063279  ,\n",
       "          626.96531594,  703.45771285],\n",
       "        [ 695.26646614,  604.2691019 ,  529.42360978,  468.27847716,\n",
       "          418.24714901,  377.13043738,  343.21373876,  315.20662511,\n",
       "          292.14918807,  273.32832306,  258.21349951,  246.41042712,\n",
       "          237.6285505 ,  231.65860108,  228.35735499,  227.63762007,\n",
       "          229.46216204,  233.84079363,  240.83024876,  250.5368021 ,\n",
       "          263.12193484,  278.81176463,  297.91158086,  320.82792068,\n",
       "          348.10277759,  380.46907256,  418.94608307,  465.01178665,\n",
       "          520.91263157,  590.14427284],\n",
       "        [ 577.77984358,  488.79158374,  420.02100812,  366.61807134,\n",
       "          324.53014982,  290.84884954,  263.5767433 ,  241.34673051,\n",
       "          223.2113786 ,  208.50291546,  196.74352492,  187.58815469,\n",
       "          180.78779965,  176.16573585,  173.60212364,  173.02421517,\n",
       "          174.4005183 ,  177.73797428,  183.08168041,  190.51704488,\n",
       "          200.17457538,  212.23784269,  226.9556172 ,  244.65994795,\n",
       "          265.79361687,  290.95479198,  320.9797861 ,  357.12515295,\n",
       "          401.52915085,  458.42690337],\n",
       "        [ 436.9170516 ,  353.09638138,  295.25076762,  253.64265027,\n",
       "          222.4065294 ,  198.15806766,  178.8976544 ,  163.39217502,\n",
       "          150.84668036,  140.72843525,  132.66953002,  126.41086708,\n",
       "          121.76875754,  118.61441902,  116.86118857,  116.45659866,\n",
       "          117.37772171,  119.6289048 ,  123.24145371,  128.27512163,\n",
       "          134.82147909,  143.00941356,  153.01309729,  165.06263705,\n",
       "          179.45694996,  196.57669239,  216.8931164 ,  240.97988821,\n",
       "          269.65191551,  305.11713818],\n",
       "        [ 258.36507808,  191.42612254,  154.24303072,  130.29523271,\n",
       "          113.29524985,  100.47923728,   90.46363162,   82.47763481,\n",
       "           76.05473258,   70.89461516,   66.79529282,   63.61702608,\n",
       "           61.26194443,   59.6619941 ,   58.77161296,   58.56326918,\n",
       "           59.02486509,   60.15846947,   61.98010801,   64.52050886,\n",
       "           67.82680578,   71.96523518,   77.02472137,   83.12055299,\n",
       "           90.39485354,   99.0019112 ,  109.0360989 ,  120.24936798,\n",
       "          130.98148481,  134.02465575]]), 451, True)"
      ]
     },
     "execution_count": 16,
     "metadata": {},
     "output_type": "execute_result"
    }
   ],
   "source": [
    "SOR_q6(30, 1.8, maxiter=500, plot=True)"
   ]
  },
  {
   "cell_type": "markdown",
   "metadata": {},
   "source": [
    "**Exercise 7**"
   ]
  },
  {
   "cell_type": "code",
   "execution_count": 17,
   "metadata": {},
   "outputs": [],
   "source": [
    "ω_s = np.linspace(1, 1.95, 20)\n",
    "iterate_n = np.nan * np.ones_like(ω_s)\n",
    "n = 20\n",
    "\n",
    "for i, ω in enumerate(ω_s):\n",
    "    result = SOR_q6(n, ω, tol=1e-2, maxiter=1000, print_flag=False)\n",
    "    if result[2]:\n",
    "        iterate_n[i] = result[1]"
   ]
  },
  {
   "cell_type": "code",
   "execution_count": 18,
   "metadata": {},
   "outputs": [
    {
     "data": {
      "image/png": "[encoded data removed]",
      "text/plain": [
       "<Figure size 432x288 with 1 Axes>"
      ]
     },
     "metadata": {},
     "output_type": "display_data"
    }
   ],
   "source": [
    "plt.plot(ω_s, iterate_n)\n",
    "plt.xlabel('$\\omega$')\n",
    "plt.ylabel('Iterations')\n",
    "plt.title('Relaxation factor')\n",
    "plt.show()"
   ]
  },
  {
   "cell_type": "code",
   "execution_count": 19,
   "metadata": {},
   "outputs": [
    {
     "data": {
      "text/plain": [
       "1.7999999999999998"
      ]
     },
     "execution_count": 19,
     "metadata": {},
     "output_type": "execute_result"
    }
   ],
   "source": [
    "ω_s[iterate_n.argmin()]"
   ]
  },
  {
   "cell_type": "code",
   "execution_count": null,
   "metadata": {},
   "outputs": [],
   "source": []
  }
 ],
 "metadata": {
  "kernelspec": {
   "display_name": "Python 3",
   "language": "python",
   "name": "python3"
  },
  "language_info": {
   "codemirror_mode": {
    "name": "ipython",
    "version": 3
   },
   "file_extension": ".py",
   "mimetype": "text/x-python",
   "name": "python",
   "nbconvert_exporter": "python",
   "pygments_lexer": "ipython3",
   "version": "3.6.5"
  }
 },
 "nbformat": 4,
 "nbformat_minor": 2
}
