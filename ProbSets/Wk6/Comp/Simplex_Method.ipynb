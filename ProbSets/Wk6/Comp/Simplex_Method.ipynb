{
 "cells": [
  {
   "cell_type": "code",
   "execution_count": 1,
   "metadata": {},
   "outputs": [],
   "source": [
    "import numpy as np"
   ]
  },
  {
   "cell_type": "markdown",
   "metadata": {},
   "source": [
    "**Exercises 1, 2, 3, 4, 5, and 6**"
   ]
  },
  {
   "cell_type": "code",
   "execution_count": 2,
   "metadata": {},
   "outputs": [],
   "source": [
    "class Linear_Opt_Problem:\n",
    "    \n",
    "    def __init__(self, c, A, b):\n",
    "        self.c, self.A, self.b = np.array(c), np.array(A), np.array(b)\n",
    "        \n",
    "        if np.any(self.b < 0):\n",
    "            raise ValueError('The problem is not feasible.')\n",
    "        \n",
    "        self.m, self.n = self.A.shape\n",
    "        \n",
    "        t = self.m + self.n\n",
    "        self.L = np.concatenate([np.arange(self.n, t, 1),\n",
    "                                 np.arange(0, self.n, 1)])\n",
    "        \n",
    "        self.T = self.initial_tableau()\n",
    "        \n",
    "    def initial_tableau(self):\n",
    "        I_m = np.eye(self.m)\n",
    "        A_bar = np.hstack([self.A, I_m])\n",
    "        c_bar = np.hstack([self.c, np.zeros(self.m)])\n",
    "        T_1 = np.hstack([0, -c_bar.T, 1])\n",
    "        T_2 = np.column_stack([self.b, A_bar, np.zeros(self.m)])\n",
    "        return np.vstack([T_1, T_2])\n",
    "    \n",
    "    def pivot_id(self):\n",
    "        T = self.T.copy()\n",
    "        column_id = int(np.argwhere(T[0, 1:] < 0)[0]) + 1\n",
    "                \n",
    "        if np.all(T[:, column_id] <= 0):\n",
    "            raise ValueError('The problem is not bounded.')\n",
    "            \n",
    "        pos_T = T[:, column_id] <= 0\n",
    "        T[pos_T, column_id] = np.nan\n",
    "        row_id = np.nanargmin(T[:, 0] / T[:, column_id])\n",
    "                \n",
    "        return row_id, column_id \n",
    "    \n",
    "    def pivot(self):\n",
    "                \n",
    "        L, T, m = self.L, self.T, self.m\n",
    "        row_id, column_id = self.pivot_id()\n",
    "        \n",
    "        L_temp = L.copy()\n",
    "        \n",
    "        L[row_id - 1] = L_temp[column_id + m - 1]\n",
    "        L[column_id + m - 1] = L_temp[row_id - 1]\n",
    "                        \n",
    "        T[row_id, :] /= T[row_id, column_id]\n",
    "        \n",
    "        for i in range(T.shape[0]):\n",
    "            if i == row_id:\n",
    "                pass\n",
    "            else:\n",
    "                k = -T[i, column_id]\n",
    "                T[i, :] += k * T[row_id, :]\n",
    "        \n",
    "        self.T = T\n",
    "        self.L = L\n",
    "        \n",
    "    def solve(self):\n",
    "        \n",
    "        while np.any(self.T[0, :] < 0):\n",
    "            self.pivot()\n",
    "                    \n",
    "        max_val = self.T[0, 0]\n",
    "        basic = self.L[:self.m]\n",
    "        nonbasic = self.L[self.m:]\n",
    "        d1 = dict(zip(nonbasic, np.zeros(self.m)))\n",
    "        d2 = dict(zip(basic, self.T[1:, 0]))\n",
    "        return (max_val, d1, d2)      "
   ]
  },
  {
   "cell_type": "code",
   "execution_count": 3,
   "metadata": {},
   "outputs": [],
   "source": [
    "c = [3, 2]\n",
    "A = [[1, -1], \n",
    "     [3, 1],\n",
    "     [4, 3]]\n",
    "b = [2, 5, 7]"
   ]
  },
  {
   "cell_type": "code",
   "execution_count": 4,
   "metadata": {},
   "outputs": [
    {
     "data": {
      "text/plain": [
       "(5.2,\n",
       " {3: 0.0, 4: 0.0},\n",
       " {2: 0.5999999999999996, 0: 1.6, 1: 0.19999999999999982})"
      ]
     },
     "execution_count": 4,
     "metadata": {},
     "output_type": "execute_result"
    }
   ],
   "source": [
    "linear = Linear_Opt_Problem(c, A, b)\n",
    "linear.solve()"
   ]
  },
  {
   "cell_type": "markdown",
   "metadata": {},
   "source": [
    "**Exercise 7**"
   ]
  },
  {
   "cell_type": "code",
   "execution_count": 5,
   "metadata": {},
   "outputs": [],
   "source": [
    "data = np.load('productMix.npz')\n",
    "a = data['A']\n",
    "p = data['p']\n",
    "m = data['m']\n",
    "d = data['d']\n",
    "\n",
    "A = np.row_stack([a, np.eye((4))])\n",
    "b = np.concatenate([m, d])"
   ]
  },
  {
   "cell_type": "code",
   "execution_count": 6,
   "metadata": {},
   "outputs": [
    {
     "data": {
      "text/plain": [
       "(7453.596491228071,\n",
       " {7: 0.0, 4: 0.0, 9: 0.0, 5: 0.0},\n",
       " {1: 6.192982456140348,\n",
       "  3: 1.7894736842105292,\n",
       "  6: 0.9659649122807016,\n",
       "  0: 10.0,\n",
       "  8: 13.807017543859653,\n",
       "  2: 12.0,\n",
       "  10: 8.21052631578947})"
      ]
     },
     "execution_count": 6,
     "metadata": {},
     "output_type": "execute_result"
    }
   ],
   "source": [
    "Linear_Opt_Problem(p, A, b).solve()"
   ]
  },
  {
   "cell_type": "code",
   "execution_count": null,
   "metadata": {},
   "outputs": [],
   "source": []
  }
 ],
 "metadata": {
  "kernelspec": {
   "display_name": "Python 3",
   "language": "python",
   "name": "python3"
  },
  "language_info": {
   "codemirror_mode": {
    "name": "ipython",
    "version": 3
   },
   "file_extension": ".py",
   "mimetype": "text/x-python",
   "name": "python",
   "nbconvert_exporter": "python",
   "pygments_lexer": "ipython3",
   "version": "3.6.5"
  }
 },
 "nbformat": 4,
 "nbformat_minor": 2
}
