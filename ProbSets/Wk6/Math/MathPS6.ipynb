{
 "cells": [
  {
   "cell_type": "code",
   "execution_count": 1,
   "metadata": {},
   "outputs": [],
   "source": [
    "import numpy as np\n",
    "import scipy.optimize as opt"
   ]
  },
  {
   "cell_type": "markdown",
   "metadata": {},
   "source": [
    "**Exercise 9.6**"
   ]
  },
  {
   "cell_type": "code",
   "execution_count": 2,
   "metadata": {},
   "outputs": [],
   "source": [
    "def steep_desc(Q, x_0, b, tol=1e-10, max_iter=3000):\n",
    "    '''Implements the steppest descent method for quadratic functions\n",
    "    (see Example 9.2.3 in book)\n",
    "    '''\n",
    "    d = 1\n",
    "    k = 1\n",
    "    while k < max_iter and d > tol:\n",
    "        Df = (Q @ x_0) - b\n",
    "        α = (Df.T @ Df) / ((Df.T @ Q) @ Df) # see equation 9.2 in book\n",
    "        d = np.linalg.norm(Df)\n",
    "        x_1 = x_0 - α * Df\n",
    "        x_0 = x_1\n",
    "    \n",
    "    if k < max_iter:\n",
    "        print(\"Convergence achieved!\")\n",
    "    \n",
    "    return x_0"
   ]
  },
  {
   "cell_type": "code",
   "execution_count": 3,
   "metadata": {},
   "outputs": [
    {
     "name": "stdout",
     "output_type": "stream",
     "text": [
      "Convergence achieved!\n"
     ]
    },
    {
     "data": {
      "text/plain": [
       "array([1.14285714, 0.85714286])"
      ]
     },
     "execution_count": 3,
     "metadata": {},
     "output_type": "execute_result"
    }
   ],
   "source": [
    "Q = np.array([[5,-2],[-2,5]])\n",
    "x_0 = np.array([3,3])\n",
    "b = np.array([4,2])\n",
    "\n",
    "steep_desc(Q, x_0, b)"
   ]
  },
  {
   "cell_type": "markdown",
   "metadata": {},
   "source": [
    "**Exercise 9.7**"
   ]
  },
  {
   "cell_type": "code",
   "execution_count": 4,
   "metadata": {},
   "outputs": [],
   "source": [
    "#def f(x):\n",
    "#    '''Defines a function f in quadratic form, with input x\n",
    "#    '''\n",
    "#    return 0.5 * x @ (Q @ x) - b @ x + 4\n",
    " \n",
    "#f = lambda x: 0.5 * x @ (Q @ x) - b @ x + 4\n",
    "\n",
    "def compute_Df(f, x_0, Rerr_f):\n",
    "    '''Computes Df using forward differences and a step size of\n",
    "    sqrt(Rerr_f). \n",
    "    Accepts a callable function f:R^n -> R, a point x in R^n, and\n",
    "    an estimate Rerr_f > varepsilon_machine for the maximum relative\n",
    "    error of f near x.\n",
    "    Returns an estimate for Df(x).\n",
    "    See page 423 of notes.\n",
    "    '''\n",
    "    \n",
    "    # Old code\n",
    "    \"\"\"\n",
    "    m = f(x_0).shape\n",
    "    if len(m) == 0:\n",
    "        m = 1\n",
    "    n = x_0.shape[0] # x_0 in R^n\n",
    "    \n",
    "    Df = np.zeros((m,n))\n",
    "    h = 2 * np.sqrt(Rerr_f) # Approximately\n",
    "    \n",
    "    for i in range(n):\n",
    "        e_i = np.zeros(n)\n",
    "        e_i[i] = 1 # Standard basis\n",
    "        Df[:,i] = (f(x_0 + h * e_i) - f(x_0)) * (1 / h)\n",
    "    \n",
    "    return Df\n",
    "    \"\"\"\n",
    "    \n",
    "    n = len(x_0)\n",
    "    Df = np.zeros(n, dtype=np.float64)\n",
    "    h = 2 * np.sqrt(Rerr_f)\n",
    "    for i in range(n):\n",
    "        ei = np.eye(n)[:,i]\n",
    "        Df[i] = (-3 * f(x_0) + 4 * f(x_0 + h * ei) - \\\n",
    "                 f(x_0 + 2 * h * ei)) / (2 * h)\n",
    "    return Df"
   ]
  },
  {
   "cell_type": "markdown",
   "metadata": {},
   "source": [
    "**Exercise 9.8**"
   ]
  },
  {
   "cell_type": "code",
   "execution_count": 5,
   "metadata": {},
   "outputs": [],
   "source": [
    "def secant(x, x_1, ɛ, fp):\n",
    "    '''Implements the secant method\n",
    "    '''\n",
    "    \n",
    "    max_iter = 2000\n",
    "    iterate = 1\n",
    "    \n",
    "    x_km1 = x\n",
    "    x_k = x_1\n",
    "    \n",
    "    converged = False\n",
    "    while not converged and iterate < max_iter:\n",
    "        \n",
    "        update = fp(x_k) * ((x_k - x_km1) / (fp(x_k) - fp(x_km1)))\n",
    "        x_k1 = x_k - update\n",
    "                               \n",
    "        if np.abs(x_k1 - x_k) < np.abs(x_k) * ɛ:\n",
    "            converged = True\n",
    "        else: \n",
    "            converged = False\n",
    "        \n",
    "        x_km1 = x_k\n",
    "        x_k = x_k1\n",
    "        \n",
    "        iterate += 1\n",
    "    \n",
    "    return x_k1"
   ]
  },
  {
   "cell_type": "code",
   "execution_count": 6,
   "metadata": {},
   "outputs": [],
   "source": [
    "def steep_desc2(f, x, ɛ):\n",
    "    '''Implements the steepest descent method for arbitrary \n",
    "    functions.\n",
    "    '''\n",
    "    \n",
    "    max_iter = 20000\n",
    "    iterate = 1\n",
    "    error = 1 + ɛ\n",
    "    \n",
    "    x_k = x\n",
    "    \n",
    "    while error > ɛ and iterate < max_iter:\n",
    "        \n",
    "        Dfx = compute_Df(f, x_k, ɛ)\n",
    "        fαp = lambda x: compute_Df(f, x_k - x * Dfx.T, ɛ) @ (-1 * Dfx.T)\n",
    "        αopt = secant(.8, .2, ɛ, fαp)\n",
    "        x_kp1 = x_k - αopt * Dfx\n",
    "        error = np.linalg.norm(Dfx)\n",
    "        x_k = x_kp1\n",
    "        iterate += 1\n",
    "    \n",
    "    return x_k, error"
   ]
  },
  {
   "cell_type": "markdown",
   "metadata": {},
   "source": [
    "**Exercise 9.9**"
   ]
  },
  {
   "cell_type": "code",
   "execution_count": 7,
   "metadata": {},
   "outputs": [],
   "source": [
    "def rosenbrock(x):\n",
    "    return 100 * (x[1] - x[0] ** 2) ** 2 + (1 - x[0]) ** 2"
   ]
  },
  {
   "cell_type": "code",
   "execution_count": 8,
   "metadata": {},
   "outputs": [],
   "source": [
    "x = np.array([-2, 2])"
   ]
  },
  {
   "cell_type": "code",
   "execution_count": 9,
   "metadata": {},
   "outputs": [
    {
     "data": {
      "text/plain": [
       "(array([1.01634609, 1.03295939]), 9.999155640197579e-06)"
      ]
     },
     "execution_count": 9,
     "metadata": {},
     "output_type": "execute_result"
    }
   ],
   "source": [
    "y = steep_desc2(rosenbrock, x, 1e-5)\n",
    "y"
   ]
  }
 ],
 "metadata": {
  "kernelspec": {
   "display_name": "Python 3",
   "language": "python",
   "name": "python3"
  },
  "language_info": {
   "codemirror_mode": {
    "name": "ipython",
    "version": 3
   },
   "file_extension": ".py",
   "mimetype": "text/x-python",
   "name": "python",
   "nbconvert_exporter": "python",
   "pygments_lexer": "ipython3",
   "version": "3.6.5"
  }
 },
 "nbformat": 4,
 "nbformat_minor": 2
}
