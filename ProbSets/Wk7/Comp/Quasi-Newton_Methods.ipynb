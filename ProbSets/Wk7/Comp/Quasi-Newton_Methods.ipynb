{
 "cells": [
  {
   "cell_type": "code",
   "execution_count": 1,
   "metadata": {},
   "outputs": [],
   "source": [
    "import numpy as np\n",
    "import scipy.linalg as la\n",
    "import scipy.optimize as opt\n",
    "import time\n",
    "import matplotlib.pyplot as plt"
   ]
  },
  {
   "cell_type": "markdown",
   "metadata": {},
   "source": [
    "**Exercise 1**"
   ]
  },
  {
   "cell_type": "code",
   "execution_count": 2,
   "metadata": {},
   "outputs": [],
   "source": [
    "def newton_q1(Df, D2f, x0, maxiter=400, tol=1e-6):\n",
    "    x = x0\n",
    "    diff = 1e3\n",
    "    k = 0\n",
    "    \n",
    "    while diff > tol and k < maxiter:\n",
    "        Df_tilde = Df(x)\n",
    "        z = la.solve(D2f(x), Df_tilde.T)\n",
    "        x_tilde = x - z\n",
    "        diff = la.norm(Df_tilde, np.inf)\n",
    "        x = x_tilde\n",
    "        k += 1\n",
    "    \n",
    "    return x, k < maxiter, k"
   ]
  },
  {
   "cell_type": "code",
   "execution_count": 3,
   "metadata": {},
   "outputs": [
    {
     "data": {
      "text/plain": [
       "(array([1., 1.]), True, 6)"
      ]
     },
     "execution_count": 3,
     "metadata": {},
     "output_type": "execute_result"
    }
   ],
   "source": [
    "newton_q1(opt.rosen_der, opt.rosen_hess, [-2, 2])"
   ]
  },
  {
   "cell_type": "code",
   "execution_count": 4,
   "metadata": {},
   "outputs": [
    {
     "name": "stdout",
     "output_type": "stream",
     "text": [
      "Optimization terminated successfully.\n",
      "         Current function value: 0.000000\n",
      "         Iterations: 35\n",
      "         Function evaluations: 42\n",
      "         Gradient evaluations: 42\n"
     ]
    },
    {
     "data": {
      "text/plain": [
       "array([1.00000021, 1.00000045])"
      ]
     },
     "execution_count": 4,
     "metadata": {},
     "output_type": "execute_result"
    }
   ],
   "source": [
    "f = opt.rosen\n",
    "df = opt.rosen_der\n",
    "d2f = opt.rosen_hess\n",
    "opt.fmin_bfgs(f=f, x0=[-2,2], fprime=df, maxiter=50)"
   ]
  },
  {
   "cell_type": "markdown",
   "metadata": {},
   "source": [
    "**Exercise 2**"
   ]
  },
  {
   "cell_type": "code",
   "execution_count": 5,
   "metadata": {},
   "outputs": [],
   "source": [
    "def bfgs_q2(Df, x0, maxiter=400, tol=1e-6):\n",
    "\n",
    "    diff = 1e3 # The usual cirteria is not a good choice for BFGS - consider changing this\n",
    "    x = x0\n",
    "    k = 0\n",
    "    df = Df(x)\n",
    "    A0_inv = np.eye(len(x0))\n",
    "    \n",
    "    while diff > tol and k < maxiter:\n",
    "        x_tilde = x - A0_inv @ df.T # (12.6)\n",
    "        s = x_tilde - x\n",
    "        df_tilde = Df(x_tilde)\n",
    "        y = df_tilde - df\n",
    "        \n",
    "        if (s @ y) ** 2 == 0:\n",
    "            return False\n",
    "        \n",
    "        # (12.7)\n",
    "        Ainv_tilde = A0_inv + (s @ y + y @ A0_inv @ y) * np.outer(s, s) / \\\n",
    "        (s @ y)**2 - (A0_inv @ np.outer(y, s) + np.outer(s, y) @ A0_inv) / (s @ y)\n",
    "    \n",
    "        diff = la.norm(df_tilde, np.inf)\n",
    "        k += 1\n",
    "        \n",
    "        x = x_tilde\n",
    "        df = df_tilde\n",
    "        A0_inv = Ainv_tilde\n",
    "        \n",
    "    return x, k < maxiter, k"
   ]
  },
  {
   "cell_type": "code",
   "execution_count": 6,
   "metadata": {},
   "outputs": [
    {
     "data": {
      "text/plain": [
       "(array([1.0000001 , 1.00000019]), True, 145)"
      ]
     },
     "execution_count": 6,
     "metadata": {},
     "output_type": "execute_result"
    }
   ],
   "source": [
    "bfgs_q2(opt.rosen_der, [-2, 2])"
   ]
  },
  {
   "cell_type": "markdown",
   "metadata": {},
   "source": [
    "**Exercise 3**"
   ]
  },
  {
   "cell_type": "code",
   "execution_count": 7,
   "metadata": {},
   "outputs": [],
   "source": [
    "def plot_q3(N):\n",
    "    \n",
    "    newton_it = np.empty(N)\n",
    "    newton_time = np.empty(N)\n",
    "    bfgs_it = np.empty(N)\n",
    "    bfgs_time = np.empty(N)\n",
    "    scipy_it = np.empty(N)\n",
    "    scipy_time = np.empty(N)\n",
    "    \n",
    "    \n",
    "    \n",
    "    for n in range(N):\n",
    "        x0 = np.random.uniform(-3, 3, size=2)\n",
    "        \n",
    "        newton_begin = time.time()\n",
    "        newton_it[n] = newton_q1(opt.rosen_der, opt.rosen_hess, x0)[-1]\n",
    "        newton_end = time.time() - newton_begin\n",
    "        newton_time[n] = newton_end\n",
    "        \n",
    "        bfgs_begin = time.time()\n",
    "        bfgs_it[n] = bfgs_q2(opt.rosen_der, x0)[-1]\n",
    "        bfgs_end = time.time() - bfgs_begin\n",
    "        bfgs_time[n] = bfgs_end\n",
    "        \n",
    "        scipy_begin = time.time()\n",
    "        scipy_it[n] = len(opt.fmin_bfgs(opt.rosen, x0, opt.rosen_der, \n",
    "                                        disp=False, retall=True)[-1])\n",
    "        scipy_end = time.time() - scipy_begin\n",
    "        scipy_time[n] = scipy_end\n",
    "    \n",
    "    plt.figure(figsize=(8, 4))\n",
    "    plt.scatter(newton_time, newton_it, alpha=0.4, label='Newton\\'s Method')\n",
    "    plt.scatter(bfgs_time, bfgs_it, alpha=0.4, label='BFGS')\n",
    "    plt.scatter(scipy_time, scipy_it, alpha=0.4, label='scipy.optimize.fmin_bfgs()')\n",
    "    plt.loglog()\n",
    "    plt.xlabel('Time (seconds)')\n",
    "    plt.ylabel('Iterations')\n",
    "    plt.legend()\n",
    "    plt.show()"
   ]
  },
  {
   "cell_type": "code",
   "execution_count": 8,
   "metadata": {},
   "outputs": [
    {
     "data": {
      "image/png": "[encoded data removed]",
      "text/plain": [
       "<Figure size 576x288 with 1 Axes>"
      ]
     },
     "metadata": {},
     "output_type": "display_data"
    }
   ],
   "source": [
    "plot_q3(100)"
   ]
  },
  {
   "cell_type": "code",
   "execution_count": 9,
   "metadata": {},
   "outputs": [],
   "source": [
    "# ^ WHY IS THIS BEING WEIRD?!?!?!?!?!?!?"
   ]
  },
  {
   "cell_type": "markdown",
   "metadata": {},
   "source": [
    "**Exercise 4**"
   ]
  },
  {
   "cell_type": "code",
   "execution_count": 10,
   "metadata": {},
   "outputs": [],
   "source": [
    "def gaussnewt_q4(ϕ, Dϕ, r, J, x0, maxiter=400, tol=1e-6):\n",
    "    x = x0\n",
    "    diff = 1e3\n",
    "    k = 0\n",
    "    \n",
    "    while diff > tol and k < maxiter:\n",
    "        Dϕ_tilde = Dϕ(x)\n",
    "        D2ϕ = J.T * J # 'function' object has no attribute 'T'\n",
    "        z = la.solve(D2ϕ, Df_tilde.T)\n",
    "        x_tilde = x - z\n",
    "        diff = la.norm(Dϕ_tilde, np.inf)\n",
    "        x = x_tilde\n",
    "        k += 1\n",
    "\n",
    "    \n",
    "    return x, k, k < maxiter"
   ]
  },
  {
   "cell_type": "code",
   "execution_count": 11,
   "metadata": {},
   "outputs": [],
   "source": [
    "T = np.arange(10)\n",
    "y = 3*np.sin(0.5*T) + 0.5*np.random.rand(10)\n",
    "\n",
    "model = lambda x, t: x[0]*np.sin(x[1]*t)\n",
    "residual = lambda x: model(x, T) - y\n",
    "jac = lambda x: np.column_stack((np.sin(x[1]*t), x[0]*t*np.cos(x[1]*t)))\n",
    "Df = lambda x: jac(x).T * residual(x)"
   ]
  },
  {
   "cell_type": "code",
   "execution_count": 12,
   "metadata": {},
   "outputs": [
    {
     "name": "stdout",
     "output_type": "stream",
     "text": [
      "[-0.00679857 -0.07889057 -0.59349876 -0.80489647 -1.09284845 -1.74139772\n",
      " -2.02048845 -1.15907095 -0.42304575  0.59985228]\n",
      "[[0.56464247 2.06333904]]\n"
     ]
    }
   ],
   "source": [
    "x = [2.5, 0.6]\n",
    "t = 1\n",
    "print(residual(x))\n",
    "print(jac(x))"
   ]
  },
  {
   "cell_type": "code",
   "execution_count": 13,
   "metadata": {},
   "outputs": [
    {
     "ename": "AttributeError",
     "evalue": "'function' object has no attribute 'T'",
     "output_type": "error",
     "traceback": [
      "\u001b[1;31m---------------------------------------------------------------------------\u001b[0m",
      "\u001b[1;31mAttributeError\u001b[0m                            Traceback (most recent call last)",
      "\u001b[1;32m<ipython-input-13-0a0f3d2d71bc>\u001b[0m in \u001b[0;36m<module>\u001b[1;34m()\u001b[0m\n\u001b[1;32m----> 1\u001b[1;33m \u001b[0mgaussnewt_q4\u001b[0m\u001b[1;33m(\u001b[0m\u001b[0mmodel\u001b[0m\u001b[1;33m,\u001b[0m \u001b[0mDf\u001b[0m\u001b[1;33m,\u001b[0m \u001b[0mresidual\u001b[0m\u001b[1;33m,\u001b[0m \u001b[0mjac\u001b[0m\u001b[1;33m,\u001b[0m \u001b[1;33m[\u001b[0m\u001b[1;36m2.5\u001b[0m\u001b[1;33m,\u001b[0m \u001b[1;36m0.6\u001b[0m\u001b[1;33m]\u001b[0m\u001b[1;33m)\u001b[0m\u001b[1;33m\u001b[0m\u001b[0m\n\u001b[0m",
      "\u001b[1;32m<ipython-input-10-d7c5a4e17e20>\u001b[0m in \u001b[0;36mgaussnewt_q4\u001b[1;34m(φ, Dφ, r, J, x0, maxiter, tol)\u001b[0m\n\u001b[0;32m      6\u001b[0m     \u001b[1;32mwhile\u001b[0m \u001b[0mdiff\u001b[0m \u001b[1;33m>\u001b[0m \u001b[0mtol\u001b[0m \u001b[1;32mand\u001b[0m \u001b[0mk\u001b[0m \u001b[1;33m<\u001b[0m \u001b[0mmaxiter\u001b[0m\u001b[1;33m:\u001b[0m\u001b[1;33m\u001b[0m\u001b[0m\n\u001b[0;32m      7\u001b[0m         \u001b[0mDϕ_tilde\u001b[0m \u001b[1;33m=\u001b[0m \u001b[0mDϕ\u001b[0m\u001b[1;33m(\u001b[0m\u001b[0mx\u001b[0m\u001b[1;33m)\u001b[0m\u001b[1;33m\u001b[0m\u001b[0m\n\u001b[1;32m----> 8\u001b[1;33m         \u001b[0mD2ϕ\u001b[0m \u001b[1;33m=\u001b[0m \u001b[0mJ\u001b[0m\u001b[1;33m.\u001b[0m\u001b[0mT\u001b[0m \u001b[1;33m*\u001b[0m \u001b[0mJ\u001b[0m \u001b[1;31m# 'function' object has no attribute 'T'\u001b[0m\u001b[1;33m\u001b[0m\u001b[0m\n\u001b[0m\u001b[0;32m      9\u001b[0m         \u001b[0mz\u001b[0m \u001b[1;33m=\u001b[0m \u001b[0mla\u001b[0m\u001b[1;33m.\u001b[0m\u001b[0msolve\u001b[0m\u001b[1;33m(\u001b[0m\u001b[0mD2ϕ\u001b[0m\u001b[1;33m,\u001b[0m \u001b[0mDf_tilde\u001b[0m\u001b[1;33m.\u001b[0m\u001b[0mT\u001b[0m\u001b[1;33m)\u001b[0m\u001b[1;33m\u001b[0m\u001b[0m\n\u001b[0;32m     10\u001b[0m         \u001b[0mx_tilde\u001b[0m \u001b[1;33m=\u001b[0m \u001b[0mx\u001b[0m \u001b[1;33m-\u001b[0m \u001b[0mz\u001b[0m\u001b[1;33m\u001b[0m\u001b[0m\n",
      "\u001b[1;31mAttributeError\u001b[0m: 'function' object has no attribute 'T'"
     ]
    }
   ],
   "source": [
    "gaussnewt_q4(model, Df, residual, jac, [2.5, 0.6])"
   ]
  },
  {
   "cell_type": "code",
   "execution_count": null,
   "metadata": {},
   "outputs": [],
   "source": []
  }
 ],
 "metadata": {
  "kernelspec": {
   "display_name": "Python 3",
   "language": "python",
   "name": "python3"
  },
  "language_info": {
   "codemirror_mode": {
    "name": "ipython",
    "version": 3
   },
   "file_extension": ".py",
   "mimetype": "text/x-python",
   "name": "python",
   "nbconvert_exporter": "python",
   "pygments_lexer": "ipython3",
   "version": "3.6.5"
  }
 },
 "nbformat": 4,
 "nbformat_minor": 2
}
