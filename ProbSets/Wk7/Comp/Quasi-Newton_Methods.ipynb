{
 "cells": [
  {
   "cell_type": "code",
   "execution_count": 3,
   "metadata": {},
   "outputs": [],
   "source": [
    "import numpy as np\n",
    "import scipy.linalg as la\n",
    "import scipy.optimize as opt\n",
    "import time\n",
    "import matplotlib.pyplot as plt"
   ]
  },
  {
   "cell_type": "markdown",
   "metadata": {},
   "source": [
    "**Exercise 1**"
   ]
  },
  {
   "cell_type": "code",
   "execution_count": 4,
   "metadata": {},
   "outputs": [],
   "source": [
    "def newton_q1(Df, D2f, x0, maxiter=400, tol=1e-6):\n",
    "    x = x0\n",
    "    diff = 1e3\n",
    "    k = 0\n",
    "    \n",
    "    while diff > tol and k < maxiter:\n",
    "        Df_tilde = Df(x)\n",
    "        z = la.solve(D2f(x), Df_tilde.T)\n",
    "        x_tilde = x - z\n",
    "        diff = la.norm(Df_tilde, np.inf)\n",
    "        x = x_tilde\n",
    "        k += 1\n",
    "    \n",
    "    return x, k < maxiter, k"
   ]
  },
  {
   "cell_type": "code",
   "execution_count": 5,
   "metadata": {},
   "outputs": [
    {
     "data": {
      "text/plain": [
       "(array([1., 1.]), True, 6)"
      ]
     },
     "execution_count": 5,
     "metadata": {},
     "output_type": "execute_result"
    }
   ],
   "source": [
    "newton_q1(opt.rosen_der, opt.rosen_hess, [-2, 2])"
   ]
  },
  {
   "cell_type": "code",
   "execution_count": 6,
   "metadata": {},
   "outputs": [
    {
     "name": "stdout",
     "output_type": "stream",
     "text": [
      "Optimization terminated successfully.\n",
      "         Current function value: 0.000000\n",
      "         Iterations: 35\n",
      "         Function evaluations: 42\n",
      "         Gradient evaluations: 42\n"
     ]
    },
    {
     "data": {
      "text/plain": [
       "array([1.00000021, 1.00000045])"
      ]
     },
     "execution_count": 6,
     "metadata": {},
     "output_type": "execute_result"
    }
   ],
   "source": [
    "f = opt.rosen\n",
    "df = opt.rosen_der\n",
    "d2f = opt.rosen_hess\n",
    "opt.fmin_bfgs(f=f, x0=[-2,2], fprime=df, maxiter=50)"
   ]
  },
  {
   "cell_type": "markdown",
   "metadata": {},
   "source": [
    "**Exercise 2**"
   ]
  },
  {
   "cell_type": "code",
   "execution_count": 7,
   "metadata": {},
   "outputs": [],
   "source": [
    "def bfgs_q2(Df, x0, maxiter=400, tol=1e-6):\n",
    "\n",
    "    diff = 1e3 # The usual cirteria is not a good choice for BFGS - consider changing this\n",
    "    x = x0\n",
    "    k = 0\n",
    "    df = Df(x)\n",
    "    A0_inv = np.eye(len(x0))\n",
    "    \n",
    "    while diff > tol and k < maxiter:\n",
    "        x_tilde = x - A0_inv @ df.T # (12.6)\n",
    "        s = x_tilde - x\n",
    "        df_tilde = Df(x_tilde)\n",
    "        y = df_tilde - df\n",
    "        \n",
    "        if (s @ y) ** 2 == 0:\n",
    "            return False\n",
    "        \n",
    "        # (12.7)\n",
    "        Ainv_tilde = A0_inv + (s @ y + y @ A0_inv @ y) * np.outer(s, s) / \\\n",
    "        (s @ y)**2 - (A0_inv @ np.outer(y, s) + np.outer(s, y) @ A0_inv) / (s @ y)\n",
    "    \n",
    "        diff = la.norm(df_tilde, np.inf)\n",
    "        k += 1\n",
    "        \n",
    "        x = x_tilde\n",
    "        df = df_tilde\n",
    "        A0_inv = Ainv_tilde\n",
    "        \n",
    "    return x, k < maxiter, k"
   ]
  },
  {
   "cell_type": "code",
   "execution_count": 8,
   "metadata": {},
   "outputs": [
    {
     "data": {
      "text/plain": [
       "(array([1.0000001 , 1.00000019]), True, 145)"
      ]
     },
     "execution_count": 8,
     "metadata": {},
     "output_type": "execute_result"
    }
   ],
   "source": [
    "bfgs_q2(opt.rosen_der, [-2, 2])"
   ]
  },
  {
   "cell_type": "markdown",
   "metadata": {},
   "source": [
    "**Exercise 3**"
   ]
  },
  {
   "cell_type": "code",
   "execution_count": 63,
   "metadata": {},
   "outputs": [],
   "source": [
    "def plot_q3(N):\n",
    "    \n",
    "    newton_it = np.zeros(N)\n",
    "    newton_time = np.zeros(N, dtype=np.float64)\n",
    "    bfgs_it = np.zeros(N)\n",
    "    bfgs_time = np.zeros(N, dtype=np.float64)\n",
    "    scipy_it = np.zeros(N)\n",
    "    scipy_time = np.zeros(N, dtype=np.float64)\n",
    "    \n",
    "    \n",
    "    \n",
    "    for n in range(N):\n",
    "        x0 = np.random.uniform(-3, 3, size=2)\n",
    "        \n",
    "        newton_begin = time.time()\n",
    "        newton_it[n] = newton_q1(opt.rosen_der, opt.rosen_hess, x0)[-1]\n",
    "        newton_end = time.time() - newton_begin\n",
    "        newton_time[n] = newton_end\n",
    "        \n",
    "        bfgs_begin = time.time()\n",
    "        bfgs_it[n] = bfgs_q2(opt.rosen_der, x0)[-1]\n",
    "        bfgs_end = time.time() - bfgs_begin\n",
    "        bfgs_time[n] = bfgs_end\n",
    "        \n",
    "        scipy_begin = time.time()\n",
    "        scipy_it[n] = len(opt.fmin_bfgs(opt.rosen, x0, opt.rosen_der, \n",
    "                                        disp=False, retall=True)[-1])\n",
    "        scipy_end = time.time() - scipy_begin\n",
    "        scipy_time[n] = scipy_end\n",
    "    \n",
    "    plt.figure(figsize=(12, 7))\n",
    "    plt.scatter(newton_time, newton_it, alpha=0.4, label='Newton\\'s Method')\n",
    "    plt.scatter(bfgs_time, bfgs_it, alpha=0.4, label='BFGS')\n",
    "    plt.scatter(scipy_time, scipy_it, alpha=0.4, label='scipy.optimize.fmin_bfgs()')\n",
    "    plt.loglog()\n",
    "    plt.xlabel('Time (seconds)')\n",
    "    plt.ylabel('Iterations')\n",
    "    plt.legend()\n",
    "    plt.show()"
   ]
  },
  {
   "cell_type": "code",
   "execution_count": 64,
   "metadata": {},
   "outputs": [
    {
     "data": {
      "image/png": "[encoded data removed]",
      "text/plain": [
       "<Figure size 864x504 with 1 Axes>"
      ]
     },
     "metadata": {},
     "output_type": "display_data"
    }
   ],
   "source": [
    "plot_q3(100)"
   ]
  },
  {
   "cell_type": "markdown",
   "metadata": {},
   "source": [
    "**Exercise 4**"
   ]
  },
  {
   "cell_type": "code",
   "execution_count": 56,
   "metadata": {},
   "outputs": [],
   "source": [
    "def gaussnewt_q4(ϕ, r, J, x, maxiter=10000, tol=1e-6):\n",
    "   \n",
    "    converged = False\n",
    "    \n",
    "    x = x0\n",
    "    diff = tol + 1\n",
    "    it = 0\n",
    "    \n",
    "    while diff > tol and it < maxiter:\n",
    "        r = r(x)\n",
    "        J = J(x)\n",
    "        Df = J.T @ r\n",
    "        D2f = J.T @ J\n",
    "        z = np.linalg.solve(D2f, Df)\n",
    "        \n",
    "        x_tilde = x - z\n",
    "        err = np.linalg.norm(x_tilde - x, np.inf)\n",
    "        it += 1\n",
    "        x = x_tilde\n",
    "        \n",
    "    if it < maxiter:\n",
    "        converged = True\n",
    "        \n",
    "    return x, converged, it"
   ]
  },
  {
   "cell_type": "code",
   "execution_count": 57,
   "metadata": {},
   "outputs": [],
   "source": [
    "T = np.arange(10)\n",
    "y = 3*np.sin(0.5*T)+ 0.5*np.random.randn(10)\n",
    "\n",
    "model = lambda x, t: x[0]*np.sin(x[1]*t)\n",
    "residual = lambda x: model(x, T) - y\n",
    "jac = lambda x: np.column_stack((np.sin(x[1]*T), x[0]*T*np.cos(x[1]*T)))"
   ]
  },
  {
   "cell_type": "code",
   "execution_count": 61,
   "metadata": {},
   "outputs": [
    {
     "name": "stdout",
     "output_type": "stream",
     "text": [
      "(array([2.86123427, 0.53287597]), True, 5)\n",
      "(array([2.86123427, 0.53287597]), 1)\n"
     ]
    }
   ],
   "source": [
    "print(gnm(model, residual, jac, [2.5,.6], maxiter=10000, tol=1e-5))\n",
    "minx = opt.leastsq(func=residual, x0=np.array([2.5,.6]), Dfun=jac)\n",
    "print(minx)"
   ]
  },
  {
   "cell_type": "code",
   "execution_count": null,
   "metadata": {},
   "outputs": [],
   "source": []
  }
 ],
 "metadata": {
  "kernelspec": {
   "display_name": "Python 3",
   "language": "python",
   "name": "python3"
  },
  "language_info": {
   "codemirror_mode": {
    "name": "ipython",
    "version": 3
   },
   "file_extension": ".py",
   "mimetype": "text/x-python",
   "name": "python",
   "nbconvert_exporter": "python",
   "pygments_lexer": "ipython3",
   "version": "3.6.5"
  }
 },
 "nbformat": 4,
 "nbformat_minor": 2
}
