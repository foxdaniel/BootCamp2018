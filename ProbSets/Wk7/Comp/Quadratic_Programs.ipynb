{
 "cells": [
  {
   "cell_type": "code",
   "execution_count": 12,
   "metadata": {},
   "outputs": [],
   "source": [
    "import numpy as np\n",
    "import scipy.linalg as la\n",
    "from scipy.sparse import spdiags\n",
    "from matplotlib import pyplot as plt\n",
    "from mpl_toolkits.mplot3d import axes3d"
   ]
  },
  {
   "cell_type": "markdown",
   "metadata": {},
   "source": [
    "**Exercises 1 and 2**"
   ]
  },
  {
   "cell_type": "code",
   "execution_count": 13,
   "metadata": {},
   "outputs": [],
   "source": [
    "# Copy your interiorPoint() function from the previous lab into your \n",
    "# solutions file for this lab, renaming it qInteriorPoint().\n",
    "\n",
    "def qInteriorPoint(Q, c, A, b, guess, niter=20, tol=1e-16):\n",
    "    n = len(c)  # length of x, c, μ\n",
    "    m = len(b)  # length of b, y\n",
    "    \n",
    "    def F(x, y, μ):\n",
    "        M = μ * np.eye(m)\n",
    "        Y = y * np.eye(m)\n",
    "        e = np.ones(m)\n",
    "        r1 = np.array(Q @ x - A.T @ μ + c)\n",
    "        r2 = np.array(A @ x - y - b)\n",
    "        r3 = np.array(Y @ M @ e)\n",
    "        return np.concatenate((r1, r2, r3))\n",
    "    \n",
    "    σ = 1/10\n",
    "    \n",
    "    DFr1 = np.hstack((Q, np.zeros((n, m)), -A.T))\n",
    "    DFr2 = np.hstack((A, -np.identity(m), np.zeros((m, m))))\n",
    "    def DF(M, Y):\n",
    "        DFr3 = np.hstack((np.zeros((m, n)), M, Y))\n",
    "        return np.vstack((DFr1, DFr2, DFr3))\n",
    "    \n",
    "    k = 0\n",
    "    dist = 100\n",
    "    x, y, μ = startingPoint(Q, c, A, b, guess)\n",
    "    \n",
    "    while dist > tol and k < niter:\n",
    "        ν = (y @ μ) / m\n",
    "        e = np.ones(m)\n",
    "        M = μ * np.eye(m)\n",
    "        Y = y * np.eye(m)\n",
    "        \n",
    "        right = -F(x, y, μ) + np.concatenate((np.zeros(n + m), σ * ν * e))\n",
    "        lu, piv = la.lu_factor(DF(M, Y))\n",
    "        result = la.lu_solve((lu, piv), right)\n",
    "        \n",
    "        Δx = result[:n]\n",
    "        Δy = result[n:m+n]\n",
    "        Δμ = result[m+n:]\n",
    "        \n",
    "        # Maximum allowable step lengths\n",
    "        τ = 0.95\n",
    "        β_max = np.min([np.min(-μ[Δμ < 0] / Δμ[Δμ < 0]), 1.0])\n",
    "        δ_max = np.min([np.min(-y[Δy < 0] / Δy[Δy < 0]), 1.0])\n",
    "\n",
    "        β = np.min([1, τ * β_max])\n",
    "        δ = np.min([1, τ * δ_max])\n",
    "        α = np.min([β, δ])\n",
    "\n",
    "        x_tilde = x + α * Δx\n",
    "        y = y + α * Δy\n",
    "        μ = μ + α * Δμ\n",
    "        \n",
    "        dist = la.norm(x_tilde - x)\n",
    "        x = x_tilde\n",
    "        k += 1\n",
    "    return x"
   ]
  },
  {
   "cell_type": "code",
   "execution_count": 14,
   "metadata": {},
   "outputs": [],
   "source": [
    "def startingPoint(G, c, A, b, guess):\n",
    "    \"\"\"\n",
    "    Obtain an appropriate initial point for solving the QP\n",
    "    .5x\\trp Gx+x\\trp cs.t.Ax>=b. Parameters:\n",
    "        G -- symmetric positive semidefinite matrix shape (n,n)\n",
    "        c -- array of length n\n",
    "        A -- constraint matrix shape (m,n)\n",
    "        b -- array of length m\n",
    "        guess -- a tuple of arrays (x, y, l) of lengths n, m, and m, resp.\n",
    "    Returns:\n",
    "        a tuple of arrays (x0, y0, l0) of lengths n, m, and m, resp.\n",
    "    \"\"\"\n",
    "    m, n = A.shape\n",
    "    x0, y0, l0 = guess\n",
    "    # initialize linear system\n",
    "    N = np.zeros((n+m+m, n+m+m))\n",
    "    N[:n,:n] = G\n",
    "    N[:n, n+m:] = -A.T\n",
    "    N[n:n+m, :n] = A\n",
    "    N[n:n+m, n:n+m] = -np.eye(m)\n",
    "    N[n+m:, n:n+m] = np.diag(l0)\n",
    "    N[n+m:, n+m:] = np.diag(y0)\n",
    "    rhs = np.empty(n+m+m)\n",
    "    rhs[:n] = -(G.dot(x0) - A.T.dot(l0)+c)\n",
    "    rhs[n:n+m] = -(A.dot(x0) - y0 - b)\n",
    "    rhs[n+m:] = -(y0*l0)\n",
    "    sol = la.solve(N, rhs)\n",
    "    dx = sol[:n]\n",
    "    dy = sol[n:n+m]\n",
    "    dl = sol[n+m:]\n",
    "    y0 = np.maximum(1, np.abs(y0 + dy))\n",
    "    l0 = np.maximum(1, np.abs(l0+dl))\n",
    "    return x0, y0, l0"
   ]
  },
  {
   "cell_type": "code",
   "execution_count": 15,
   "metadata": {},
   "outputs": [],
   "source": [
    "# Objective function matrix Q, and vector c\n",
    "Q = np.array([[1, -1], \n",
    "              [-1, 2]])\n",
    "c = np.array([-2, -6])\n",
    "\n",
    "# The constraint matrix A and vector b\n",
    "A = np.array([[-1, -1], \n",
    "              [1, -2], \n",
    "              [-2, -1], \n",
    "              [1, 0], \n",
    "              [0, 1]])\n",
    "b = np.array([-2, -2, -3, 0, 0])\n",
    "\n",
    "m, n = A.shape\n",
    "x = np.array([0.5, 0.5]) # Initial guess\n",
    "y = np.ones(m)\n",
    "μ = np.ones(m)\n",
    "guess = (x, y, μ)"
   ]
  },
  {
   "cell_type": "code",
   "execution_count": 25,
   "metadata": {},
   "outputs": [
    {
     "name": "stdout",
     "output_type": "stream",
     "text": [
      "The optimal point is: [0.66666667 1.33333333]\n",
      "The correct minimizer is [2/3, 4/3]\n"
     ]
    }
   ],
   "source": [
    "optimal_pt = qInteriorPoint(Q, c, A, b, guess)\n",
    "print(\"The optimal point is:\", optimal_pt)\n",
    "print(\"The correct minimizer is [2/3, 4/3]\")"
   ]
  },
  {
   "cell_type": "markdown",
   "metadata": {},
   "source": [
    "Note that $[2/3, 4/3]=[0.66666667, 1.33333333]$"
   ]
  },
  {
   "cell_type": "markdown",
   "metadata": {},
   "source": [
    "**Exercise 3**"
   ]
  },
  {
   "cell_type": "code",
   "execution_count": 6,
   "metadata": {},
   "outputs": [],
   "source": [
    "def laplacian(n):\n",
    "    \"\"\"Construct the discrete Dirichlet energy matrix H for an n x n grid.\"\"\"\n",
    "    data = -1*np.ones((5, n**2))\n",
    "    data[2,:] = 4\n",
    "    data[1, n-1::n] = 0\n",
    "    data[3, ::n] = 0\n",
    "    diags = np.array([-n, -1, 0, 1, n])\n",
    "    return spdiags(data, diags, n**2, n**2).toarray()"
   ]
  },
  {
   "cell_type": "code",
   "execution_count": 7,
   "metadata": {},
   "outputs": [],
   "source": [
    "# Create the tent pole configuration.\n",
    "L = np.zeros((n,n))\n",
    "L[n//2-1:n//2+1,n//2-1:n//2+1] = .5\n",
    "m = [n//6-1, n//6, int(5*(n/6.))-1, int(5*(n/6.))]\n",
    "mask1, mask2 = np.meshgrid(m, m)\n",
    "L[mask1, mask2] = .3\n",
    "L = L.ravel()\n",
    "\n",
    "# Set initial guesses.\n",
    "x = np.ones((n,n)).ravel()\n",
    "y = np.ones(n**2)\n",
    "mu = np.ones(n**2)\n"
   ]
  },
  {
   "cell_type": "code",
   "execution_count": 8,
   "metadata": {},
   "outputs": [
    {
     "ename": "ValueError",
     "evalue": "all the input array dimensions except for the concatenation axis must match exactly",
     "output_type": "error",
     "traceback": [
      "\u001b[1;31m---------------------------------------------------------------------------\u001b[0m",
      "\u001b[1;31mValueError\u001b[0m                                Traceback (most recent call last)",
      "\u001b[1;32m<ipython-input-8-ff294cb6ddc1>\u001b[0m in \u001b[0;36m<module>\u001b[1;34m()\u001b[0m\n\u001b[0;32m      5\u001b[0m \u001b[1;33m\u001b[0m\u001b[0m\n\u001b[0;32m      6\u001b[0m \u001b[1;31m# Calculate the solution.\u001b[0m\u001b[1;33m\u001b[0m\u001b[1;33m\u001b[0m\u001b[0m\n\u001b[1;32m----> 7\u001b[1;33m \u001b[0mz\u001b[0m \u001b[1;33m=\u001b[0m \u001b[0mqInteriorPoint\u001b[0m\u001b[1;33m(\u001b[0m\u001b[0mH\u001b[0m\u001b[1;33m,\u001b[0m \u001b[0mc\u001b[0m\u001b[1;33m,\u001b[0m \u001b[0mA\u001b[0m\u001b[1;33m,\u001b[0m \u001b[0mL\u001b[0m\u001b[1;33m,\u001b[0m \u001b[1;33m(\u001b[0m\u001b[0mx\u001b[0m\u001b[1;33m,\u001b[0m\u001b[0my\u001b[0m\u001b[1;33m,\u001b[0m\u001b[0mμ\u001b[0m\u001b[1;33m)\u001b[0m\u001b[1;33m)\u001b[0m\u001b[1;33m[\u001b[0m\u001b[1;36m0\u001b[0m\u001b[1;33m]\u001b[0m\u001b[1;33m.\u001b[0m\u001b[0mreshape\u001b[0m\u001b[1;33m(\u001b[0m\u001b[1;33m(\u001b[0m\u001b[0mn\u001b[0m\u001b[1;33m,\u001b[0m\u001b[0mn\u001b[0m\u001b[1;33m)\u001b[0m\u001b[1;33m)\u001b[0m\u001b[1;33m\u001b[0m\u001b[0m\n\u001b[0m\u001b[0;32m      8\u001b[0m \u001b[1;33m\u001b[0m\u001b[0m\n\u001b[0;32m      9\u001b[0m \u001b[1;31m# Plot the solution.\u001b[0m\u001b[1;33m\u001b[0m\u001b[1;33m\u001b[0m\u001b[0m\n",
      "\u001b[1;32m<ipython-input-2-ff950a4bc208>\u001b[0m in \u001b[0;36mqInteriorPoint\u001b[1;34m(Q, c, A, b, guess, niter, tol)\u001b[0m\n\u001b[0;32m     17\u001b[0m     \u001b[0mσ\u001b[0m \u001b[1;33m=\u001b[0m \u001b[1;36m1\u001b[0m\u001b[1;33m/\u001b[0m\u001b[1;36m10\u001b[0m\u001b[1;33m\u001b[0m\u001b[0m\n\u001b[0;32m     18\u001b[0m \u001b[1;33m\u001b[0m\u001b[0m\n\u001b[1;32m---> 19\u001b[1;33m     \u001b[0mDFr1\u001b[0m \u001b[1;33m=\u001b[0m \u001b[0mnp\u001b[0m\u001b[1;33m.\u001b[0m\u001b[0mhstack\u001b[0m\u001b[1;33m(\u001b[0m\u001b[1;33m(\u001b[0m\u001b[0mQ\u001b[0m\u001b[1;33m,\u001b[0m \u001b[0mnp\u001b[0m\u001b[1;33m.\u001b[0m\u001b[0mzeros\u001b[0m\u001b[1;33m(\u001b[0m\u001b[1;33m(\u001b[0m\u001b[0mn\u001b[0m\u001b[1;33m,\u001b[0m \u001b[0mm\u001b[0m\u001b[1;33m)\u001b[0m\u001b[1;33m)\u001b[0m\u001b[1;33m,\u001b[0m \u001b[1;33m-\u001b[0m\u001b[0mA\u001b[0m\u001b[1;33m.\u001b[0m\u001b[0mT\u001b[0m\u001b[1;33m)\u001b[0m\u001b[1;33m)\u001b[0m\u001b[1;33m\u001b[0m\u001b[0m\n\u001b[0m\u001b[0;32m     20\u001b[0m     \u001b[0mDFr2\u001b[0m \u001b[1;33m=\u001b[0m \u001b[0mnp\u001b[0m\u001b[1;33m.\u001b[0m\u001b[0mhstack\u001b[0m\u001b[1;33m(\u001b[0m\u001b[1;33m(\u001b[0m\u001b[0mA\u001b[0m\u001b[1;33m,\u001b[0m \u001b[1;33m-\u001b[0m\u001b[0mnp\u001b[0m\u001b[1;33m.\u001b[0m\u001b[0midentity\u001b[0m\u001b[1;33m(\u001b[0m\u001b[0mm\u001b[0m\u001b[1;33m)\u001b[0m\u001b[1;33m,\u001b[0m \u001b[0mnp\u001b[0m\u001b[1;33m.\u001b[0m\u001b[0mzeros\u001b[0m\u001b[1;33m(\u001b[0m\u001b[1;33m(\u001b[0m\u001b[0mm\u001b[0m\u001b[1;33m,\u001b[0m \u001b[0mm\u001b[0m\u001b[1;33m)\u001b[0m\u001b[1;33m)\u001b[0m\u001b[1;33m)\u001b[0m\u001b[1;33m)\u001b[0m\u001b[1;33m\u001b[0m\u001b[0m\n\u001b[0;32m     21\u001b[0m     \u001b[1;32mdef\u001b[0m \u001b[0mDF\u001b[0m\u001b[1;33m(\u001b[0m\u001b[0mM\u001b[0m\u001b[1;33m,\u001b[0m \u001b[0mY\u001b[0m\u001b[1;33m)\u001b[0m\u001b[1;33m:\u001b[0m\u001b[1;33m\u001b[0m\u001b[0m\n",
      "\u001b[1;32m~\\AppData\\Local\\Continuum\\anaconda3\\lib\\site-packages\\numpy\\core\\shape_base.py\u001b[0m in \u001b[0;36mhstack\u001b[1;34m(tup)\u001b[0m\n\u001b[0;32m    286\u001b[0m         \u001b[1;32mreturn\u001b[0m \u001b[0m_nx\u001b[0m\u001b[1;33m.\u001b[0m\u001b[0mconcatenate\u001b[0m\u001b[1;33m(\u001b[0m\u001b[0marrs\u001b[0m\u001b[1;33m,\u001b[0m \u001b[1;36m0\u001b[0m\u001b[1;33m)\u001b[0m\u001b[1;33m\u001b[0m\u001b[0m\n\u001b[0;32m    287\u001b[0m     \u001b[1;32melse\u001b[0m\u001b[1;33m:\u001b[0m\u001b[1;33m\u001b[0m\u001b[0m\n\u001b[1;32m--> 288\u001b[1;33m         \u001b[1;32mreturn\u001b[0m \u001b[0m_nx\u001b[0m\u001b[1;33m.\u001b[0m\u001b[0mconcatenate\u001b[0m\u001b[1;33m(\u001b[0m\u001b[0marrs\u001b[0m\u001b[1;33m,\u001b[0m \u001b[1;36m1\u001b[0m\u001b[1;33m)\u001b[0m\u001b[1;33m\u001b[0m\u001b[0m\n\u001b[0m\u001b[0;32m    289\u001b[0m \u001b[1;33m\u001b[0m\u001b[0m\n\u001b[0;32m    290\u001b[0m \u001b[1;33m\u001b[0m\u001b[0m\n",
      "\u001b[1;31mValueError\u001b[0m: all the input array dimensions except for the concatenation axis must match exactly"
     ]
    }
   ],
   "source": [
    "n = 15\n",
    "H = laplacian(n) # Grid side length n = 15\n",
    "c = np.empty(n**2)\n",
    "c.fill(-(n - 1) ** -2)\n",
    "#A = ? \n",
    "# We defined A earlier, but what is the constraint matrix now?\n",
    "# is it the same?\n",
    "\n",
    "# Calculate the solution.\n",
    "z = qInteriorPoint(H, c, A, L, (x,y,μ))[0].reshape((n,n))\n",
    "\n",
    "# Plot the solution.\n",
    "domain = np.arange(n)\n",
    "X, Y = np.meshgrid(domain, domain)\n",
    "fig = plt.figure()\n",
    "ax1 = fig.add_subplot(111, projection='3d')\n",
    "ax1.plot_surface(X, Y, z, rstride=1, cstride=1, color='r')\n",
    "plt.show()\n"
   ]
  },
  {
   "cell_type": "code",
   "execution_count": 10,
   "metadata": {},
   "outputs": [],
   "source": [
    "# I am pretty sure the dimensions for H and c are right, but perhaps \n",
    "# the dimension of A is wrong. I did a few tests by changing\n",
    "# the dimension of A but still got the same error"
   ]
  },
  {
   "cell_type": "markdown",
   "metadata": {},
   "source": [
    "**Exercise 4**"
   ]
  },
  {
   "cell_type": "code",
   "execution_count": 26,
   "metadata": {},
   "outputs": [],
   "source": [
    "# Cannot complete because portfolio.txt is not saved in the course repository."
   ]
  }
 ],
 "metadata": {
  "kernelspec": {
   "display_name": "Python 3",
   "language": "python",
   "name": "python3"
  },
  "language_info": {
   "codemirror_mode": {
    "name": "ipython",
    "version": 3
   },
   "file_extension": ".py",
   "mimetype": "text/x-python",
   "name": "python",
   "nbconvert_exporter": "python",
   "pygments_lexer": "ipython3",
   "version": "3.6.5"
  }
 },
 "nbformat": 4,
 "nbformat_minor": 2
}
